{
 "cells": [
  {
   "cell_type": "code",
   "execution_count": 1,
   "id": "626ccd93-5d87-4f50-b5cc-9131387b2336",
   "metadata": {},
   "outputs": [
    {
     "name": "stdout",
     "output_type": "stream",
     "text": [
      "Requirement already satisfied: pandas in /Users/mauro.carrero/projects/jupyter-notebooks/venv/lib/python3.7/site-packages (1.3.2)\n",
      "Requirement already satisfied: python-dateutil>=2.7.3 in /Users/mauro.carrero/projects/jupyter-notebooks/venv/lib/python3.7/site-packages (from pandas) (2.8.2)\n",
      "Requirement already satisfied: numpy>=1.17.3 in /Users/mauro.carrero/projects/jupyter-notebooks/venv/lib/python3.7/site-packages (from pandas) (1.19.5)\n",
      "Requirement already satisfied: pytz>=2017.3 in /Users/mauro.carrero/projects/jupyter-notebooks/venv/lib/python3.7/site-packages (from pandas) (2021.1)\n",
      "Requirement already satisfied: six>=1.5 in /Users/mauro.carrero/projects/jupyter-notebooks/venv/lib/python3.7/site-packages (from python-dateutil>=2.7.3->pandas) (1.15.0)\n",
      "Note: you may need to restart the kernel to use updated packages.\n"
     ]
    }
   ],
   "source": [
    "pip install pandas"
   ]
  },
  {
   "cell_type": "code",
   "execution_count": 2,
   "id": "6d5697f7-8030-4e10-99d1-2bef6518046c",
   "metadata": {},
   "outputs": [],
   "source": [
    "import pandas as pd\n",
    "import re\n",
    "\n",
    "def parse_artifact_url(url):\n",
    "    parts = re.split('/', url)\n",
    "    parts.pop()\n",
    "    blacklist = ['- https:', '', 'repository.sabre-gcp.com', 'repository', 'maven-all']\n",
    "    whitelist = [part for part in parts if part not in blacklist]\n",
    "    version = whitelist.pop()\n",
    "    name = whitelist.pop()\n",
    "    group_id = '.'.join(whitelist)\n",
    "    return [group_id, name, version]\n",
    "\n",
    "def get_df(csv_file):\n",
    "    return pd.read_csv(csv_file, sep=',', header=None)"
   ]
  },
  {
   "cell_type": "code",
   "execution_count": 3,
   "id": "01c80d5c-c7c3-429e-a5fe-ce3ad092a154",
   "metadata": {},
   "outputs": [
    {
     "name": "stdout",
     "output_type": "stream",
     "text": [
      "../data/pending_artifacts.csv\n"
     ]
    }
   ],
   "source": [
    "artifacts_csv = '../data/pending_artifacts.csv'\n",
    "df = get_df(artifacts_csv)"
   ]
  },
  {
   "cell_type": "code",
   "execution_count": 4,
   "id": "77cdad59-719b-4c37-a060-0ff6e3de087b",
   "metadata": {},
   "outputs": [
    {
     "data": {
      "text/plain": [
       "Int64Index([0], dtype='int64')"
      ]
     },
     "execution_count": 4,
     "metadata": {},
     "output_type": "execute_result"
    }
   ],
   "source": [
    "df.columns"
   ]
  },
  {
   "cell_type": "code",
   "execution_count": 5,
   "id": "88e23d91-e203-4aab-95dc-1e8752ec31ff",
   "metadata": {},
   "outputs": [
    {
     "data": {
      "text/plain": [
       "['com.sabre.avif.ws.bindings', 'acsPassengerList', '1.0']"
      ]
     },
     "execution_count": 5,
     "metadata": {},
     "output_type": "execute_result"
    }
   ],
   "source": [
    "artifact_url = df.at[0,0]\n",
    "result = parse_artifact_url(artifact_url)\n",
    "result"
   ]
  },
  {
   "cell_type": "code",
   "execution_count": 18,
   "id": "31820411-2b91-449b-a97d-6bc3e072ed71",
   "metadata": {},
   "outputs": [
    {
     "data": {
      "text/plain": [
       "0      [com.sabre.avif.ws.bindings, acsPassengerList,...\n",
       "1      [com.sabre.avif.ws.bindings, displayInventoryR...\n",
       "2      [com.sabre.avif.ws.bindings, ice-core_9_4_0_5,...\n",
       "3      [com.sabre.avif.ws.bindings, inventoryControlF...\n",
       "4          [com.sabre.avif.ws.bindings, pubsubutil, 1.0]\n",
       "                             ...                        \n",
       "98     [com.sabre.avif.jaxb.bindings, schr006tp6_jul2...\n",
       "99     [com.sabre.avif.jaxb.bindings, trendmonitor, 5...\n",
       "100    [com.sabre.avif.jaxb.bindings, uaflifo, 5.34.0...\n",
       "101    [com.sabre.avif.jaxb.bindings, updatedscheduli...\n",
       "102    [com.sabre.avif.jaxb.bindings, updatedscheduli...\n",
       "Length: 103, dtype: object"
      ]
     },
     "execution_count": 18,
     "metadata": {},
     "output_type": "execute_result"
    }
   ],
   "source": [
    "artifacts = df.apply(lambda row: parse_artifact_url(row[0]), axis=1)\n",
    "artifacts"
   ]
  },
  {
   "cell_type": "code",
   "execution_count": 22,
   "id": "1f708d76-4102-4fed-be2f-34f3aadc8701",
   "metadata": {},
   "outputs": [
    {
     "data": {
      "text/html": [
       "<div>\n",
       "<style scoped>\n",
       "    .dataframe tbody tr th:only-of-type {\n",
       "        vertical-align: middle;\n",
       "    }\n",
       "\n",
       "    .dataframe tbody tr th {\n",
       "        vertical-align: top;\n",
       "    }\n",
       "\n",
       "    .dataframe thead th {\n",
       "        text-align: right;\n",
       "    }\n",
       "</style>\n",
       "<table border=\"1\" class=\"dataframe\">\n",
       "  <thead>\n",
       "    <tr style=\"text-align: right;\">\n",
       "      <th></th>\n",
       "      <th>group_id</th>\n",
       "      <th>name</th>\n",
       "      <th>version</th>\n",
       "    </tr>\n",
       "  </thead>\n",
       "  <tbody>\n",
       "    <tr>\n",
       "      <th>0</th>\n",
       "      <td>com.sabre.avif.ws.bindings</td>\n",
       "      <td>acsPassengerList</td>\n",
       "      <td>1.0</td>\n",
       "    </tr>\n",
       "    <tr>\n",
       "      <th>1</th>\n",
       "      <td>com.sabre.avif.ws.bindings</td>\n",
       "      <td>displayInventoryRecordLLS</td>\n",
       "      <td>1.0</td>\n",
       "    </tr>\n",
       "    <tr>\n",
       "      <th>2</th>\n",
       "      <td>com.sabre.avif.ws.bindings</td>\n",
       "      <td>ice-core_9_4_0_5</td>\n",
       "      <td>1.0</td>\n",
       "    </tr>\n",
       "    <tr>\n",
       "      <th>3</th>\n",
       "      <td>com.sabre.avif.ws.bindings</td>\n",
       "      <td>inventoryControlFlightDisplay_3_1_0</td>\n",
       "      <td>1.0</td>\n",
       "    </tr>\n",
       "    <tr>\n",
       "      <th>4</th>\n",
       "      <td>com.sabre.avif.ws.bindings</td>\n",
       "      <td>pubsubutil</td>\n",
       "      <td>1.0</td>\n",
       "    </tr>\n",
       "    <tr>\n",
       "      <th>...</th>\n",
       "      <td>...</td>\n",
       "      <td>...</td>\n",
       "      <td>...</td>\n",
       "    </tr>\n",
       "    <tr>\n",
       "      <th>98</th>\n",
       "      <td>com.sabre.avif.jaxb.bindings</td>\n",
       "      <td>schr006tp6_jul2012_internal</td>\n",
       "      <td>5.34.0-B824</td>\n",
       "    </tr>\n",
       "    <tr>\n",
       "      <th>99</th>\n",
       "      <td>com.sabre.avif.jaxb.bindings</td>\n",
       "      <td>trendmonitor</td>\n",
       "      <td>5.34.0-B824</td>\n",
       "    </tr>\n",
       "    <tr>\n",
       "      <th>100</th>\n",
       "      <td>com.sabre.avif.jaxb.bindings</td>\n",
       "      <td>uaflifo</td>\n",
       "      <td>5.34.0-B824</td>\n",
       "    </tr>\n",
       "    <tr>\n",
       "      <th>101</th>\n",
       "      <td>com.sabre.avif.jaxb.bindings</td>\n",
       "      <td>updatedschedulingeventinfo</td>\n",
       "      <td>5.34.0-B824</td>\n",
       "    </tr>\n",
       "    <tr>\n",
       "      <th>102</th>\n",
       "      <td>com.sabre.avif.jaxb.bindings</td>\n",
       "      <td>updatedschedulingprocessingresult</td>\n",
       "      <td>5.34.0-B824</td>\n",
       "    </tr>\n",
       "  </tbody>\n",
       "</table>\n",
       "<p>103 rows × 3 columns</p>\n",
       "</div>"
      ],
      "text/plain": [
       "                         group_id                                 name  \\\n",
       "0      com.sabre.avif.ws.bindings                     acsPassengerList   \n",
       "1      com.sabre.avif.ws.bindings            displayInventoryRecordLLS   \n",
       "2      com.sabre.avif.ws.bindings                     ice-core_9_4_0_5   \n",
       "3      com.sabre.avif.ws.bindings  inventoryControlFlightDisplay_3_1_0   \n",
       "4      com.sabre.avif.ws.bindings                           pubsubutil   \n",
       "..                            ...                                  ...   \n",
       "98   com.sabre.avif.jaxb.bindings          schr006tp6_jul2012_internal   \n",
       "99   com.sabre.avif.jaxb.bindings                         trendmonitor   \n",
       "100  com.sabre.avif.jaxb.bindings                              uaflifo   \n",
       "101  com.sabre.avif.jaxb.bindings           updatedschedulingeventinfo   \n",
       "102  com.sabre.avif.jaxb.bindings    updatedschedulingprocessingresult   \n",
       "\n",
       "         version  \n",
       "0            1.0  \n",
       "1            1.0  \n",
       "2            1.0  \n",
       "3            1.0  \n",
       "4            1.0  \n",
       "..           ...  \n",
       "98   5.34.0-B824  \n",
       "99   5.34.0-B824  \n",
       "100  5.34.0-B824  \n",
       "101  5.34.0-B824  \n",
       "102  5.34.0-B824  \n",
       "\n",
       "[103 rows x 3 columns]"
      ]
     },
     "execution_count": 22,
     "metadata": {},
     "output_type": "execute_result"
    }
   ],
   "source": [
    "columns = ['group_id', 'name', 'version']\n",
    "newdf = pd.DataFrame(artifacts.tolist(), columns=columns)\n",
    "newdf"
   ]
  },
  {
   "cell_type": "code",
   "execution_count": 26,
   "id": "6756ba90-35dd-4a9c-a5a9-7ba71b939bd2",
   "metadata": {},
   "outputs": [],
   "source": [
    "parsed_csv_file = '../data/pending_artifacts_parsed.csv'\n",
    "newdf.to_csv(parsed_csv_file, index=False)"
   ]
  }
 ],
 "metadata": {
  "kernelspec": {
   "display_name": "Python 3",
   "language": "python",
   "name": "python3"
  },
  "language_info": {
   "codemirror_mode": {
    "name": "ipython",
    "version": 3
   },
   "file_extension": ".py",
   "mimetype": "text/x-python",
   "name": "python",
   "nbconvert_exporter": "python",
   "pygments_lexer": "ipython3",
   "version": "3.7.9"
  }
 },
 "nbformat": 4,
 "nbformat_minor": 5
}
