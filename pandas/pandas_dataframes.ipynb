{
 "cells": [
  {
   "cell_type": "code",
   "execution_count": 1,
   "id": "d58db4a5-b1bd-44ac-874a-1829ee83ed8d",
   "metadata": {},
   "outputs": [
    {
     "name": "stdout",
     "output_type": "stream",
     "text": [
      "Collecting pandas\n",
      "  Downloading pandas-1.3.2-cp39-cp39-macosx_10_9_x86_64.whl (11.6 MB)\n",
      "\u001b[K     |████████████████████████████████| 11.6 MB 2.9 MB/s eta 0:00:01\n",
      "\u001b[?25hRequirement already satisfied: pytz>=2017.3 in /usr/local/Cellar/jupyterlab/3.1.9/libexec/lib/python3.9/site-packages (from pandas) (2021.1)\n",
      "Collecting numpy>=1.17.3\n",
      "  Downloading numpy-1.21.2-cp39-cp39-macosx_10_9_x86_64.whl (17.0 MB)\n",
      "\u001b[K     |████████████████████████████████| 17.0 MB 3.1 MB/s eta 0:00:01\n",
      "\u001b[?25hRequirement already satisfied: python-dateutil>=2.7.3 in /usr/local/Cellar/jupyterlab/3.1.9/libexec/lib/python3.9/site-packages (from pandas) (2.8.2)\n",
      "Requirement already satisfied: six>=1.5 in /usr/local/Cellar/jupyterlab/3.1.9/libexec/lib/python3.9/site-packages (from python-dateutil>=2.7.3->pandas) (1.16.0)\n",
      "Installing collected packages: numpy, pandas\n",
      "Successfully installed numpy-1.21.2 pandas-1.3.2\n",
      "\u001b[33mWARNING: You are using pip version 21.1.3; however, version 21.2.4 is available.\n",
      "You should consider upgrading via the '/usr/local/Cellar/jupyterlab/3.1.9/libexec/bin/python3.9 -m pip install --upgrade pip' command.\u001b[0m\n",
      "Note: you may need to restart the kernel to use updated packages.\n"
     ]
    }
   ],
   "source": [
    "pip install pandas"
   ]
  },
  {
   "cell_type": "code",
   "execution_count": 3,
   "id": "1194196d-66fb-4c99-8aea-988862170c1b",
   "metadata": {},
   "outputs": [],
   "source": [
    "import pandas as pd"
   ]
  },
  {
   "cell_type": "code",
   "execution_count": 4,
   "id": "b6ef5283-90f3-4a18-b39f-d4499b9c1c01",
   "metadata": {},
   "outputs": [],
   "source": [
    "df = pd.read_csv(\"data/actos_vacunales.csv\", sep=\";\")"
   ]
  },
  {
   "cell_type": "code",
   "execution_count": 5,
   "id": "62d3153a-d59b-4f7a-ac55-6f4f83764d76",
   "metadata": {},
   "outputs": [
    {
     "data": {
      "text/plain": [
       "Index(['Fecha', 'Total Dosis 1', 'Total Dosis 2', 'Total Dosis R',\n",
       "       '1era Dosis Sinovac', '2da Dosis Sinovac', 'Refuerzo Dosis Sinovac',\n",
       "       '1era Dosis Pfizer', '2da Dosis Pfizer', 'Refuerzo Dosis Pfizer',\n",
       "       '1era Dosis Astrazeneca', '2da Dosis Astrazeneca',\n",
       "       'Refuerzo Dosis Astrazeneca', 'Montevideo Dosis 1',\n",
       "       'Montevideo Dosis 2', 'Montevideo Dosis R', 'Artigas Dosis 1',\n",
       "       'Artigas Dosis 2', 'Artigas Dosis R', 'Canelones Dosis 1',\n",
       "       'Canelones Dosis 2', 'Canelones Dosis R', 'Cerro Largo Dosis 1',\n",
       "       'Cerro Largo Dosis 2', 'Cerro Largo Dosis R', 'Colonia Dosis 1',\n",
       "       'Colonia Dosis 2', 'Colonia Dosis R', 'Durazno Dosis 1',\n",
       "       'Durazno Dosis 2', 'Durazno Dosis R', 'Flores Dosis 1',\n",
       "       'Flores Dosis 2', 'Flores Dosis R', 'Florida Dosis 1',\n",
       "       'Florida Dosis 2', 'Florida Dosis R', 'Lavalleja Dosis 1',\n",
       "       'Lavalleja Dosis 2', 'Lavalleja Dosis R', 'Maldonado Dosis 1',\n",
       "       'Maldonado Dosis 2', 'Maldonado Dosis R', 'Paysandú Dosis 1',\n",
       "       'Paysandú Dosis 2', 'Paysandú Dosis R', 'Río Negro Dosis 1',\n",
       "       'Río Negro Dosis 2', 'Río Negro Dosis R', 'Rivera Dosis 1',\n",
       "       'Rivera Dosis 2', 'Rivera Dosis R', 'Rocha Dosis 1', 'Rocha Dosis 2',\n",
       "       'Rocha Dosis R', 'Salto Dosis 1', 'Salto Dosis 2', 'Salto Dosis R',\n",
       "       'San José Dosis 1', 'San José Dosis 2', 'San José Dosis R',\n",
       "       'Soriano Dosis 1', 'Soriano Dosis 2', 'Soriano Dosis R',\n",
       "       'Tacuarembó Dosis 1', 'Tacuarembó Dosis 2', 'Tacuarembó Dosis R',\n",
       "       'Treinta y Tres Dosis 1', 'Treinta y Tres Dosis 2',\n",
       "       'Treinta y Tres Dosis R', 'Departamento Sin Datos',\n",
       "       'Rango 12-14 Dosis 1', 'Rango 12-14 Dosis 2', 'Rango 12-14 Dosis R',\n",
       "       'Rango 15-19 Dosis 1', 'Rango 15-19 Dosis 2', 'Rango 15-19 Dosis R',\n",
       "       'Rango 20-24 Dosis 1', 'Rango 20-24 Dosis 2', 'Rango 20-24 Dosis R',\n",
       "       'Rango 25-34 Dosis 1', 'Rango 25-34 Dosis 2', 'Rango 25-34 Dosis R',\n",
       "       'Rango 35-44 Dosis 1', 'Rango 35-44 Dosis 2', 'Rango 35-44 Dosis R',\n",
       "       'Rango 45-54 Dosis 1', 'Rango 45-54 Dosis 2', 'Rango 45-54 Dosis R',\n",
       "       'Rango 55-64 Dosis 1', 'Rango 55-64 Dosis 2', 'Rango 55-64 Dosis R',\n",
       "       'Rango 65-74 Dosis 1', 'Rango 65-74 Dosis 2', 'Rango 65-74 Dosis R',\n",
       "       'Rango Mayor 75 Dosis 1', 'Rango Mayor 75 Dosis 2',\n",
       "       'Rango Mayor 75 Dosis R', 'Rango Sin Datos'],\n",
       "      dtype='object')"
      ]
     },
     "execution_count": 5,
     "metadata": {},
     "output_type": "execute_result"
    }
   ],
   "source": [
    "df.columns"
   ]
  },
  {
   "cell_type": "code",
   "execution_count": 6,
   "id": "18c4f168-5cd9-457e-944e-42090d634422",
   "metadata": {},
   "outputs": [
    {
     "data": {
      "text/html": [
       "<div>\n",
       "<style scoped>\n",
       "    .dataframe tbody tr th:only-of-type {\n",
       "        vertical-align: middle;\n",
       "    }\n",
       "\n",
       "    .dataframe tbody tr th {\n",
       "        vertical-align: top;\n",
       "    }\n",
       "\n",
       "    .dataframe thead th {\n",
       "        text-align: right;\n",
       "    }\n",
       "</style>\n",
       "<table border=\"1\" class=\"dataframe\">\n",
       "  <thead>\n",
       "    <tr style=\"text-align: right;\">\n",
       "      <th></th>\n",
       "      <th>Fecha</th>\n",
       "      <th>Montevideo Dosis 1</th>\n",
       "      <th>Montevideo Dosis 2</th>\n",
       "      <th>Montevideo Dosis R</th>\n",
       "      <th>Rango 45-54 Dosis 1</th>\n",
       "    </tr>\n",
       "  </thead>\n",
       "  <tbody>\n",
       "    <tr>\n",
       "      <th>0</th>\n",
       "      <td>01/09/2021</td>\n",
       "      <td>429</td>\n",
       "      <td>1761</td>\n",
       "      <td>14274</td>\n",
       "      <td>472</td>\n",
       "    </tr>\n",
       "    <tr>\n",
       "      <th>1</th>\n",
       "      <td>31/08/2021</td>\n",
       "      <td>538</td>\n",
       "      <td>2700</td>\n",
       "      <td>17919</td>\n",
       "      <td>555</td>\n",
       "    </tr>\n",
       "    <tr>\n",
       "      <th>2</th>\n",
       "      <td>30/08/2021</td>\n",
       "      <td>681</td>\n",
       "      <td>2497</td>\n",
       "      <td>18894</td>\n",
       "      <td>742</td>\n",
       "    </tr>\n",
       "    <tr>\n",
       "      <th>3</th>\n",
       "      <td>29/08/2021</td>\n",
       "      <td>1</td>\n",
       "      <td>2</td>\n",
       "      <td>104</td>\n",
       "      <td>0</td>\n",
       "    </tr>\n",
       "    <tr>\n",
       "      <th>4</th>\n",
       "      <td>28/08/2021</td>\n",
       "      <td>49</td>\n",
       "      <td>1591</td>\n",
       "      <td>2408</td>\n",
       "      <td>33</td>\n",
       "    </tr>\n",
       "  </tbody>\n",
       "</table>\n",
       "</div>"
      ],
      "text/plain": [
       "        Fecha  Montevideo Dosis 1  Montevideo Dosis 2  Montevideo Dosis R  \\\n",
       "0  01/09/2021                 429                1761               14274   \n",
       "1  31/08/2021                 538                2700               17919   \n",
       "2  30/08/2021                 681                2497               18894   \n",
       "3  29/08/2021                   1                   2                 104   \n",
       "4  28/08/2021                  49                1591                2408   \n",
       "\n",
       "   Rango 45-54 Dosis 1  \n",
       "0                  472  \n",
       "1                  555  \n",
       "2                  742  \n",
       "3                    0  \n",
       "4                   33  "
      ]
     },
     "execution_count": 6,
     "metadata": {},
     "output_type": "execute_result"
    }
   ],
   "source": [
    "df[[\"Fecha\", \"Montevideo Dosis 1\", \"Montevideo Dosis 2\", \"Montevideo Dosis R\", \"Rango 45-54 Dosis 1\"]].head()"
   ]
  }
 ],
 "metadata": {
  "kernelspec": {
   "display_name": "Python 3 (ipykernel)",
   "language": "python",
   "name": "python3"
  },
  "language_info": {
   "codemirror_mode": {
    "name": "ipython",
    "version": 3
   },
   "file_extension": ".py",
   "mimetype": "text/x-python",
   "name": "python",
   "nbconvert_exporter": "python",
   "pygments_lexer": "ipython3",
   "version": "3.9.6"
  }
 },
 "nbformat": 4,
 "nbformat_minor": 5
}
