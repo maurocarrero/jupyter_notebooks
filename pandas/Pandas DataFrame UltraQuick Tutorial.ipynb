{
 "cells": [
  {
   "cell_type": "markdown",
   "id": "c26d78bc-851a-4d59-b6d8-1c08a5d9b660",
   "metadata": {},
   "source": [
    "# Pandas Ultra Quick Tutorial\n",
    "[REF](https://colab.research.google.com/github/google/eng-edu/blob/main/ml/cc/exercises/pandas_dataframe_ultraquick_tutorial.ipynb?utm_source=mlcc&utm_campaign=colab-external&utm_medium=referral&utm_content=pandas_tf2-colab&hl=en)"
   ]
  },
  {
   "cell_type": "code",
   "execution_count": null,
   "id": "c2c71172-603b-499a-a2fd-49754a67791d",
   "metadata": {},
   "outputs": [],
   "source": [
    "import numpy as np\n",
    "import pandas as pd"
   ]
  },
  {
   "cell_type": "code",
   "execution_count": null,
   "id": "47999f73-81b1-42e1-80b6-5796df7357e4",
   "metadata": {},
   "outputs": [],
   "source": [
    "data = np.array([[0, 3], [10, 7], [20, 9], [30, 14], [40, 15]])\n",
    "columns = [\"temperature\", \"activity\"]\n",
    "df = pd.DataFrame(data=data,columns=columns)\n",
    "df.head()"
   ]
  },
  {
   "cell_type": "code",
   "execution_count": null,
   "id": "e5d8b23c-31a5-42a7-8ba5-0fa912b87e06",
   "metadata": {},
   "outputs": [],
   "source": [
    "df[\"adjusted\"] = df[\"activity\"] + 2\n",
    "df.head()"
   ]
  },
  {
   "cell_type": "code",
   "execution_count": null,
   "id": "e2797bb0-9fce-48c5-8049-7b2dec204744",
   "metadata": {},
   "outputs": [],
   "source": [
    "df.head(3)"
   ]
  },
  {
   "cell_type": "code",
   "execution_count": null,
   "id": "59d8009c-c01a-4096-925e-2b64621e5313",
   "metadata": {},
   "outputs": [],
   "source": [
    "df.iloc[2]"
   ]
  },
  {
   "cell_type": "code",
   "execution_count": null,
   "id": "d4922780-ee77-4f71-a57a-30d3af99f77f",
   "metadata": {},
   "outputs": [],
   "source": [
    "df[1:3]"
   ]
  },
  {
   "cell_type": "code",
   "execution_count": null,
   "id": "012b6e81-26f6-48b1-beb4-927a4da6919d",
   "metadata": {},
   "outputs": [],
   "source": [
    "df[\"temperature\"]"
   ]
  },
  {
   "cell_type": "code",
   "execution_count": null,
   "id": "b3844052-356d-474f-b5c6-049980a77024",
   "metadata": {},
   "outputs": [],
   "source": [
    "data = np.random.randint(low=0,high=101,size=[3,4])\n",
    "columns = [\"Eleanor\", \"Chidi\", \"Tahani\", \"Jason\"]\n",
    "df = pd.DataFrame(data=data, columns=columns)\n",
    "df"
   ]
  },
  {
   "cell_type": "code",
   "execution_count": null,
   "id": "5c8350a5-dffe-48db-baca-51e6f347dfa6",
   "metadata": {},
   "outputs": [],
   "source": [
    "df[\"Eleanor\"][1]"
   ]
  },
  {
   "cell_type": "code",
   "execution_count": null,
   "id": "33076a0a-e938-46a8-b3c5-87e91ba6290e",
   "metadata": {},
   "outputs": [],
   "source": [
    "df[\"Janet\"] = df[\"Tahani\"] + df[\"Jason\"]\n",
    "df.head()"
   ]
  },
  {
   "cell_type": "code",
   "execution_count": null,
   "id": "c7334257-c3f8-4c99-a109-b7312a18bad3",
   "metadata": {},
   "outputs": [],
   "source": [
    "# References\n",
    "ref_df = df\n",
    "print(\"DataFrame Reference\")\n",
    "print(\"--- df starting value: %s\" % df[\"Jason\"][2])\n",
    "print(\"--- ref_df starting value: %s\" % ref_df[\"Jason\"][2])\n",
    "\n",
    "df.at[2, \"Jason\"] = df[\"Jason\"][2] + 3\n",
    "\n",
    "print(\"--- df updated: %s\" % df[\"Jason\"][2])\n",
    "print(\"--- ref_df unwanted mutation: %s\" % ref_df[\"Jason\"][2])"
   ]
  },
  {
   "cell_type": "code",
   "execution_count": null,
   "id": "b417a4ce-025f-421c-b056-f72ff8af98ca",
   "metadata": {},
   "outputs": [],
   "source": [
    "df_copy = pd.DataFrame.copy(df)\n",
    "df_other_copy = df.copy()\n",
    "\n",
    "print(\"Dataframe Copy\")\n",
    "print(\"--- df starting value: %s\" % df[\"Jason\"][2])\n",
    "print(\"--- df_copy starting value: %s\" % df_copy[\"Jason\"][2])\n",
    "print(\"--- df_other_copy starting value: %s\" % df_other_copy[\"Jason\"][2])\n",
    "\n",
    "df.at[2, \"Jason\"] = df[\"Jason\"][2] + 3\n",
    "\n",
    "print(\"--- df updated: %s\" % df[\"Jason\"][2])\n",
    "print(\"--- df_copy: %s\" % df_copy[\"Jason\"][2])\n",
    "print(\"--- df_other_copy: %s\" % df_other_copy[\"Jason\"][2])"
   ]
  },
  {
   "cell_type": "code",
   "execution_count": null,
   "id": "ee7738be-d640-40b7-a2c9-490b7423b3b8",
   "metadata": {},
   "outputs": [],
   "source": []
  }
 ],
 "metadata": {
  "interpreter": {
   "hash": "9f2f4800c7ad192d932d23579e35526ed7ad47127090a83a548907921b6178e0"
  },
  "kernelspec": {
   "display_name": "Python 3.7.3 64-bit ('venv': venv)",
   "name": "python3"
  },
  "language_info": {
   "codemirror_mode": {
    "name": "ipython",
    "version": 3
   },
   "file_extension": ".py",
   "mimetype": "text/x-python",
   "name": "python",
   "nbconvert_exporter": "python",
   "pygments_lexer": "ipython3",
   "version": "3.7.3"
  }
 },
 "nbformat": 4,
 "nbformat_minor": 5
}
