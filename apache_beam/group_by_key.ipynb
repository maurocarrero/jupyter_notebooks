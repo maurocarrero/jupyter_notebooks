{
 "cells": [
  {
   "cell_type": "code",
   "execution_count": null,
   "metadata": {},
   "outputs": [],
   "source": [
    "!pip install --upgrade apache-beam"
   ]
  },
  {
   "cell_type": "code",
   "execution_count": null,
   "metadata": {},
   "outputs": [],
   "source": [
    "import logging\n",
    "import apache_beam as beam\n",
    "\n",
    "root = logging.getLogger()\n",
    "root.setLevel(logging.INFO)\n",
    "\n",
    "\n",
    "class SplitRow(beam.DoFn):\n",
    "    def process(self, element):\n",
    "        return [element.split(\",\")]\n",
    "\n",
    "\n",
    "class ByState(beam.DoFn):\n",
    "    def process(self, element):\n",
    "        return [(element[4], element[0])]\n",
    "\n",
    "\n",
    "def log_output(o):\n",
    "    logging.info(o)\n"
   ]
  },
  {
   "cell_type": "code",
   "execution_count": null,
   "metadata": {},
   "outputs": [],
   "source": [
    "class PrepareOutput(beam.DoFn):\n",
    "    def process(self, element):\n",
    "        (state, users) = element\n",
    "        return [\"{state}: {qty}\".format(state=state, qty=len(users))]\n",
    "\n",
    "\n",
    "p1 = beam.Pipeline()\n",
    "\n",
    "(\n",
    "    p1\n",
    "    | beam.io.ReadFromText(\"../data/data.csv\", skip_header_lines=1)\n",
    "    | beam.ParDo(SplitRow())\n",
    "    | beam.ParDo(ByState())\n",
    "    # Using GroupByKey and summ\n",
    "    | beam.GroupByKey()\n",
    "    | beam.ParDo(PrepareOutput())\n",
    "    ###\n",
    "    | beam.Map(log_output)\n",
    ")\n",
    "\n",
    "p1.run()\n"
   ]
  },
  {
   "cell_type": "code",
   "execution_count": null,
   "metadata": {},
   "outputs": [],
   "source": [
    "p2 = beam.Pipeline()\n",
    "\n",
    "(\n",
    "    p2\n",
    "    | beam.io.ReadFromText(\"../data/data.csv\", skip_header_lines=1)\n",
    "    | beam.ParDo(SplitRow())\n",
    "    | beam.ParDo(ByState())\n",
    "    # Using Combine\n",
    "    | beam.CombinePerKey(beam.combiners.CountCombineFn())\n",
    "    ###\n",
    "    | beam.Map(log_output)\n",
    ")\n",
    "\n",
    "p2.run()\n"
   ]
  },
  {
   "cell_type": "code",
   "execution_count": null,
   "metadata": {},
   "outputs": [],
   "source": []
  }
 ],
 "metadata": {
  "interpreter": {
   "hash": "9f2f4800c7ad192d932d23579e35526ed7ad47127090a83a548907921b6178e0"
  },
  "kernelspec": {
   "display_name": "Python 3.7.3 64-bit ('venv': venv)",
   "name": "python3"
  },
  "language_info": {
   "codemirror_mode": {
    "name": "ipython",
    "version": 3
   },
   "file_extension": ".py",
   "mimetype": "text/x-python",
   "name": "python",
   "nbconvert_exporter": "python",
   "pygments_lexer": "ipython3",
   "version": "3.7.3"
  },
  "orig_nbformat": 4
 },
 "nbformat": 4,
 "nbformat_minor": 2
}
