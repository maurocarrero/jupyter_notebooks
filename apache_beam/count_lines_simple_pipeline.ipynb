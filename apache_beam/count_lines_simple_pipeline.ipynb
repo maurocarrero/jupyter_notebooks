{
 "cells": [
  {
   "cell_type": "code",
   "execution_count": 1,
   "id": "a69562a8-4736-4e19-a19f-68160f32c3f7",
   "metadata": {},
   "outputs": [
    {
     "name": "stdout",
     "output_type": "stream",
     "text": [
      "Requirement already satisfied: apache-beam[interactive] in /Users/mauro.carrero/projects/jupyter-notebooks/venv/lib/python3.7/site-packages (2.32.0)\n",
      "Requirement already satisfied: grpcio<2,>=1.29.0 in /Users/mauro.carrero/projects/jupyter-notebooks/venv/lib/python3.7/site-packages (from apache-beam[interactive]) (1.39.0)\n",
      "Requirement already satisfied: dill<0.3.2,>=0.3.1.1 in /Users/mauro.carrero/projects/jupyter-notebooks/venv/lib/python3.7/site-packages (from apache-beam[interactive]) (0.3.1.1)\n",
      "Requirement already satisfied: protobuf<4,>=3.12.2 in /Users/mauro.carrero/projects/jupyter-notebooks/venv/lib/python3.7/site-packages (from apache-beam[interactive]) (3.17.3)\n",
      "Requirement already satisfied: pydot<2,>=1.2.0 in /Users/mauro.carrero/projects/jupyter-notebooks/venv/lib/python3.7/site-packages (from apache-beam[interactive]) (1.4.2)\n",
      "Requirement already satisfied: hdfs<3.0.0,>=2.1.0 in /Users/mauro.carrero/projects/jupyter-notebooks/venv/lib/python3.7/site-packages (from apache-beam[interactive]) (2.6.0)\n",
      "Requirement already satisfied: pytz>=2018.3 in /Users/mauro.carrero/projects/jupyter-notebooks/venv/lib/python3.7/site-packages (from apache-beam[interactive]) (2021.1)\n",
      "Requirement already satisfied: fastavro<2,>=0.21.4 in /Users/mauro.carrero/projects/jupyter-notebooks/venv/lib/python3.7/site-packages (from apache-beam[interactive]) (1.4.5)\n",
      "Requirement already satisfied: numpy<1.21.0,>=1.14.3 in /Users/mauro.carrero/projects/jupyter-notebooks/venv/lib/python3.7/site-packages (from apache-beam[interactive]) (1.20.3)\n",
      "Requirement already satisfied: crcmod<2.0,>=1.7 in /Users/mauro.carrero/projects/jupyter-notebooks/venv/lib/python3.7/site-packages (from apache-beam[interactive]) (1.7)\n",
      "Requirement already satisfied: requests<3.0.0,>=2.24.0 in /Users/mauro.carrero/projects/jupyter-notebooks/venv/lib/python3.7/site-packages (from apache-beam[interactive]) (2.26.0)\n",
      "Requirement already satisfied: oauth2client<5,>=2.0.1 in /Users/mauro.carrero/projects/jupyter-notebooks/venv/lib/python3.7/site-packages (from apache-beam[interactive]) (4.1.3)\n",
      "Requirement already satisfied: typing-extensions<3.8.0,>=3.7.0 in /Users/mauro.carrero/projects/jupyter-notebooks/venv/lib/python3.7/site-packages (from apache-beam[interactive]) (3.7.4.3)\n",
      "Requirement already satisfied: pymongo<4.0.0,>=3.8.0 in /Users/mauro.carrero/projects/jupyter-notebooks/venv/lib/python3.7/site-packages (from apache-beam[interactive]) (3.12.0)\n",
      "Requirement already satisfied: python-dateutil<3,>=2.8.0 in /Users/mauro.carrero/projects/jupyter-notebooks/venv/lib/python3.7/site-packages (from apache-beam[interactive]) (2.8.2)\n",
      "Requirement already satisfied: httplib2<0.20.0,>=0.8 in /Users/mauro.carrero/projects/jupyter-notebooks/venv/lib/python3.7/site-packages (from apache-beam[interactive]) (0.19.1)\n",
      "Requirement already satisfied: orjson<4.0 in /Users/mauro.carrero/projects/jupyter-notebooks/venv/lib/python3.7/site-packages (from apache-beam[interactive]) (3.6.3)\n",
      "Requirement already satisfied: avro-python3!=1.9.2,<1.10.0,>=1.8.1 in /Users/mauro.carrero/projects/jupyter-notebooks/venv/lib/python3.7/site-packages (from apache-beam[interactive]) (1.9.2.1)\n",
      "Requirement already satisfied: future<1.0.0,>=0.18.2 in /Users/mauro.carrero/projects/jupyter-notebooks/venv/lib/python3.7/site-packages (from apache-beam[interactive]) (0.18.2)\n",
      "Requirement already satisfied: pyarrow<5.0.0,>=0.15.1 in /Users/mauro.carrero/projects/jupyter-notebooks/venv/lib/python3.7/site-packages (from apache-beam[interactive]) (4.0.1)\n",
      "Requirement already satisfied: ipython<8,>=5.8.0 in /Users/mauro.carrero/projects/jupyter-notebooks/venv/lib/python3.7/site-packages (from apache-beam[interactive]) (7.27.0)\n",
      "Requirement already satisfied: timeloop<2,>=1.0.2 in /Users/mauro.carrero/projects/jupyter-notebooks/venv/lib/python3.7/site-packages (from apache-beam[interactive]) (1.0.2)\n",
      "Requirement already satisfied: facets-overview<2,>=1.0.0 in /Users/mauro.carrero/projects/jupyter-notebooks/venv/lib/python3.7/site-packages (from apache-beam[interactive]) (1.0.0)\n",
      "Requirement already satisfied: ipykernel<6,>=5.2.0 in /Users/mauro.carrero/projects/jupyter-notebooks/venv/lib/python3.7/site-packages (from apache-beam[interactive]) (5.5.5)\n",
      "Requirement already satisfied: jupyter-client<6.1.13,>=6.1.11 in /Users/mauro.carrero/projects/jupyter-notebooks/venv/lib/python3.7/site-packages (from apache-beam[interactive]) (6.1.12)\n",
      "Requirement already satisfied: pandas>=0.22.0 in /Users/mauro.carrero/projects/jupyter-notebooks/venv/lib/python3.7/site-packages (from facets-overview<2,>=1.0.0->apache-beam[interactive]) (1.3.2)\n",
      "Requirement already satisfied: six>=1.5.2 in /Users/mauro.carrero/projects/jupyter-notebooks/venv/lib/python3.7/site-packages (from grpcio<2,>=1.29.0->apache-beam[interactive]) (1.16.0)\n",
      "Requirement already satisfied: docopt in /Users/mauro.carrero/projects/jupyter-notebooks/venv/lib/python3.7/site-packages (from hdfs<3.0.0,>=2.1.0->apache-beam[interactive]) (0.6.2)\n",
      "Requirement already satisfied: pyparsing<3,>=2.4.2 in /Users/mauro.carrero/projects/jupyter-notebooks/venv/lib/python3.7/site-packages (from httplib2<0.20.0,>=0.8->apache-beam[interactive]) (2.4.7)\n",
      "Requirement already satisfied: tornado>=4.2 in /Users/mauro.carrero/projects/jupyter-notebooks/venv/lib/python3.7/site-packages (from ipykernel<6,>=5.2.0->apache-beam[interactive]) (6.1)\n",
      "Requirement already satisfied: appnope in /Users/mauro.carrero/projects/jupyter-notebooks/venv/lib/python3.7/site-packages (from ipykernel<6,>=5.2.0->apache-beam[interactive]) (0.1.2)\n",
      "Requirement already satisfied: traitlets>=4.1.0 in /Users/mauro.carrero/projects/jupyter-notebooks/venv/lib/python3.7/site-packages (from ipykernel<6,>=5.2.0->apache-beam[interactive]) (5.1.0)\n",
      "Requirement already satisfied: pickleshare in /Users/mauro.carrero/projects/jupyter-notebooks/venv/lib/python3.7/site-packages (from ipython<8,>=5.8.0->apache-beam[interactive]) (0.7.5)\n",
      "Requirement already satisfied: pexpect>4.3 in /Users/mauro.carrero/projects/jupyter-notebooks/venv/lib/python3.7/site-packages (from ipython<8,>=5.8.0->apache-beam[interactive]) (4.8.0)\n",
      "Requirement already satisfied: prompt-toolkit!=3.0.0,!=3.0.1,<3.1.0,>=2.0.0 in /Users/mauro.carrero/projects/jupyter-notebooks/venv/lib/python3.7/site-packages (from ipython<8,>=5.8.0->apache-beam[interactive]) (3.0.20)\n",
      "Requirement already satisfied: matplotlib-inline in /Users/mauro.carrero/projects/jupyter-notebooks/venv/lib/python3.7/site-packages (from ipython<8,>=5.8.0->apache-beam[interactive]) (0.1.2)\n",
      "Requirement already satisfied: decorator in /Users/mauro.carrero/projects/jupyter-notebooks/venv/lib/python3.7/site-packages (from ipython<8,>=5.8.0->apache-beam[interactive]) (5.0.9)\n",
      "Requirement already satisfied: pygments in /Users/mauro.carrero/projects/jupyter-notebooks/venv/lib/python3.7/site-packages (from ipython<8,>=5.8.0->apache-beam[interactive]) (2.10.0)\n",
      "Requirement already satisfied: jedi>=0.16 in /Users/mauro.carrero/projects/jupyter-notebooks/venv/lib/python3.7/site-packages (from ipython<8,>=5.8.0->apache-beam[interactive]) (0.18.0)\n",
      "Requirement already satisfied: setuptools>=18.5 in /Users/mauro.carrero/projects/jupyter-notebooks/venv/lib/python3.7/site-packages (from ipython<8,>=5.8.0->apache-beam[interactive]) (47.1.0)\n",
      "Requirement already satisfied: backcall in /Users/mauro.carrero/projects/jupyter-notebooks/venv/lib/python3.7/site-packages (from ipython<8,>=5.8.0->apache-beam[interactive]) (0.2.0)\n",
      "Requirement already satisfied: parso<0.9.0,>=0.8.0 in /Users/mauro.carrero/projects/jupyter-notebooks/venv/lib/python3.7/site-packages (from jedi>=0.16->ipython<8,>=5.8.0->apache-beam[interactive]) (0.8.2)\n",
      "Requirement already satisfied: pyzmq>=13 in /Users/mauro.carrero/projects/jupyter-notebooks/venv/lib/python3.7/site-packages (from jupyter-client<6.1.13,>=6.1.11->apache-beam[interactive]) (22.2.1)\n",
      "Requirement already satisfied: jupyter-core>=4.6.0 in /Users/mauro.carrero/projects/jupyter-notebooks/venv/lib/python3.7/site-packages (from jupyter-client<6.1.13,>=6.1.11->apache-beam[interactive]) (4.7.1)\n",
      "Requirement already satisfied: pyasn1>=0.1.7 in /Users/mauro.carrero/projects/jupyter-notebooks/venv/lib/python3.7/site-packages (from oauth2client<5,>=2.0.1->apache-beam[interactive]) (0.4.8)\n",
      "Requirement already satisfied: pyasn1-modules>=0.0.5 in /Users/mauro.carrero/projects/jupyter-notebooks/venv/lib/python3.7/site-packages (from oauth2client<5,>=2.0.1->apache-beam[interactive]) (0.2.8)\n",
      "Requirement already satisfied: rsa>=3.1.4 in /Users/mauro.carrero/projects/jupyter-notebooks/venv/lib/python3.7/site-packages (from oauth2client<5,>=2.0.1->apache-beam[interactive]) (4.7.2)\n",
      "Requirement already satisfied: ptyprocess>=0.5 in /Users/mauro.carrero/projects/jupyter-notebooks/venv/lib/python3.7/site-packages (from pexpect>4.3->ipython<8,>=5.8.0->apache-beam[interactive]) (0.7.0)\n",
      "Requirement already satisfied: wcwidth in /Users/mauro.carrero/projects/jupyter-notebooks/venv/lib/python3.7/site-packages (from prompt-toolkit!=3.0.0,!=3.0.1,<3.1.0,>=2.0.0->ipython<8,>=5.8.0->apache-beam[interactive]) (0.2.5)\n",
      "Requirement already satisfied: urllib3<1.27,>=1.21.1 in /Users/mauro.carrero/projects/jupyter-notebooks/venv/lib/python3.7/site-packages (from requests<3.0.0,>=2.24.0->apache-beam[interactive]) (1.26.6)\n",
      "Requirement already satisfied: charset-normalizer~=2.0.0 in /Users/mauro.carrero/projects/jupyter-notebooks/venv/lib/python3.7/site-packages (from requests<3.0.0,>=2.24.0->apache-beam[interactive]) (2.0.4)\n",
      "Requirement already satisfied: certifi>=2017.4.17 in /Users/mauro.carrero/projects/jupyter-notebooks/venv/lib/python3.7/site-packages (from requests<3.0.0,>=2.24.0->apache-beam[interactive]) (2021.5.30)\n",
      "Requirement already satisfied: idna<4,>=2.5 in /Users/mauro.carrero/projects/jupyter-notebooks/venv/lib/python3.7/site-packages (from requests<3.0.0,>=2.24.0->apache-beam[interactive]) (3.2)\n",
      "Note: you may need to restart the kernel to use updated packages.\n"
     ]
    }
   ],
   "source": [
    "pip install --upgrade 'apache-beam[interactive]'"
   ]
  },
  {
   "cell_type": "code",
   "execution_count": 2,
   "id": "8e7ed212-7038-46db-82fa-1fefa3a47f98",
   "metadata": {},
   "outputs": [],
   "source": [
    "import logging"
   ]
  },
  {
   "cell_type": "code",
   "execution_count": 3,
   "id": "f814d648-703b-440f-9361-a43d74adf758",
   "metadata": {},
   "outputs": [],
   "source": [
    "import apache_beam as beam"
   ]
  },
  {
   "cell_type": "code",
   "execution_count": 4,
   "id": "8b08f2b7-e940-4560-a7fb-a3c8c33d318d",
   "metadata": {},
   "outputs": [],
   "source": [
    "from apache_beam.options.pipeline_options import PipelineOptions"
   ]
  },
  {
   "cell_type": "code",
   "execution_count": 5,
   "id": "a16ee729-d58c-489d-a25d-ef335c8d2940",
   "metadata": {
    "tags": []
   },
   "outputs": [],
   "source": [
    "root = logging.getLogger()\n",
    "root.setLevel(logging.INFO)"
   ]
  },
  {
   "cell_type": "code",
   "execution_count": 6,
   "id": "5b5fd4ba-8416-4a99-ad29-7b4de6961b29",
   "metadata": {},
   "outputs": [],
   "source": [
    "p = beam.Pipeline(\n",
    "    options=PipelineOptions(runner=\"DirectRunner\"))"
   ]
  },
  {
   "cell_type": "code",
   "execution_count": 7,
   "id": "93707a42-47cf-4b01-a65e-298f0b538d10",
   "metadata": {},
   "outputs": [
    {
     "data": {
      "application/javascript": [
       "\n",
       "        if (typeof window.interactive_beam_jquery == 'undefined') {\n",
       "          var jqueryScript = document.createElement('script');\n",
       "          jqueryScript.src = 'https://code.jquery.com/jquery-3.4.1.slim.min.js';\n",
       "          jqueryScript.type = 'text/javascript';\n",
       "          jqueryScript.onload = function() {\n",
       "            var datatableScript = document.createElement('script');\n",
       "            datatableScript.src = 'https://cdn.datatables.net/1.10.20/js/jquery.dataTables.min.js';\n",
       "            datatableScript.type = 'text/javascript';\n",
       "            datatableScript.onload = function() {\n",
       "              window.interactive_beam_jquery = jQuery.noConflict(true);\n",
       "              window.interactive_beam_jquery(document).ready(function($){\n",
       "                \n",
       "              });\n",
       "            }\n",
       "            document.head.appendChild(datatableScript);\n",
       "          };\n",
       "          document.head.appendChild(jqueryScript);\n",
       "        } else {\n",
       "          window.interactive_beam_jquery(document).ready(function($){\n",
       "            \n",
       "          });\n",
       "        }"
      ]
     },
     "metadata": {},
     "output_type": "display_data"
    }
   ],
   "source": [
    "lines = (\n",
    "        p\n",
    "        | \"Create sample\"\n",
    "             >> beam.Create([\n",
    "                \"To be, or not to be: that is the question: \",\n",
    "                \"Whether 'tis nobler in the mind to suffer \",\n",
    "                \"The slings and arrows of outrageous fortune,\",\n",
    "                \"Or to take arms against a sea of troubles,\"\n",
    "            ]))"
   ]
  },
  {
   "cell_type": "code",
   "execution_count": 8,
   "id": "678de795-b49e-4523-8baa-d60d1710222d",
   "metadata": {},
   "outputs": [],
   "source": [
    "line_count = lines | \"Count lines\" >> beam.CombineGlobally(beam.combiners.CountCombineFn())"
   ]
  },
  {
   "cell_type": "code",
   "execution_count": 9,
   "id": "9ed90a57-403c-4883-82ef-82c96dd2f866",
   "metadata": {},
   "outputs": [
    {
     "data": {
      "text/plain": [
       "<PCollection[[9]: Print to log.None] at 0x7fd171763510>"
      ]
     },
     "execution_count": 9,
     "metadata": {},
     "output_type": "execute_result"
    }
   ],
   "source": [
    "print_log = lambda c: logging.info('*-*-*-*\\n\\n    Total lines: %s \\n______________________', c)\n",
    "\n",
    "line_count | \"Print to log\" >> beam.ParDo(print_log)"
   ]
  },
  {
   "cell_type": "code",
   "execution_count": 10,
   "id": "e13126e1-e78f-4f95-8f02-4ebf16e92995",
   "metadata": {},
   "outputs": [
    {
     "name": "stderr",
     "output_type": "stream",
     "text": [
      "WARNING:apache_beam.options.pipeline_options:Discarding unparseable args: ['-f', '/Users/mauro.carrero/Library/Jupyter/runtime/kernel-22e8762a-3521-42a0-9f82-e3de28f51347.json']\n",
      "WARNING:root:Make sure that locally built Python SDK docker image has Python 3.7 interpreter.\n",
      "INFO:root:Default Python SDK image for environment is apache/beam_python3.7_sdk:2.32.0\n",
      "INFO:apache_beam.runners.portability.fn_api_runner.translations:==================== <function annotate_downstream_side_inputs at 0x7fd171850830> ====================\n",
      "INFO:apache_beam.runners.portability.fn_api_runner.translations:==================== <function fix_side_input_pcoll_coders at 0x7fd171850950> ====================\n",
      "INFO:apache_beam.runners.portability.fn_api_runner.translations:==================== <function pack_combiners at 0x7fd171850dd0> ====================\n",
      "INFO:apache_beam.runners.portability.fn_api_runner.translations:==================== <function lift_combiners at 0x7fd171850e60> ====================\n",
      "INFO:apache_beam.runners.portability.fn_api_runner.translations:==================== <function expand_sdf at 0x7fd171851050> ====================\n",
      "INFO:apache_beam.runners.portability.fn_api_runner.translations:==================== <function expand_gbk at 0x7fd1718510e0> ====================\n",
      "INFO:apache_beam.runners.portability.fn_api_runner.translations:==================== <function sink_flattens at 0x7fd171851200> ====================\n",
      "INFO:apache_beam.runners.portability.fn_api_runner.translations:==================== <function greedily_fuse at 0x7fd171851290> ====================\n",
      "INFO:apache_beam.runners.portability.fn_api_runner.translations:==================== <function read_to_impulse at 0x7fd171851320> ====================\n",
      "INFO:apache_beam.runners.portability.fn_api_runner.translations:==================== <function impulse_to_input at 0x7fd1718513b0> ====================\n",
      "INFO:apache_beam.runners.portability.fn_api_runner.translations:==================== <function sort_stages at 0x7fd1718515f0> ====================\n",
      "INFO:apache_beam.runners.portability.fn_api_runner.translations:==================== <function setup_timer_mapping at 0x7fd171851560> ====================\n",
      "INFO:apache_beam.runners.portability.fn_api_runner.translations:==================== <function populate_data_channel_coders at 0x7fd171851680> ====================\n",
      "INFO:apache_beam.runners.worker.statecache:Creating state cache with size 100\n",
      "INFO:apache_beam.runners.portability.fn_api_runner.worker_handlers:Created Worker handler <apache_beam.runners.portability.fn_api_runner.worker_handlers.EmbeddedWorkerHandler object at 0x7fd171947610> for environment ref_Environment_default_environment_1 (beam:env:embedded_python:v1, b'')\n",
      "INFO:apache_beam.runners.portability.fn_api_runner.fn_runner:Running ((((ref_AppliedPTransform_-7-Create-sample-Impulse_3)+(ref_AppliedPTransform_-7-Create-sample-FlatMap-lambda-at-core-py-2968-_4))+(ref_AppliedPTransform_-7-Create-sample-MaybeReshuffle-Reshuffle-AddRandomKeys_7))+(ref_AppliedPTransform_-7-Create-sample-MaybeReshuffle-Reshuffle-ReshufflePerKey-Map-reify_timestamps_9))+([7]: Create sample/MaybeReshuffle/Reshuffle/ReshufflePerKey/GroupByKey/Write)\n",
      "INFO:apache_beam.runners.portability.fn_api_runner.fn_runner:Running (((((([7]: Create sample/MaybeReshuffle/Reshuffle/ReshufflePerKey/GroupByKey/Read)+(ref_AppliedPTransform_-7-Create-sample-MaybeReshuffle-Reshuffle-ReshufflePerKey-FlatMap-restore_time_11))+(ref_AppliedPTransform_-7-Create-sample-MaybeReshuffle-Reshuffle-RemoveRandomKeys_12))+(ref_AppliedPTransform_-7-Create-sample-Map-decode-_13))+(ref_AppliedPTransform_-8-Count-lines-KeyWithVoid_15))+([8]: Count lines/CombinePerKey/Precombine))+([8]: Count lines/CombinePerKey/Group/Write)\n",
      "INFO:apache_beam.runners.portability.fn_api_runner.fn_runner:Running (((([8]: Count lines/CombinePerKey/Group/Read)+([8]: Count lines/CombinePerKey/Merge))+([8]: Count lines/CombinePerKey/ExtractOutputs))+(ref_AppliedPTransform_-8-Count-lines-UnKey_20))+(ref_PCollection_PCollection_12/Write)\n",
      "INFO:apache_beam.runners.portability.fn_api_runner.fn_runner:Running ((((ref_AppliedPTransform_-8-Count-lines-DoOnce-Impulse_22)+(ref_AppliedPTransform_-8-Count-lines-DoOnce-FlatMap-lambda-at-core-py-2968-_23))+(ref_AppliedPTransform_-8-Count-lines-DoOnce-Map-decode-_25))+(ref_AppliedPTransform_-8-Count-lines-InjectDefault_26))+(ref_AppliedPTransform_-9-Print-to-log_27)\n",
      "INFO:root:*-*-*-*\n",
      "\n",
      "    Total lines: 4 \n",
      "______________________\n"
     ]
    },
    {
     "data": {
      "text/plain": [
       "'DONE'"
      ]
     },
     "execution_count": 10,
     "metadata": {},
     "output_type": "execute_result"
    }
   ],
   "source": [
    "result = p.run()\n",
    "\n",
    "result.wait_until_finish()"
   ]
  }
 ],
 "metadata": {
  "kernelspec": {
   "display_name": "Python 3",
   "language": "python",
   "name": "python3"
  },
  "language_info": {
   "codemirror_mode": {
    "name": "ipython",
    "version": 3
   },
   "file_extension": ".py",
   "mimetype": "text/x-python",
   "name": "python",
   "nbconvert_exporter": "python",
   "pygments_lexer": "ipython3",
   "version": "3.7.9"
  }
 },
 "nbformat": 4,
 "nbformat_minor": 5
}
