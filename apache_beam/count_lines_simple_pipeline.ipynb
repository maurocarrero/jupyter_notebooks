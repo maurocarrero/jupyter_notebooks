{
 "cells": [
  {
   "cell_type": "code",
   "execution_count": 1,
   "metadata": {},
   "outputs": [
    {
     "name": "stdout",
     "output_type": "stream",
     "text": [
      "Requirement already satisfied: apache-beam[interactive] in /opt/venv/lib/python3.7/site-packages (2.33.0)\n",
      "Requirement already satisfied: future<1.0.0,>=0.18.2 in /opt/venv/lib/python3.7/site-packages (from apache-beam[interactive]) (0.18.2)\n",
      "Requirement already satisfied: protobuf<4,>=3.12.2 in /opt/venv/lib/python3.7/site-packages (from apache-beam[interactive]) (3.17.3)\n",
      "Requirement already satisfied: python-dateutil<3,>=2.8.0 in /opt/venv/lib/python3.7/site-packages (from apache-beam[interactive]) (2.8.2)\n",
      "Requirement already satisfied: numpy<1.21.0,>=1.14.3 in /opt/venv/lib/python3.7/site-packages (from apache-beam[interactive]) (1.20.3)\n",
      "Requirement already satisfied: fastavro<2,>=0.21.4 in /opt/venv/lib/python3.7/site-packages (from apache-beam[interactive]) (1.4.5)\n",
      "Requirement already satisfied: dill<0.3.2,>=0.3.1.1 in /opt/venv/lib/python3.7/site-packages (from apache-beam[interactive]) (0.3.1.1)\n",
      "Requirement already satisfied: pytz>=2018.3 in /opt/venv/lib/python3.7/site-packages (from apache-beam[interactive]) (2021.1)\n",
      "Requirement already satisfied: pymongo<4.0.0,>=3.8.0 in /opt/venv/lib/python3.7/site-packages (from apache-beam[interactive]) (3.12.0)\n",
      "Requirement already satisfied: httplib2<0.20.0,>=0.8 in /opt/venv/lib/python3.7/site-packages (from apache-beam[interactive]) (0.19.1)\n",
      "Requirement already satisfied: pyarrow<5.0.0,>=0.15.1 in /opt/venv/lib/python3.7/site-packages (from apache-beam[interactive]) (4.0.1)\n",
      "Requirement already satisfied: requests<3.0.0,>=2.24.0 in /opt/venv/lib/python3.7/site-packages (from apache-beam[interactive]) (2.26.0)\n",
      "Requirement already satisfied: typing-extensions<4,>=3.7.0 in /opt/venv/lib/python3.7/site-packages (from apache-beam[interactive]) (3.10.0.0)\n",
      "Requirement already satisfied: orjson<4.0 in /opt/venv/lib/python3.7/site-packages (from apache-beam[interactive]) (3.6.4)\n",
      "Requirement already satisfied: oauth2client<5,>=2.0.1 in /opt/venv/lib/python3.7/site-packages (from apache-beam[interactive]) (4.1.3)\n",
      "Requirement already satisfied: grpcio<2,>=1.29.0 in /opt/venv/lib/python3.7/site-packages (from apache-beam[interactive]) (1.41.0)\n",
      "Requirement already satisfied: pydot<2,>=1.2.0 in /opt/venv/lib/python3.7/site-packages (from apache-beam[interactive]) (1.4.2)\n",
      "Requirement already satisfied: avro-python3!=1.9.2,<1.10.0,>=1.8.1 in /opt/venv/lib/python3.7/site-packages (from apache-beam[interactive]) (1.9.2.1)\n",
      "Requirement already satisfied: hdfs<3.0.0,>=2.1.0 in /opt/venv/lib/python3.7/site-packages (from apache-beam[interactive]) (2.6.0)\n",
      "Requirement already satisfied: crcmod<2.0,>=1.7 in /opt/venv/lib/python3.7/site-packages (from apache-beam[interactive]) (1.7)\n",
      "Requirement already satisfied: facets-overview<2,>=1.0.0 in /opt/venv/lib/python3.7/site-packages (from apache-beam[interactive]) (1.0.0)\n",
      "Requirement already satisfied: timeloop<2,>=1.0.2 in /opt/venv/lib/python3.7/site-packages (from apache-beam[interactive]) (1.0.2)\n",
      "Requirement already satisfied: jupyter-client<6.1.13,>=6.1.11 in /opt/venv/lib/python3.7/site-packages (from apache-beam[interactive]) (6.1.12)\n",
      "Requirement already satisfied: ipython<8,>=5.8.0 in /opt/venv/lib/python3.7/site-packages (from apache-beam[interactive]) (7.28.0)\n",
      "Requirement already satisfied: ipykernel<6,>=5.2.0 in /opt/venv/lib/python3.7/site-packages (from apache-beam[interactive]) (5.5.6)\n",
      "Requirement already satisfied: pandas>=0.22.0 in /opt/venv/lib/python3.7/site-packages (from facets-overview<2,>=1.0.0->apache-beam[interactive]) (1.3.1)\n",
      "Requirement already satisfied: six>=1.5.2 in /opt/venv/lib/python3.7/site-packages (from grpcio<2,>=1.29.0->apache-beam[interactive]) (1.16.0)\n",
      "Requirement already satisfied: docopt in /opt/venv/lib/python3.7/site-packages (from hdfs<3.0.0,>=2.1.0->apache-beam[interactive]) (0.6.2)\n",
      "Requirement already satisfied: pyparsing<3,>=2.4.2 in /opt/venv/lib/python3.7/site-packages (from httplib2<0.20.0,>=0.8->apache-beam[interactive]) (2.4.7)\n",
      "Requirement already satisfied: appnope in /opt/venv/lib/python3.7/site-packages (from ipykernel<6,>=5.2.0->apache-beam[interactive]) (0.1.2)\n",
      "Requirement already satisfied: traitlets>=4.1.0 in /opt/venv/lib/python3.7/site-packages (from ipykernel<6,>=5.2.0->apache-beam[interactive]) (5.1.0)\n",
      "Requirement already satisfied: ipython-genutils in /opt/venv/lib/python3.7/site-packages (from ipykernel<6,>=5.2.0->apache-beam[interactive]) (0.2.0)\n",
      "Requirement already satisfied: tornado>=4.2 in /opt/venv/lib/python3.7/site-packages (from ipykernel<6,>=5.2.0->apache-beam[interactive]) (6.1)\n",
      "Requirement already satisfied: jedi>=0.16 in /opt/venv/lib/python3.7/site-packages (from ipython<8,>=5.8.0->apache-beam[interactive]) (0.18.0)\n",
      "Requirement already satisfied: matplotlib-inline in /opt/venv/lib/python3.7/site-packages (from ipython<8,>=5.8.0->apache-beam[interactive]) (0.1.3)\n",
      "Requirement already satisfied: prompt-toolkit!=3.0.0,!=3.0.1,<3.1.0,>=2.0.0 in /opt/venv/lib/python3.7/site-packages (from ipython<8,>=5.8.0->apache-beam[interactive]) (3.0.20)\n",
      "Requirement already satisfied: backcall in /opt/venv/lib/python3.7/site-packages (from ipython<8,>=5.8.0->apache-beam[interactive]) (0.2.0)\n",
      "Requirement already satisfied: pickleshare in /opt/venv/lib/python3.7/site-packages (from ipython<8,>=5.8.0->apache-beam[interactive]) (0.7.5)\n",
      "Requirement already satisfied: decorator in /opt/venv/lib/python3.7/site-packages (from ipython<8,>=5.8.0->apache-beam[interactive]) (5.1.0)\n",
      "Requirement already satisfied: setuptools>=18.5 in /opt/venv/lib/python3.7/site-packages (from ipython<8,>=5.8.0->apache-beam[interactive]) (40.8.0)\n",
      "Requirement already satisfied: pexpect>4.3 in /opt/venv/lib/python3.7/site-packages (from ipython<8,>=5.8.0->apache-beam[interactive]) (4.8.0)\n",
      "Requirement already satisfied: pygments in /opt/venv/lib/python3.7/site-packages (from ipython<8,>=5.8.0->apache-beam[interactive]) (2.9.0)\n",
      "Requirement already satisfied: jupyter-core>=4.6.0 in /opt/venv/lib/python3.7/site-packages (from jupyter-client<6.1.13,>=6.1.11->apache-beam[interactive]) (4.8.1)\n",
      "Requirement already satisfied: pyzmq>=13 in /opt/venv/lib/python3.7/site-packages (from jupyter-client<6.1.13,>=6.1.11->apache-beam[interactive]) (22.3.0)\n",
      "Requirement already satisfied: rsa>=3.1.4 in /opt/venv/lib/python3.7/site-packages (from oauth2client<5,>=2.0.1->apache-beam[interactive]) (4.7.2)\n",
      "Requirement already satisfied: pyasn1>=0.1.7 in /opt/venv/lib/python3.7/site-packages (from oauth2client<5,>=2.0.1->apache-beam[interactive]) (0.4.8)\n",
      "Requirement already satisfied: pyasn1-modules>=0.0.5 in /opt/venv/lib/python3.7/site-packages (from oauth2client<5,>=2.0.1->apache-beam[interactive]) (0.2.8)\n",
      "Requirement already satisfied: certifi>=2017.4.17 in /opt/venv/lib/python3.7/site-packages (from requests<3.0.0,>=2.24.0->apache-beam[interactive]) (2021.5.30)\n",
      "Requirement already satisfied: charset-normalizer~=2.0.0 in /opt/venv/lib/python3.7/site-packages (from requests<3.0.0,>=2.24.0->apache-beam[interactive]) (2.0.7)\n",
      "Requirement already satisfied: idna<4,>=2.5 in /opt/venv/lib/python3.7/site-packages (from requests<3.0.0,>=2.24.0->apache-beam[interactive]) (3.2)\n",
      "Requirement already satisfied: urllib3<1.27,>=1.21.1 in /opt/venv/lib/python3.7/site-packages (from requests<3.0.0,>=2.24.0->apache-beam[interactive]) (1.26.6)\n",
      "Requirement already satisfied: parso<0.9.0,>=0.8.0 in /opt/venv/lib/python3.7/site-packages (from jedi>=0.16->ipython<8,>=5.8.0->apache-beam[interactive]) (0.8.2)\n",
      "Requirement already satisfied: ptyprocess>=0.5 in /opt/venv/lib/python3.7/site-packages (from pexpect>4.3->ipython<8,>=5.8.0->apache-beam[interactive]) (0.7.0)\n",
      "Requirement already satisfied: wcwidth in /opt/venv/lib/python3.7/site-packages (from prompt-toolkit!=3.0.0,!=3.0.1,<3.1.0,>=2.0.0->ipython<8,>=5.8.0->apache-beam[interactive]) (0.2.5)\n"
     ]
    }
   ],
   "source": [
    "!pip install --upgrade 'apache-beam[interactive]'"
   ]
  },
  {
   "cell_type": "code",
   "execution_count": 6,
   "metadata": {},
   "outputs": [
    {
     "name": "stderr",
     "output_type": "stream",
     "text": [
      "WARNING:root:Make sure that locally built Python SDK docker image has Python 3.7 interpreter.\n",
      "INFO:root:Default Python SDK image for environment is apache/beam_python3.7_sdk:2.33.0\n",
      "INFO:apache_beam.runners.portability.fn_api_runner.translations:==================== <function annotate_downstream_side_inputs at 0x121e9f1e0> ====================\n",
      "INFO:apache_beam.runners.portability.fn_api_runner.translations:==================== <function fix_side_input_pcoll_coders at 0x121e9f2f0> ====================\n",
      "INFO:apache_beam.runners.portability.fn_api_runner.translations:==================== <function pack_combiners at 0x121e9f730> ====================\n",
      "INFO:apache_beam.runners.portability.fn_api_runner.translations:==================== <function lift_combiners at 0x121e9f7b8> ====================\n",
      "INFO:apache_beam.runners.portability.fn_api_runner.translations:==================== <function expand_sdf at 0x121e9f950> ====================\n",
      "INFO:apache_beam.runners.portability.fn_api_runner.translations:==================== <function expand_gbk at 0x121e9f9d8> ====================\n",
      "INFO:apache_beam.runners.portability.fn_api_runner.translations:==================== <function sink_flattens at 0x121e9fae8> ====================\n",
      "INFO:apache_beam.runners.portability.fn_api_runner.translations:==================== <function greedily_fuse at 0x121e9fb70> ====================\n",
      "INFO:apache_beam.runners.portability.fn_api_runner.translations:==================== <function read_to_impulse at 0x121e9fbf8> ====================\n",
      "INFO:apache_beam.runners.portability.fn_api_runner.translations:==================== <function impulse_to_input at 0x121e9fc80> ====================\n",
      "INFO:apache_beam.runners.portability.fn_api_runner.translations:==================== <function sort_stages at 0x121e9fea0> ====================\n",
      "INFO:apache_beam.runners.portability.fn_api_runner.translations:==================== <function setup_timer_mapping at 0x121e9fe18> ====================\n",
      "INFO:apache_beam.runners.portability.fn_api_runner.translations:==================== <function populate_data_channel_coders at 0x121e9ff28> ====================\n",
      "INFO:apache_beam.runners.worker.statecache:Creating state cache with size 100\n",
      "INFO:apache_beam.runners.portability.fn_api_runner.worker_handlers:Created Worker handler <apache_beam.runners.portability.fn_api_runner.worker_handlers.EmbeddedWorkerHandler object at 0x122039da0> for environment ref_Environment_default_environment_1 (beam:env:embedded_python:v1, b'')\n",
      "INFO:apache_beam.runners.portability.fn_api_runner.fn_runner:Running ((((ref_AppliedPTransform_-6-Create-sample-Impulse_3)+(ref_AppliedPTransform_-6-Create-sample-FlatMap-lambda-at-core-py-2968-_4))+(ref_AppliedPTransform_-6-Create-sample-MaybeReshuffle-Reshuffle-AddRandomKeys_7))+(ref_AppliedPTransform_-6-Create-sample-MaybeReshuffle-Reshuffle-ReshufflePerKey-Map-reify_timestamps_9))+([6]: Create sample/MaybeReshuffle/Reshuffle/ReshufflePerKey/GroupByKey/Write)\n",
      "INFO:apache_beam.runners.portability.fn_api_runner.fn_runner:Running (((((([6]: Create sample/MaybeReshuffle/Reshuffle/ReshufflePerKey/GroupByKey/Read)+(ref_AppliedPTransform_-6-Create-sample-MaybeReshuffle-Reshuffle-ReshufflePerKey-FlatMap-restore_time_11))+(ref_AppliedPTransform_-6-Create-sample-MaybeReshuffle-Reshuffle-RemoveRandomKeys_12))+(ref_AppliedPTransform_-6-Create-sample-Map-decode-_13))+(ref_AppliedPTransform_-6-Count-lines-KeyWithVoid_15))+([6]: Count lines/CombinePerKey/Precombine))+([6]: Count lines/CombinePerKey/Group/Write)\n",
      "INFO:apache_beam.runners.portability.fn_api_runner.fn_runner:Running (((([6]: Count lines/CombinePerKey/Group/Read)+([6]: Count lines/CombinePerKey/Merge))+([6]: Count lines/CombinePerKey/ExtractOutputs))+(ref_AppliedPTransform_-6-Count-lines-UnKey_20))+(ref_PCollection_PCollection_12/Write)\n",
      "INFO:apache_beam.runners.portability.fn_api_runner.fn_runner:Running ((((ref_AppliedPTransform_-6-Count-lines-DoOnce-Impulse_22)+(ref_AppliedPTransform_-6-Count-lines-DoOnce-FlatMap-lambda-at-core-py-2968-_23))+(ref_AppliedPTransform_-6-Count-lines-DoOnce-Map-decode-_25))+(ref_AppliedPTransform_-6-Count-lines-InjectDefault_26))+(ref_AppliedPTransform_-6-Print-to-log_27)\n",
      "INFO:root:*-*-*-*\n",
      "\n",
      "    Total lines: 4 \n",
      "______________________\n"
     ]
    }
   ],
   "source": [
    "import logging\n",
    "import sys\n",
    "import apache_beam as beam\n",
    "from apache_beam.options.pipeline_options import PipelineOptions\n",
    "\n",
    "sys.argv = [\"count_lines_simple_pipeline.ipynb\"]\n",
    "\n",
    "root = logging.getLogger()\n",
    "root.setLevel(logging.INFO)\n",
    "\n",
    "p = beam.Pipeline(\n",
    "    options=PipelineOptions(runner=\"DirectRunner\"))\n",
    "\n",
    "lines = (\n",
    "    p\n",
    "    | \"Create sample\"\n",
    "    >> beam.Create([\n",
    "        \"To be, or not to be: that is the question: \",\n",
    "        \"Whether 'tis nobler in the mind to suffer \",\n",
    "        \"The slings and arrows of outrageous fortune,\",\n",
    "        \"Or to take arms against a sea of troubles,\"\n",
    "    ])\n",
    ")\n",
    "\n",
    "line_count = lines | \"Count lines\" >> beam.CombineGlobally(\n",
    "    beam.combiners.CountCombineFn())\n",
    "\n",
    "\n",
    "def print_log(c): return logging.info(\n",
    "    '----\\n\\n    Total lines: %s \\n______________________', c)\n",
    "\n",
    "\n",
    "line_count | \"Print to log\" >> beam.ParDo(print_log)\n",
    "\n",
    "result = p.run()\n",
    "result.wait_until_finish()\n"
   ]
  },
  {
   "cell_type": "code",
   "execution_count": null,
   "metadata": {},
   "outputs": [],
   "source": []
  }
 ],
 "metadata": {
  "interpreter": {
   "hash": "23393d2575091a37cff0d0e9e7479591a295495b26c3b2ebf9b64da572e02d85"
  },
  "kernelspec": {
   "display_name": "Python 3.7.3 64-bit",
   "name": "python3"
  },
  "language_info": {
   "codemirror_mode": {
    "name": "ipython",
    "version": 3
   },
   "file_extension": ".py",
   "mimetype": "text/x-python",
   "name": "python",
   "nbconvert_exporter": "python",
   "pygments_lexer": "ipython3",
   "version": "3.7.3"
  }
 },
 "nbformat": 4,
 "nbformat_minor": 5
}
