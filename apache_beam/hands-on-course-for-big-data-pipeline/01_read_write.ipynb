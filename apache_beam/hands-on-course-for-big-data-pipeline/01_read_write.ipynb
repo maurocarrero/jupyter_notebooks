{
 "cells": [
  {
   "cell_type": "code",
   "execution_count": null,
   "metadata": {},
   "outputs": [],
   "source": [
    "# ! pip install --upgrade apache_beam\n",
    "# ! pip install pyarrow"
   ]
  },
  {
   "cell_type": "code",
   "execution_count": null,
   "metadata": {},
   "outputs": [],
   "source": [
    "import apache_beam as beam\n",
    "import avro\n",
    "import json\n",
    "\n",
    "from apache_beam.io.filesystem import CompressionTypes\n"
   ]
  },
  {
   "cell_type": "code",
   "execution_count": null,
   "metadata": {},
   "outputs": [],
   "source": [
    "! rm ../data/output*"
   ]
  },
  {
   "cell_type": "code",
   "execution_count": null,
   "metadata": {},
   "outputs": [],
   "source": [
    "file_path_prefix = \"../../data/output\"\n",
    "append_trailing_newlines = True\n",
    "num_shards = 3  # usually let beam handle this\n",
    "shard_name_template = \"_SS-NN_\""
   ]
  },
  {
   "cell_type": "code",
   "execution_count": null,
   "metadata": {},
   "outputs": [],
   "source": [
    "# CSV --> CSV\n",
    "p1 = beam.Pipeline()\n",
    "(p1\n",
    " | beam.io.ReadFromText(\"../../data/data.csv\", skip_header_lines=1)\n",
    " | beam.Map(lambda r: r.split(\",\"))\n",
    " | beam.Filter(lambda r: int(r[1]) == 44)\n",
    " | beam.Filter(lambda r: float(r[7]) < 0)\n",
    " | beam.Map(lambda r: \"{0}: {1}\".format(r[0], r[2].upper()))\n",
    " | beam.io.WriteToText(\n",
    "     file_path_prefix=file_path_prefix,\n",
    "     file_name_suffix=\"suffix.csv\",\n",
    "     append_trailing_newlines=append_trailing_newlines,\n",
    "     num_shards=num_shards,\n",
    "     shard_name_template=shard_name_template,\n",
    "     compression_type=CompressionTypes.AUTO,  # default\n",
    "     header=\"NAME: ADDRESS\",\n",
    "     footer=\"***************\\n\"\n",
    " )\n",
    " )\n",
    "p1.run()\n"
   ]
  },
  {
   "cell_type": "code",
   "execution_count": null,
   "metadata": {},
   "outputs": [],
   "source": [
    "! cat ../data/output*.csv"
   ]
  },
  {
   "cell_type": "code",
   "execution_count": null,
   "metadata": {},
   "outputs": [],
   "source": [
    "# CSV --> AVRO\n",
    "p2 = beam.Pipeline()\n",
    "(p2\n",
    " | beam.io.ReadFromText(\"../../data/data.csv\", skip_header_lines=1)\n",
    " | beam.Map(lambda r: r.split(\",\"))\n",
    " | beam.Filter(lambda r: int(r[1]) == 44 and float(r[7]) < 0)\n",
    " | beam.Map(lambda r: \"{0}: {1}\".format(r[0], r[2].upper()))\n",
    " | beam.io.WriteToAvro(\n",
    "     file_path_prefix=file_path_prefix,\n",
    "     schema=avro.schema.parse(json.dumps({\n",
    "         \"namespace\": \"output.avro\",\n",
    "         \"type\": \"string\"\n",
    "     })),\n",
    "     file_name_suffix=\"suffix.avro\",\n",
    "     num_shards=num_shards,\n",
    "     shard_name_template=shard_name_template,\n",
    "     mime_type=\"application/x-avro\",\n",
    "     use_fastavro=False\n",
    " )\n",
    " )\n",
    "p2.run()\n"
   ]
  },
  {
   "cell_type": "code",
   "execution_count": null,
   "metadata": {},
   "outputs": [],
   "source": [
    "def add(x): return lambda y: x + y\n",
    "def multiply(x): return lambda y: x * y\n",
    "def print_result(r): return print(r)\n",
    "\n",
    "\n",
    "p = beam.Pipeline()\n",
    "\n",
    "(\n",
    "    p\n",
    "    | beam.Create([7])\n",
    "    | \"+ 3\" >> beam.Map(add(3))\n",
    "    | \"* 5\" >> beam.Map(multiply(5))\n",
    "    | \"Print result\" >> beam.Map(print_result)\n",
    ")\n",
    "\n",
    "p.run()"
   ]
  }
 ],
 "metadata": {
  "interpreter": {
   "hash": "23393d2575091a37cff0d0e9e7479591a295495b26c3b2ebf9b64da572e02d85"
  },
  "kernelspec": {
   "display_name": "Python 3.7.3 64-bit",
   "name": "python3"
  },
  "language_info": {
   "codemirror_mode": {
    "name": "ipython",
    "version": 3
   },
   "file_extension": ".py",
   "mimetype": "text/x-python",
   "name": "python",
   "nbconvert_exporter": "python",
   "pygments_lexer": "ipython3",
   "version": "3.7.3"
  },
  "orig_nbformat": 4
 },
 "nbformat": 4,
 "nbformat_minor": 2
}
