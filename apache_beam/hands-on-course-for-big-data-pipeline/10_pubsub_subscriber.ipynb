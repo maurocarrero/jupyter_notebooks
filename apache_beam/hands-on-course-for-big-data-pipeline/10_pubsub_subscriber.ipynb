{
 "cells": [
  {
   "cell_type": "code",
   "execution_count": null,
   "source": [
    "!pip install --upgrade google-cloud-pubsub"
   ],
   "outputs": [],
   "metadata": {}
  },
  {
   "cell_type": "code",
   "execution_count": null,
   "source": [
    "import time\n",
    "\n",
    "from google.cloud import pubsub_v1\n",
    "\n",
    "project_id = %env GOOGLE_CLOUD_PROJECT\n",
    "comedy_movies_sub = \"projects/{0}/subscriptions/comedy_movies_sub\".format(\n",
    "    project_id)\n",
    "\n",
    "subscriber = pubsub_v1.SubscriberClient()\n",
    "\n",
    "\n",
    "def callback(message):\n",
    "    print(\"Received message: {}\".format(message))\n",
    "    message.ack()\n",
    "\n",
    "\n",
    "subscriber.subscribe(comedy_movies_sub, callback=callback)\n",
    "\n",
    "while True:\n",
    "    time.sleep(1)\n"
   ],
   "outputs": [],
   "metadata": {}
  },
  {
   "cell_type": "code",
   "execution_count": null,
   "source": [],
   "outputs": [],
   "metadata": {}
  }
 ],
 "metadata": {
  "orig_nbformat": 4,
  "language_info": {
   "name": "python",
   "version": "3.7.3",
   "mimetype": "text/x-python",
   "codemirror_mode": {
    "name": "ipython",
    "version": 3
   },
   "pygments_lexer": "ipython3",
   "nbconvert_exporter": "python",
   "file_extension": ".py"
  },
  "kernelspec": {
   "name": "python3",
   "display_name": "Python 3.7.3 64-bit"
  },
  "interpreter": {
   "hash": "5e9e782492abe76986abb217df66c682dff1e2775c232b6da186fa0872ab67b7"
  }
 },
 "nbformat": 4,
 "nbformat_minor": 2
}