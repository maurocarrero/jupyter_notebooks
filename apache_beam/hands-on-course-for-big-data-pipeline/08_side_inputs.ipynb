{
 "cells": [
  {
   "cell_type": "code",
   "execution_count": 1,
   "source": [
    "# import apache_beam as beam\n",
    "# from random import randint\n",
    "\n",
    "\n",
    "# class SplitRow(beam.DoFn):\n",
    "#     def process(self, element):\n",
    "#         return [element.split(\",\")]\n",
    "\n",
    "\n",
    "# p = beam.Pipeline()\n",
    "\n",
    "# (\n",
    "#     p\n",
    "#     | beam.io.ReadFromText(\"../../data/data.csv\", skip_header_lines=1)\n",
    "#     | \"Split CSV\" >> beam.ParDo(SplitRow())\n",
    "#     | \"Add visits\" >> beam.Map(lambda r: \",\".join([r[0], str(randint(0, 100))]))\n",
    "#     | beam.io.WriteToText(file_path_prefix=\"../../data/data_side_input\", file_name_suffix=\".csv\", header=\"Name,Visits\")\n",
    "# )\n",
    "\n",
    "# Run to regenerate the side input\n",
    "# p.run()\n"
   ],
   "outputs": [],
   "metadata": {}
  },
  {
   "cell_type": "code",
   "execution_count": 4,
   "source": [
    "import apache_beam as beam\n",
    "import csv\n",
    "\n",
    "p = beam.Pipeline()\n",
    "\n",
    "side_input = dict()\n",
    "\n",
    "with open(\"../../data/data_side_input.csv\") as f:\n",
    "    reader = csv.DictReader(f)\n",
    "    next(reader)\n",
    "    for row in reader:\n",
    "        side_input[row['Name']] = row['Visits']\n",
    "\n",
    "\n",
    "class FindUsersWithNoVisits(beam.DoFn):\n",
    "    def process(self, element, side_input):\n",
    "        row = element.split(\",\")\n",
    "        visits = side_input.get(row[0])\n",
    "        if visits != None and int(visits) < 1:\n",
    "            return [element]\n",
    "\n",
    "\n",
    "(\n",
    "    p\n",
    "    | beam.io.ReadFromText(\"../../data/data.csv\", skip_header_lines=1)\n",
    "    | \"Find users with 0 visits\" >> beam.ParDo(FindUsersWithNoVisits(), side_input)\n",
    "    | beam.Map(print)\n",
    ")\n",
    "\n",
    "p.run()\n"
   ],
   "outputs": [
    {
     "output_type": "stream",
     "name": "stderr",
     "text": [
      "WARNING:root:Make sure that locally built Python SDK docker image has Python 3.7 interpreter.\n"
     ]
    },
    {
     "output_type": "stream",
     "name": "stdout",
     "text": [
      "Andrea Jackson,59,4916 Michelle Rest,New Gracefort,Minnesota,64557,126.020734,-34.8991835\n",
      "Richard Martin,48,22754 Linda Lodge,Port Sharon,Wisconsin,49224,174.995651,-87.054590\n",
      "Morgan Heath,44,035 Edward Views Apt. 016,Andersonview,New Hampshire,27516,-26.058075,58.475900\n",
      "Ryan Fletcher,30,072 Nathaniel Rapids,North Shannon,South Dakota,95096,-68.778417,29.5621155\n",
      "Karen Mitchell,35,52500 Santiago Land,West Victoria,South Carolina,82346,-145.259749,-4.6940235\n",
      "Kenneth Reyes,22,143 Daniel Camp Suite 466,East Leonardshire,Texas,51956,58.409274,-63.3363975\n",
      "Michelle Andrews,58,6503 Melissa Extensions Suite 368,South Jason,North Dakota,55065,-148.418236,68.129798\n",
      "Roberto Kelly,51,7904 Nicole Motorway Apt. 903,Lake Kristaport,Hawaii,96507,112.552682,-49.642809\n",
      "Shannon Haney,31,3262 Torres Points Apt. 658,South Robert,Montana,64408,42.755517,32.129678\n",
      "Derrick Hale,37,252 Kathryn Squares Suite 980,Pamelachester,New Mexico,81859,167.491012,-78.670019\n",
      "Linda Nguyen,56,6422 Bryant Unions,Richardsonchester,Arizona,69359,-5.932106,-72.9872935\n",
      "James Smith,44,865 Harold Trail,South Nicholas,Vermont,54387,-48.958810,-23.979713\n"
     ]
    },
    {
     "output_type": "execute_result",
     "data": {
      "text/plain": [
       "<apache_beam.runners.portability.fn_api_runner.fn_runner.RunnerResult at 0x123fabeb8>"
      ]
     },
     "metadata": {},
     "execution_count": 4
    }
   ],
   "metadata": {}
  },
  {
   "cell_type": "code",
   "execution_count": null,
   "source": [],
   "outputs": [],
   "metadata": {}
  }
 ],
 "metadata": {
  "orig_nbformat": 4,
  "language_info": {
   "name": "python",
   "version": "3.7.3",
   "mimetype": "text/x-python",
   "codemirror_mode": {
    "name": "ipython",
    "version": 3
   },
   "pygments_lexer": "ipython3",
   "nbconvert_exporter": "python",
   "file_extension": ".py"
  },
  "kernelspec": {
   "name": "python3",
   "display_name": "Python 3.7.3 64-bit"
  },
  "interpreter": {
   "hash": "5e9e782492abe76986abb217df66c682dff1e2775c232b6da186fa0872ab67b7"
  }
 },
 "nbformat": 4,
 "nbformat_minor": 2
}