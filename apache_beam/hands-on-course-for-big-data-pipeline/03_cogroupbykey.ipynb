{
 "cells": [
  {
   "cell_type": "markdown",
   "source": [
    "# CoGroupByKey\n",
    "\n",
    "Combine multiple PCollections as Input."
   ],
   "metadata": {}
  },
  {
   "cell_type": "code",
   "execution_count": 7,
   "source": [
    "import apache_beam as beam\n",
    "\n",
    "p = beam.Pipeline()\n",
    "\n",
    "movie_names = [\n",
    "    (1, \"Spiderman\"),\n",
    "    (2, \"Antman\"),\n",
    "    (3, \"Avengers\")\n",
    "]\n",
    "movie_ratings = [\n",
    "    (1, 3.5),\n",
    "    (2, 2.7),\n",
    "    (3, 4.3),\n",
    "    (1, 3.1),\n",
    "    (1, 4.0),\n",
    "    (3, 4.0),\n",
    "    (3, 4.0)\n",
    "]\n",
    "movie_years = [\n",
    "    (1, 1993),\n",
    "    (2, 1984),\n",
    "    (3, 2001)\n",
    "]\n",
    "names = p | \"Create Names PCollection\" >> beam.Create(movie_names)\n",
    "ratings = p | \"Create Ratings PCollection\" >> beam.Create(movie_ratings)\n",
    "years = p | \"Create Years PCollection\" >> beam.Create(movie_years)\n",
    "\n",
    "# ({names, ratings} | beam.CoGroupByKey()) | beam.Map(print)\n",
    "({\"movie_names\": names, \"movie_ratings\": ratings, \"movie_years\": years}\n",
    " | beam.CoGroupByKey()) | beam.Map(print)\n",
    "\n",
    "p.run()\n"
   ],
   "outputs": [
    {
     "output_type": "stream",
     "name": "stderr",
     "text": [
      "WARNING:root:Make sure that locally built Python SDK docker image has Python 3.7 interpreter.\n"
     ]
    },
    {
     "output_type": "stream",
     "name": "stdout",
     "text": [
      "(1, {'movie_names': ['Spiderman'], 'movie_ratings': [3.5, 3.1, 4.0], 'movie_years': [1993]})\n",
      "(2, {'movie_names': ['Antman'], 'movie_ratings': [2.7], 'movie_years': [1984]})\n",
      "(3, {'movie_names': ['Avengers'], 'movie_ratings': [4.3, 4.0, 4.0], 'movie_years': [2001]})\n"
     ]
    },
    {
     "output_type": "execute_result",
     "data": {
      "text/plain": [
       "<apache_beam.runners.portability.fn_api_runner.fn_runner.RunnerResult at 0x12592a2e8>"
      ]
     },
     "metadata": {},
     "execution_count": 7
    }
   ],
   "metadata": {}
  }
 ],
 "metadata": {
  "orig_nbformat": 4,
  "language_info": {
   "name": "python",
   "version": "3.7.3",
   "mimetype": "text/x-python",
   "codemirror_mode": {
    "name": "ipython",
    "version": 3
   },
   "pygments_lexer": "ipython3",
   "nbconvert_exporter": "python",
   "file_extension": ".py"
  },
  "kernelspec": {
   "name": "python3",
   "display_name": "Python 3.7.3 64-bit"
  },
  "interpreter": {
   "hash": "5e9e782492abe76986abb217df66c682dff1e2775c232b6da186fa0872ab67b7"
  }
 },
 "nbformat": 4,
 "nbformat_minor": 2
}