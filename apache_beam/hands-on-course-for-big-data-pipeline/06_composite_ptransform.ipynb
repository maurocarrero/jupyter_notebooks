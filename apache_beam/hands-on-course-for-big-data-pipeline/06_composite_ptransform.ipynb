{
 "cells": [
  {
   "cell_type": "code",
   "execution_count": 38,
   "source": [
    "import apache_beam as beam\n",
    "\n",
    "\n",
    "def split_row(r): return r.split(',')\n",
    "def filter_by_state(s): return lambda r: r[4] == s\n",
    "\n",
    "\n",
    "class MyPTransform(beam.PTransform):\n",
    "    def expand(self, input_or_inputs):\n",
    "        return (\n",
    "            input_or_inputs\n",
    "            | \"Map California coords\" >> beam.Map(self.map_coords)\n",
    "            | \"Output California\" >> beam.Map(self.print_output)\n",
    "        )\n",
    "    # we could do all at once, lack of creativity right now...\n",
    "    def map_coords(self, r): return [r[0], r[4], \"{0}:{1}\".format(r[6], r[7])]\n",
    "    def print_output(self, r): print(\"{0} ({1}): {2}\".format(r[0], r[1], r[2]))\n",
    "\n",
    "\n",
    "p = beam.Pipeline()\n",
    "\n",
    "input_pcollection = (p\n",
    "                     | beam.io.ReadFromText(\"../../data/data.csv\", skip_header_lines=1)\n",
    "                     | beam.Map(split_row))\n",
    "\n",
    "california_pipeline = (\n",
    "    input_pcollection\n",
    "    | \"Filter by California\" >> beam.Filter(filter_by_state(\"California\"))\n",
    "    | \"Output California\" >> MyPTransform()\n",
    ")\n",
    "\n",
    "virginia_pipeline = (\n",
    "    input_pcollection\n",
    "    | \"Filter by Virginia\" >> beam.Filter(filter_by_state(\"Virginia\"))\n",
    "    | \"Output Virginia\" >> MyPTransform()\n",
    ")\n",
    "\n",
    "p.run()\n"
   ],
   "outputs": [
    {
     "output_type": "stream",
     "name": "stderr",
     "text": [
      "WARNING:root:Make sure that locally built Python SDK docker image has Python 3.7 interpreter.\n"
     ]
    },
    {
     "output_type": "stream",
     "name": "stdout",
     "text": [
      "Sally Perez (Virginia): 21.695083:-74.639022\n",
      "Katherine Brown (Virginia): 176.898896:-78.0468395\n",
      "Dakota Johns (Virginia): -38.787624:5.6548105\n",
      "Gloria Campbell (California): 31.391012:44.935951\n",
      "Cassandra Tate DVM (California): -57.151750:-89.197582\n",
      "Ruth Smith (California): -110.546998:-50.649564\n",
      "Chase Nguyen (Virginia): 1.338469:88.8614485\n",
      "Lawrence Ward (California): 106.943588:56.6778655\n",
      "Shawn Medina (Virginia): 11.908235:-57.610376\n",
      "Ashley Young (Virginia): -179.118863:87.081446\n",
      "John Graves (California): -25.681807:-51.1470995\n",
      "Dylan Riddle (California): 58.737640:-35.574537\n",
      "Austin Bailey (Virginia): -131.177666:-41.618640\n",
      "Eddie Anderson (Virginia): 115.144444:23.936091\n",
      "Kirk Hansen (California): 4.747861:14.297116\n",
      "Kenneth Wallace (Virginia): -116.117139:14.131123\n",
      "William Torres (California): 135.637560:55.508236\n",
      "Christine Medina (Virginia): 91.937495:39.0000155\n",
      "Scott Thomas (California): 18.506386:35.1735405\n",
      "Robert Duran (Virginia): -90.544291:-66.1066795\n",
      "Laura Thomas (California): -29.768384:-47.5448965\n",
      "Kristen Beck (Virginia): -76.405381:-0.4194865\n",
      "Daniel Robbins (Virginia): 107.605587:35.049607\n",
      "Karla Young (Virginia): 9.041022:88.4030435\n",
      "Amanda Gilbert (California): -156.423558:44.7511215\n",
      "Randy Sherman (California): 14.753127:14.9903065\n",
      "Julia White (California): 112.596501:32.067149\n",
      "William Benson (Virginia): 47.599233:59.390785\n",
      "Adrian Marks (California): 107.393095:1.643929\n",
      "Bonnie Thomas (California): -138.261655:-1.6785135\n",
      "Maria Thompson (Virginia): 2.267778:-65.797496\n",
      "Kaylee Young (California): -6.530414:1.291745\n"
     ]
    },
    {
     "output_type": "execute_result",
     "data": {
      "text/plain": [
       "<apache_beam.runners.portability.fn_api_runner.fn_runner.RunnerResult at 0x11d1bbb70>"
      ]
     },
     "metadata": {},
     "execution_count": 38
    }
   ],
   "metadata": {}
  },
  {
   "cell_type": "code",
   "execution_count": null,
   "source": [],
   "outputs": [],
   "metadata": {}
  }
 ],
 "metadata": {
  "orig_nbformat": 4,
  "language_info": {
   "name": "python",
   "version": "3.7.3",
   "mimetype": "text/x-python",
   "codemirror_mode": {
    "name": "ipython",
    "version": 3
   },
   "pygments_lexer": "ipython3",
   "nbconvert_exporter": "python",
   "file_extension": ".py"
  },
  "kernelspec": {
   "name": "python3",
   "display_name": "Python 3.7.3 64-bit"
  },
  "interpreter": {
   "hash": "5e9e782492abe76986abb217df66c682dff1e2775c232b6da186fa0872ab67b7"
  }
 },
 "nbformat": 4,
 "nbformat_minor": 2
}