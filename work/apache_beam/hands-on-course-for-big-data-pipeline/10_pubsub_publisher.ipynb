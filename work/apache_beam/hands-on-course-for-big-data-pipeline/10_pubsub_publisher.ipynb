{
 "cells": [
  {
   "cell_type": "code",
   "execution_count": null,
   "metadata": {},
   "outputs": [],
   "source": [
    "!pip install --upgrade google-cloud-pubsub"
   ]
  },
  {
   "cell_type": "code",
   "execution_count": null,
   "metadata": {},
   "outputs": [],
   "source": [
    "import time\n",
    "\n",
    "from google.cloud import pubsub_v1\n",
    "\n",
    "project_id = %env GOOGLE_CLOUD_PROJECT\n",
    "topic = \"projects/{}/topics/bigdata\".format(project_id)\n",
    "input_file = \"../../data/ml-latest-small/movies.csv\"\n",
    "publisher = pubsub_v1.PublisherClient()\n",
    "\n",
    "with open(input_file, \"br\") as f:\n",
    "    for row in f:\n",
    "      print(\"Publishing in topic...\")\n",
    "      publisher.publish(topic, row)\n",
    "      time.sleep(5)"
   ]
  }
 ],
 "metadata": {
  "interpreter": {
   "hash": "5e9e782492abe76986abb217df66c682dff1e2775c232b6da186fa0872ab67b7"
  },
  "kernelspec": {
   "display_name": "Python 3 (ipykernel)",
   "language": "python",
   "name": "python3"
  },
  "language_info": {
   "codemirror_mode": {
    "name": "ipython",
    "version": 3
   },
   "file_extension": ".py",
   "mimetype": "text/x-python",
   "name": "python",
   "nbconvert_exporter": "python",
   "pygments_lexer": "ipython3",
   "version": "3.9.10"
  }
 },
 "nbformat": 4,
 "nbformat_minor": 4
}
