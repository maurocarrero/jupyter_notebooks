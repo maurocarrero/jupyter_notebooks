{
 "cells": [
  {
   "cell_type": "code",
   "execution_count": null,
   "metadata": {},
   "outputs": [],
   "source": [
    "!pip install --upgrade google-cloud-pubsub\n",
    "!pip install --upgrade 'apache-beam[gcp]'\n",
    "!pip install --upgrade google-apitools"
   ]
  },
  {
   "cell_type": "code",
   "execution_count": null,
   "metadata": {},
   "outputs": [],
   "source": [
    "PROJECT_ID = %env GOOGLE_CLOUD_PROJECT"
   ]
  },
  {
   "cell_type": "code",
   "execution_count": null,
   "metadata": {},
   "outputs": [],
   "source": [
    "import apache_beam as beam\n",
    "import sys\n",
    "\n",
    "from apache_beam.transforms.combiners import Count\n",
    "from apache_beam.options.pipeline_options import PipelineOptions, StandardOptions\n",
    "\n",
    "sys.argv = [\"12_session_window.ipynb\"]\n",
    "encoding = \"utf-8\"\n",
    "\n",
    "input_subscription = \"projects/{}/subscriptions/ratings-sub\".format(PROJECT_ID)\n",
    "ratings_topic = \"projects/{}/topics/ratings\".format(PROJECT_ID)\n",
    "rating_count_topic = \"projects/{}/topics/ratings_count_window\".format(\n",
    "    PROJECT_ID)\n",
    "\n",
    "options = PipelineOptions()\n",
    "options.view_as(StandardOptions).streaming = True\n",
    "\n",
    "p = beam.Pipeline(options=options)\n",
    "\n",
    "\n",
    "def format_output(el):\n",
    "    (movie_id, ratings) = el\n",
    "    return \"{r} ratings for movieId {id}\".format(r=ratings, id=movie_id)\n",
    "\n",
    "\n",
    "pubsub_pipeline = (\n",
    "    p\n",
    "    | \"Read from PubSub topic\" >> beam.io.ReadFromPubSub(topic=ratings_topic)\n",
    "    | \"Split the records by comma\" >> beam.Map(lambda row: row.decode(encoding).split(\",\"))\n",
    "    | \"Form KV pair\" >> beam.Map(lambda r: (r[2], r[0]))\n",
    "    | \"Window\" >> beam.WindowInto(beam.window.Sessions(25))\n",
    "    | \"Count the ratings\" >> Count.PerKey()\n",
    "    | \"Format output\" >> beam.Map(format_output)\n",
    "    | \"Write to PubSub\" >> beam.io.WriteStringsToPubSub(rating_count_topic)\n",
    ")\n",
    "\n",
    "result = p.run()\n",
    "result.wait_until_finish()"
   ]
  }
 ],
 "metadata": {
  "interpreter": {
   "hash": "23393d2575091a37cff0d0e9e7479591a295495b26c3b2ebf9b64da572e02d85"
  },
  "kernelspec": {
   "display_name": "Python 3 (ipykernel)",
   "language": "python",
   "name": "python3"
  },
  "language_info": {
   "codemirror_mode": {
    "name": "ipython",
    "version": 3
   },
   "file_extension": ".py",
   "mimetype": "text/x-python",
   "name": "python",
   "nbconvert_exporter": "python",
   "pygments_lexer": "ipython3",
   "version": "3.9.10"
  }
 },
 "nbformat": 4,
 "nbformat_minor": 4
}
