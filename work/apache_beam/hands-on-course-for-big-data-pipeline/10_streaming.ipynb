{
 "cells": [
  {
   "cell_type": "code",
   "execution_count": null,
   "metadata": {},
   "outputs": [],
   "source": [
    "!pip install - -upgrade google-cloud-pubsub\n",
    "!pip install - -upgrade 'apache-beam[gcp]'\n",
    "!pip install - -upgrade google-apitools"
   ]
  },
  {
   "cell_type": "code",
   "execution_count": null,
   "metadata": {},
   "outputs": [],
   "source": [
    "PROJECT_ID = %env GOOGLE_CLOUD_PROJECT"
   ]
  },
  {
   "cell_type": "code",
   "execution_count": null,
   "metadata": {},
   "outputs": [],
   "source": [
    "import apache_beam as beam\n",
    "import sys\n",
    "\n",
    "from apache_beam.options.pipeline_options import PipelineOptions, StandardOptions\n",
    "\n",
    "\n",
    "sys.argv = [\"10_streaming.ipynb\"]\n",
    "encoding = \"utf-8\"\n",
    "input_subscription = \"projects/{}/subscriptions/movie_sub\".format(PROJECT_ID)\n",
    "\n",
    "options = PipelineOptions()\n",
    "options.view_as(StandardOptions).streaming = True\n",
    "\n",
    "p = beam.Pipeline(options=options)\n",
    "\n",
    "comedy_movies_topic = \"projects/{}/topics/comedy_movies\".format(PROJECT_ID)\n",
    "\n",
    "pubsub_pipeline = (\n",
    "    p\n",
    "    | \"Read from PubSub topic\" >> beam.io.ReadFromPubSub(subscription=input_subscription)\n",
    "    | \"Split the records by comma\" >> beam.Map(lambda row: row.decode(encoding).split(\",\"))\n",
    "    | \"Filter movies having Comedy as genre\" >> beam.Filter(lambda row: \"Comedy\" in row[2])\n",
    "    | \"Converting to byte String\" >> beam.Map(lambda row: \"\".join(row).encode(encoding))\n",
    "    | \"Write to PubSub\" >> beam.io.WriteToPubSub(comedy_movies_topic)\n",
    ")\n",
    "\n",
    "result = p.run()\n",
    "result.wait_until_finish()"
   ]
  }
 ],
 "metadata": {
  "interpreter": {
   "hash": "23393d2575091a37cff0d0e9e7479591a295495b26c3b2ebf9b64da572e02d85"
  },
  "kernelspec": {
   "display_name": "Python 3 (ipykernel)",
   "language": "python",
   "name": "python3"
  },
  "language_info": {
   "codemirror_mode": {
    "name": "ipython",
    "version": 3
   },
   "file_extension": ".py",
   "mimetype": "text/x-python",
   "name": "python",
   "nbconvert_exporter": "python",
   "pygments_lexer": "ipython3",
   "version": "3.9.10"
  }
 },
 "nbformat": 4,
 "nbformat_minor": 4
}
