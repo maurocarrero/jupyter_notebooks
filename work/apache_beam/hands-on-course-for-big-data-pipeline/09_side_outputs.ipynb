{
 "cells": [
  {
   "cell_type": "code",
   "execution_count": null,
   "metadata": {},
   "outputs": [],
   "source": [
    "import apache_beam as beam\n",
    "\n",
    "p = beam.Pipeline()\n",
    "\n",
    "side_input_retrieved_from_file = [\n",
    "    \"Arizona\",\n",
    "    \"Carolina\",\n",
    "    \"Colorado\",\n",
    "    \"Delaware\",\n",
    "    \"Georgia\",\n",
    "    \"Indiana\",\n",
    "    \"Kentucky\",\n",
    "    \"Montana\",\n",
    "    \"Massachusetts\",\n",
    "    \"Michigan\",\n",
    "    \"Oregon\",\n",
    "    \"Pennsylvania\",\n",
    "    \"South Carolina\",\n",
    "    \"North Carolina\",\n",
    "    \"Utah\",\n",
    "    \"Texas\",\n",
    "    \"Wyoming\"\n",
    "]\n",
    "\n",
    "\n",
    "class SplitRow(beam.DoFn):\n",
    "    def process(self, element, excluded_states):\n",
    "        row = element.split(\",\")\n",
    "        state = row[4]\n",
    "        if state not in excluded_states:\n",
    "            return [row]\n",
    "\n",
    "\n",
    "class ProcessUsersByState(beam.DoFn):\n",
    "    def process(self, element, state, start_char):\n",
    "        if element[4] == state:\n",
    "            yield element\n",
    "        else:\n",
    "            yield beam.pvalue.TaggedOutput(\"users_other\", element)\n",
    "\n",
    "        if element[0].startswith(start_char):\n",
    "            yield beam.pvalue.TaggedOutput(\"names_m\", element)\n",
    "\n",
    "\n",
    "users = (\n",
    "    p\n",
    "    | \"Readt data from CSV file\" >> beam.io.ReadFromText(\"../../data/data.csv\", skip_header_lines=1)\n",
    "    | \"Split row and remove excluded states\" >> beam.ParDo(SplitRow(), side_input_retrieved_from_file)\n",
    "    | \"Prepare side outputs\" >> beam.ParDo(ProcessUsersByState(), state=\"Minnesota\", start_char=\"M\").with_outputs(\"users_other\", \"names_m\", main=\"users_minnesota\")\n",
    ")\n",
    "\n",
    "users_minnesota = users.users_minnesota\n",
    "users_other = users.users_other\n",
    "names_m = users.names_m\n",
    "\n",
    "users_minnesota | \"Output with Minnesota users\" >> beam.io.WriteToText(\n",
    "    \"../../data/users_minnesota\", \".csv\")\n",
    "users_other | \"Output with valid users from other states\" >> beam.io.WriteToText(\n",
    "    \"../../data/users_other_states\", \".csv\")\n",
    "names_m | \"Output with valid users with names starting with M\" >> beam.io.WriteToText(\n",
    "    \"../../data/user_names_starting_with_m\", \".csv\")\n",
    "\n",
    "p.run()\n"
   ]
  },
  {
   "cell_type": "code",
   "execution_count": null,
   "metadata": {},
   "outputs": [],
   "source": [
    "!cat ../data/user_names_starting_with_m-*.csv"
   ]
  }
 ],
 "metadata": {
  "interpreter": {
   "hash": "5e9e782492abe76986abb217df66c682dff1e2775c232b6da186fa0872ab67b7"
  },
  "kernelspec": {
   "display_name": "Python 3 (ipykernel)",
   "language": "python",
   "name": "python3"
  },
  "language_info": {
   "codemirror_mode": {
    "name": "ipython",
    "version": 3
   },
   "file_extension": ".py",
   "mimetype": "text/x-python",
   "name": "python",
   "nbconvert_exporter": "python",
   "pygments_lexer": "ipython3",
   "version": "3.9.10"
  }
 },
 "nbformat": 4,
 "nbformat_minor": 4
}
