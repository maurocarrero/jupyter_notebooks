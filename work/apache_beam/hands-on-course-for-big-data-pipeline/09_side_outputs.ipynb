{
 "cells": [
  {
   "cell_type": "code",
   "execution_count": 17,
   "source": [
    "import apache_beam as beam\n",
    "\n",
    "p = beam.Pipeline()\n",
    "\n",
    "side_input_retrieved_from_file = [\n",
    "    \"Arizona\",\n",
    "    \"Carolina\",\n",
    "    \"Colorado\",\n",
    "    \"Delaware\",\n",
    "    \"Georgia\",\n",
    "    \"Indiana\",\n",
    "    \"Kentucky\",\n",
    "    \"Montana\",\n",
    "    \"Massachusetts\",\n",
    "    \"Michigan\",\n",
    "    \"Oregon\",\n",
    "    \"Pennsylvania\",\n",
    "    \"South Carolina\",\n",
    "    \"North Carolina\",\n",
    "    \"Utah\",\n",
    "    \"Texas\",\n",
    "    \"Wyoming\"\n",
    "]\n",
    "\n",
    "\n",
    "class SplitRow(beam.DoFn):\n",
    "    def process(self, element, excluded_states):\n",
    "        row = element.split(\",\")\n",
    "        state = row[4]\n",
    "        if state not in excluded_states:\n",
    "            return [row]\n",
    "\n",
    "\n",
    "class ProcessUsersByState(beam.DoFn):\n",
    "    def process(self, element, state, start_char):\n",
    "        if element[4] == state:\n",
    "            yield element\n",
    "        else:\n",
    "            yield beam.pvalue.TaggedOutput(\"users_other\", element)\n",
    "\n",
    "        if element[0].startswith(start_char):\n",
    "            yield beam.pvalue.TaggedOutput(\"names_m\", element)\n",
    "\n",
    "\n",
    "users = (\n",
    "    p\n",
    "    | \"Readt data from CSV file\" >> beam.io.ReadFromText(\"../../data/data.csv\", skip_header_lines=1)\n",
    "    | \"Split row and remove excluded states\" >> beam.ParDo(SplitRow(), side_input_retrieved_from_file)\n",
    "    | \"Prepare side outputs\" >> beam.ParDo(ProcessUsersByState(), state=\"Minnesota\", start_char=\"M\").with_outputs(\"users_other\", \"names_m\", main=\"users_minnesota\")\n",
    ")\n",
    "\n",
    "users_minnesota = users.users_minnesota\n",
    "users_other = users.users_other\n",
    "names_m = users.names_m\n",
    "\n",
    "users_minnesota | \"Output with Minnesota users\" >> beam.io.WriteToText(\n",
    "    \"../../data/users_minnesota\", \".csv\")\n",
    "users_other | \"Output with valid users from other states\" >> beam.io.WriteToText(\n",
    "    \"../../data/users_other_states\", \".csv\")\n",
    "names_m | \"Output with valid users with names starting with M\" >> beam.io.WriteToText(\n",
    "    \"../../data/user_names_starting_with_m\", \".csv\")\n",
    "\n",
    "p.run()\n"
   ],
   "outputs": [
    {
     "output_type": "stream",
     "name": "stderr",
     "text": [
      "WARNING:root:Make sure that locally built Python SDK docker image has Python 3.7 interpreter.\n",
      "WARNING:apache_beam.io.filebasedsink:Deleting 1 existing files in target path matching: -*-of-%(num_shards)05d\n",
      "WARNING:apache_beam.io.filebasedsink:Deleting 1 existing files in target path matching: -*-of-%(num_shards)05d\n",
      "WARNING:apache_beam.io.filebasedsink:Deleting 1 existing files in target path matching: -*-of-%(num_shards)05d\n"
     ]
    },
    {
     "output_type": "execute_result",
     "data": {
      "text/plain": [
       "<apache_beam.runners.portability.fn_api_runner.fn_runner.RunnerResult at 0x12a8d2cf8>"
      ]
     },
     "metadata": {},
     "execution_count": 17
    }
   ],
   "metadata": {}
  },
  {
   "cell_type": "code",
   "execution_count": 18,
   "source": [
    "!cat ../data/user_names_starting_with_m-*.csv"
   ],
   "outputs": [
    {
     "output_type": "stream",
     "name": "stdout",
     "text": [
      "['Mark Daniels', '48', '3082 Walker Roads', 'Webbburgh', 'Ohio', '18701', '80.283513', '27.1533405']\n",
      "['Melissa Richardson', '69', '2000 Beard Groves', 'Ruizfort', 'West Virginia', '70878', '-54.933020', '-56.1475135']\n",
      "['Maria Johnson', '41', '1564 Hall Forks', 'North Timothyhaven', 'Idaho', '97875', '36.093994', '86.658500']\n",
      "['Maria Pham', '36', '385 Lisa Roads Suite 840', 'New Jonathan', 'Tennessee', '03741', '-70.544170', '-61.7980625']\n",
      "['Michael Johnston MD', '56', '074 James Heights', 'East Melissa', 'New Mexico', '84620', '31.804817', '-64.5267475']\n",
      "['Michelle Guzman', '74', '040 Ashley Plain', 'East Gabriel', 'Mississippi', '63323', '136.243095', '-58.3616125']\n",
      "['Morgan Heath', '44', '035 Edward Views Apt. 016', 'Andersonview', 'New Hampshire', '27516', '-26.058075', '58.475900']\n",
      "['Matthew Mendoza', '59', '44424 Thomas Trail', 'Johnport', 'Maryland', '76879', '-49.449148', '-30.5279105']\n",
      "['Mary Woods', '66', '151 Cook Streets Apt. 292', 'South Cristian', 'Idaho', '45717', '174.165862', '57.482688']\n",
      "['Michael Nelson', '34', '1506 Kennedy Divide', 'Morenoborough', 'North Dakota', '83911', '53.304977', '30.081343']\n",
      "['Mary Thompson', '35', '573 Ramos Tunnel', 'Angelchester', 'Maryland', '08157', '-68.870082', '33.493483']\n",
      "['Mark Brown', '65', '841 Amy Mission', 'New Glenn', 'New Hampshire', '02891', '93.429012', '-26.773409']\n",
      "['Michelle Patel', '48', '72162 Carrillo Pine Apt. 273', 'Hickschester', 'Washington', '68901', '-29.164087', '-44.2544795']\n",
      "['Michael James', '49', '3507 Chan Ports Suite 280', 'East Ryan', 'Maine', '37895', '-177.868260', '-82.482843']\n",
      "['Mckenzie Zamora', '57', '69370 Kevin Hills Suite 719', 'Kimberlyland', 'Nebraska', '44425', '-45.756296', '-72.5926565']\n",
      "['Michelle Andrews', '58', '6503 Melissa Extensions Suite 368', 'South Jason', 'North Dakota', '55065', '-148.418236', '68.129798']\n",
      "['Michael Miller', '50', '733 Cheyenne Plains Apt. 194', 'North Sean', 'Tennessee', '71204', '33.200781', '-6.6833745']\n",
      "['Mark Taylor', '71', '917 Scott Junctions', 'Jessicaborough', 'Maryland', '43595', '47.411408', '-76.407537']\n",
      "['Michelle Bradley', '42', '45275 Ann Fort', 'North Jennifer', 'New Hampshire', '64587', '172.809452', '86.280268']\n",
      "['Marvin Morales DVM', '54', '047 Stewart Camp Suite 004', 'Whitehaven', 'South Dakota', '78883', '42.302335', '33.047576']\n",
      "['Melissa Nichols', '65', '44410 Rhonda Rapids', 'Crystalshire', 'Mississippi', '60069', '-71.479931', '27.1286635']\n",
      "['Melody Miles', '55', '665 Munoz Burg Apt. 915', 'Stephensburgh', 'North Dakota', '58947', '-155.817353', '-10.754896']\n",
      "['Megan Wilson', '68', '946 Young Courts Apt. 320', 'North Phillip', 'Hawaii', '84445', '70.507773', '-76.730522']\n",
      "['Mrs. Lindsey White', '64', '813 Jones Views Suite 884', 'West Shelbytown', 'Mississippi', '21723', '-32.337020', '66.6177365']\n",
      "['Mrs. Paula Ramirez MD', '67', '309 Morgan Hills', 'New Vincent', 'Nebraska', '47718', '27.952544', '51.0954195']\n",
      "['Mathew Fritz', '80', '66137 Brandon Highway Apt. 413', 'Lake John', 'Connecticut', '09256', '-122.352127', '-26.4926515']\n",
      "['Mark Kennedy', '38', '61016 Dylan Isle', 'North Brianatown', 'Kansas', '91393', '-135.023047', '-75.4646115']\n",
      "['Mark Roberts', '18', '3432 Aaron Union', 'Reginaldborough', 'Louisiana', '32796', '-23.825635', '-67.194085']\n",
      "['Miguel Larsen', '28', '792 Kelly Spring', 'East Heiditon', 'New Jersey', '20801', '144.664251', '82.3808255']\n",
      "['Maria Ramos', '32', '728 Tony Walk Suite 101', 'Cartermouth', 'West Virginia', '04831', '-176.265662', '-77.1574225']\n",
      "['Maureen Lewis', '70', '653 Carlson Highway', 'East Kathleen', 'Ohio', '75895', '-4.541277', '8.5323555']\n",
      "['Maureen Shaw', '19', '86883 White Hill', 'North Ericville', 'Connecticut', '29479', '31.732328', '-21.513467']\n",
      "['Mrs. Diane Pitts', '38', '73261 Lisa Cliff', 'West Todd', 'Vermont', '69443', '133.932164', '-75.480797']\n",
      "['Marcus Soto', '50', '127 Orr Junction Suite 417', 'Onealburgh', 'New Hampshire', '68044', '-76.159609', '-36.3301645']\n",
      "['Maurice Anderson', '79', '395 Rebecca Lights Suite 754', 'Port Justinport', 'Maryland', '99847', '28.297214', '-35.228010']\n",
      "['Monica Phillips', '20', '53485 Keith Walks Apt. 109', 'Monicaside', 'New Hampshire', '42107', '-95.892004', '70.635015']\n",
      "['Michael Salinas', '36', '5461 Emily Spur', 'Jasonfurt', 'Oklahoma', '97841', '-4.387510', '-71.8573065']\n",
      "['Mary Mills', '65', '0642 Fitzgerald Ramp', 'East Heidichester', 'Idaho', '25028', '-74.827759', '45.7944385']\n",
      "['Maria Powell', '62', '70230 Jefferson Green Apt. 505', 'Lake Brianna', 'Iowa', '86756', '127.351071', '-3.0354445']\n",
      "['Michael Williams', '80', '83763 Mark Green', 'Amyhaven', 'North Dakota', '20296', '78.627711', '-29.052426']\n",
      "['Michael Brennan', '28', '386 Stephanie Creek', 'Phillipsport', 'South Dakota', '23560', '-64.259806', '-37.022288']\n",
      "['Melissa Martinez', '66', '6038 Phillips Estates', 'Chaseview', 'Nebraska', '15343', '52.556282', '46.6658515']\n",
      "['Miguel Lewis', '75', '9482 Alyssa Glens', 'West Nicholasfort', 'Hawaii', '28172', '-90.626394', '5.238488']\n",
      "['Michelle Rodriguez', '80', '52392 Jill Pines Apt. 382', 'West Amandaport', 'Alabama', '09692', '148.411996', '68.4862535']\n",
      "['Michael Marks', '46', '79370 Neal Bypass Apt. 618', 'Thomasfurt', 'Nevada', '25285', '-140.591418', '30.938346']\n",
      "['Melissa Collins', '48', '816 Reid Place', 'Port David', 'Nevada', '32908', '-34.188978', '49.020378']\n",
      "['Melissa Reed', '26', '543 Strickland Drive Apt. 072', 'Morrismouth', 'Alabama', '80445', '-54.248676', '-28.5166635']\n",
      "['Michele Hardy', '22', '85044 Megan Haven', 'Feliciabury', 'New York', '86520', '59.299836', '-76.4076915']\n",
      "['Mr. Paul Colon', '37', '242 Smith Glen Suite 579', 'Jonesland', 'Oklahoma', '33946', '178.366962', '-14.295291']\n",
      "['Michael Gutierrez', '73', '77963 Emily Springs Suite 872', 'Toddfurt', 'Minnesota', '25002', '-74.951709', '-89.5644545']\n",
      "['Marcus Hall', '75', '13331 Barbara Greens', 'New Andrew', 'Florida', '75855', '-104.220979', '-3.249308']\n",
      "['Michael Moore', '33', '382 Briggs Shores Suite 358', 'North Abigailfurt', 'New York', '32589', '118.637446', '63.7938575']\n",
      "['Marissa Wells', '77', '11014 Benson Key Suite 359', 'New Colleenstad', 'Mississippi', '95153', '-64.077774', '-7.623057']\n",
      "['Maria Ellis', '25', '6934 Blackwell Walk Suite 324', 'West Stevenstad', 'Florida', '11097', '89.096227', '-0.8746435']\n",
      "['Michael Stewart', '73', '0646 Long Mall Suite 564', 'Robbinsbury', 'Alaska', '05157', '-55.126626', '62.9566545']\n",
      "['Maria Barton', '73', '078 Jessica Well Apt. 911', 'North Barbara', 'Florida', '30589', '-71.056167', '26.304327']\n",
      "['Mary Moses', '26', '244 Wilkinson View', 'Millermouth', 'Alaska', '49344', '75.333895', '83.9860505']\n",
      "['Mary Noble', '78', '94513 Blair Pine Suite 820', 'West Jennifer', 'New Jersey', '27114', '-17.207422', '-24.3712555']\n",
      "['Michael Fowler', '31', '65066 Bean Bypass Suite 357', 'Kaitlinmouth', 'New Mexico', '30775', '-46.335969', '75.5016355']\n",
      "['Mark Gonzalez', '66', '748 Morgan Unions Apt. 402', 'Port Kimberly', 'Minnesota', '93696', '126.895988', '-62.881291']\n",
      "['Megan Maldonado', '65', '130 Ward Mountain Apt. 486', 'New Erika', 'Louisiana', '17692', '137.341518', '45.257692']\n",
      "['Michelle Mcguire', '80', '915 Elizabeth Pike', 'Adrianaview', 'Kansas', '62946', '148.606465', '-30.5447195']\n",
      "['Matthew Baker', '22', '89228 Shannon Prairie', 'Moralesbury', 'Ohio', '21626', '144.191074', '-32.893455']\n",
      "['Michael Ray', '29', '638 Thompson Squares Apt. 439', 'East Carmenmouth', 'North Dakota', '34157', '-26.278714', '17.0002545']\n",
      "['Maureen Moore', '33', '87344 Charles Brooks Apt. 332', 'West Katherine', 'Louisiana', '60202', '8.885851', '-48.961851']\n",
      "['Mitchell Daniel', '51', '729 Gillespie Union', 'Danielborough', 'Alaska', '74521', '-138.537891', '29.7067375']\n",
      "['Monica Patel', '66', '8963 Carlson Summit', 'West Cheryl', 'New Hampshire', '26250', '-36.581297', '74.819138']\n",
      "['Maria Thompson', '40', '3171 Woods Motorway', 'Sullivanchester', 'Virginia', '12118', '2.267778', '-65.797496']\n",
      "['Mary Wright', '67', '6014 Bailey Alley', 'Port Leeport', 'Iowa', '33328', '179.180428', '87.804235']\n",
      "['Michael Khan', '69', '9626 Ross Forges', 'Keyberg', 'Vermont', '37513', '-7.100205', '31.206837']\n"
     ]
    }
   ],
   "metadata": {}
  },
  {
   "cell_type": "code",
   "execution_count": null,
   "source": [],
   "outputs": [],
   "metadata": {}
  }
 ],
 "metadata": {
  "orig_nbformat": 4,
  "language_info": {
   "name": "python",
   "version": "3.7.3",
   "mimetype": "text/x-python",
   "codemirror_mode": {
    "name": "ipython",
    "version": 3
   },
   "pygments_lexer": "ipython3",
   "nbconvert_exporter": "python",
   "file_extension": ".py"
  },
  "kernelspec": {
   "name": "python3",
   "display_name": "Python 3.7.3 64-bit"
  },
  "interpreter": {
   "hash": "5e9e782492abe76986abb217df66c682dff1e2775c232b6da186fa0872ab67b7"
  }
 },
 "nbformat": 4,
 "nbformat_minor": 2
}