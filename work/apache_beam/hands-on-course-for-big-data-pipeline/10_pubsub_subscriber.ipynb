{
 "cells": [
  {
   "cell_type": "code",
   "execution_count": null,
   "metadata": {},
   "outputs": [],
   "source": [
    "!pip install --upgrade google-cloud-pubsub"
   ]
  },
  {
   "cell_type": "code",
   "execution_count": null,
   "metadata": {},
   "outputs": [],
   "source": [
    "import time\n",
    "\n",
    "from google.cloud import pubsub_v1\n",
    "\n",
    "project_id = %env GOOGLE_CLOUD_PROJECT\n",
    "comedy_movies_sub = \"projects/{0}/subscriptions/comedy_movies_sub\".format(\n",
    "    project_id)\n",
    "\n",
    "subscriber = pubsub_v1.SubscriberClient()\n",
    "\n",
    "\n",
    "def callback(message):\n",
    "    print(\"Received message: {}\".format(message))\n",
    "    message.ack()\n",
    "\n",
    "\n",
    "subscriber.subscribe(comedy_movies_sub, callback=callback)\n",
    "\n",
    "while True:\n",
    "    time.sleep(1)\n"
   ]
  }
 ],
 "metadata": {
  "interpreter": {
   "hash": "5e9e782492abe76986abb217df66c682dff1e2775c232b6da186fa0872ab67b7"
  },
  "kernelspec": {
   "display_name": "Python 3 (ipykernel)",
   "language": "python",
   "name": "python3"
  },
  "language_info": {
   "codemirror_mode": {
    "name": "ipython",
    "version": 3
   },
   "file_extension": ".py",
   "mimetype": "text/x-python",
   "name": "python",
   "nbconvert_exporter": "python",
   "pygments_lexer": "ipython3",
   "version": "3.9.10"
  }
 },
 "nbformat": 4,
 "nbformat_minor": 4
}
