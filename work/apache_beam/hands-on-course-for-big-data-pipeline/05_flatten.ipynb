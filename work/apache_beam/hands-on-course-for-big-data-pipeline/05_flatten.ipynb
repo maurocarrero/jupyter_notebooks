{
 "cells": [
  {
   "cell_type": "markdown",
   "metadata": {},
   "source": [
    "# Flatten\n",
    "\n",
    "Flattens a collection"
   ]
  },
  {
   "cell_type": "code",
   "execution_count": null,
   "metadata": {},
   "outputs": [],
   "source": [
    "import apache_beam as beam\n",
    "\n",
    "evens = [2, 4, 6, 8]\n",
    "odds = [1, 3, 5, 7, 9]\n",
    "names = [\"Lorna\", \"Paul\", \"John\", \"Gabriela\"]\n",
    "\n",
    "p = beam.Pipeline()\n",
    "\n",
    "evens_pc = p | \"Create Even numbers PCollection\" >> beam.Create(evens)\n",
    "odds_pc = p | \"Create Odd numbers PCollection\" >> beam.Create(odds)\n",
    "names_pc = p | \"Create Names PCollection\" >> beam.Create(names)\n",
    "\n",
    "(\n",
    "    {evens_pc, odds_pc, names_pc} | beam.Flatten() | beam.Map(print)\n",
    ")\n",
    "\n",
    "p.run()\n"
   ]
  }
 ],
 "metadata": {
  "interpreter": {
   "hash": "5e9e782492abe76986abb217df66c682dff1e2775c232b6da186fa0872ab67b7"
  },
  "kernelspec": {
   "display_name": "Python 3 (ipykernel)",
   "language": "python",
   "name": "python3"
  },
  "language_info": {
   "codemirror_mode": {
    "name": "ipython",
    "version": 3
   },
   "file_extension": ".py",
   "mimetype": "text/x-python",
   "name": "python",
   "nbconvert_exporter": "python",
   "pygments_lexer": "ipython3",
   "version": "3.9.10"
  }
 },
 "nbformat": 4,
 "nbformat_minor": 4
}
