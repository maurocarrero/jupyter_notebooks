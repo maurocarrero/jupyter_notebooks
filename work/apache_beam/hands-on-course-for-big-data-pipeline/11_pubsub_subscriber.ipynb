{
 "cells": [
  {
   "cell_type": "code",
   "execution_count": null,
   "metadata": {},
   "outputs": [],
   "source": [
    "!pip install --upgrade google-cloud-pubsub"
   ]
  },
  {
   "cell_type": "code",
   "execution_count": null,
   "metadata": {},
   "outputs": [],
   "source": [
    "import time\n",
    "\n",
    "from google.cloud import pubsub_v1\n",
    "\n",
    "project_id = %env GOOGLE_CLOUD_PROJECT\n",
    "ratings_count_window_sub = \"projects/{0}/subscriptions/ratings_count_window-sub\".format(\n",
    "    project_id)\n",
    "\n",
    "subscriber = pubsub_v1.SubscriberClient()\n",
    "\n",
    "\n",
    "def callback(message):\n",
    "    print(\"Received message: {}\".format(message))\n",
    "    message.ack()\n",
    "\n",
    "\n",
    "subscriber.subscribe(ratings_count_window_sub, callback=callback)\n",
    "\n",
    "while True:\n",
    "    time.sleep(1)\n"
   ]
  },
  {
   "cell_type": "code",
   "execution_count": null,
   "metadata": {},
   "outputs": [],
   "source": []
  }
 ],
 "metadata": {
  "interpreter": {
   "hash": "23393d2575091a37cff0d0e9e7479591a295495b26c3b2ebf9b64da572e02d85"
  },
  "kernelspec": {
   "display_name": "Python 3.7.3 64-bit",
   "name": "python3"
  },
  "language_info": {
   "codemirror_mode": {
    "name": "ipython",
    "version": 3
   },
   "file_extension": ".py",
   "mimetype": "text/x-python",
   "name": "python",
   "nbconvert_exporter": "python",
   "pygments_lexer": "ipython3",
   "version": "3.7.3"
  },
  "orig_nbformat": 4
 },
 "nbformat": 4,
 "nbformat_minor": 2
}
