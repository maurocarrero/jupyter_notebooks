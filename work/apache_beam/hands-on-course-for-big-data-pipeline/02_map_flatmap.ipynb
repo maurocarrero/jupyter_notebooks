{
 "cells": [
  {
   "cell_type": "code",
   "execution_count": 115,
   "source": [
    "! rm ../data/output*"
   ],
   "outputs": [],
   "metadata": {}
  },
  {
   "cell_type": "code",
   "execution_count": 116,
   "source": [
    "import apache_beam as beam"
   ],
   "outputs": [],
   "metadata": {}
  },
  {
   "cell_type": "code",
   "execution_count": 117,
   "source": [
    "p1 = beam.Pipeline()\n",
    "(\n",
    "    p1\n",
    "    | beam.io.ReadFromText(\"../../data/data.csv\", skip_header_lines=1)\n",
    "    | beam.Map(lambda r: r.split(\",\"))\n",
    "    | beam.Filter(lambda r: r[4] == \"Virginia\" and int(r[1]) > 40)\n",
    "    | beam.Map(lambda r: \",\".join(r))\n",
    "    | beam.io.WriteToText(\"../../data/output\", \".csv\", True, 1, \"_SS-NN_\", header=\"Name,Age,Street,City,State,Zip,Lng,Lat\")\n",
    ")\n",
    "p1.run()\n"
   ],
   "outputs": [
    {
     "output_type": "stream",
     "name": "stderr",
     "text": [
      "WARNING:root:Make sure that locally built Python SDK docker image has Python 3.7 interpreter.\n"
     ]
    },
    {
     "output_type": "execute_result",
     "data": {
      "text/plain": [
       "<apache_beam.runners.portability.fn_api_runner.fn_runner.RunnerResult at 0x1227bfeb8>"
      ]
     },
     "metadata": {},
     "execution_count": 117
    }
   ],
   "metadata": {}
  },
  {
   "cell_type": "code",
   "execution_count": 118,
   "source": [
    "! cat ../data/output*"
   ],
   "outputs": [
    {
     "output_type": "stream",
     "name": "stdout",
     "text": [
      "Name,Age,Street,City,State,Zip,Lng,Lat\n",
      "Katherine Brown,44,54781 Lisa Ridge Apt. 024,Maryberg,Virginia,49378,176.898896,-78.0468395\n",
      "Ashley Young,65,93845 Maxwell Ridges,Crossville,Virginia,14322,-179.118863,87.081446\n",
      "Austin Bailey,60,49198 Judy Stravenue Suite 529,Gonzaleshaven,Virginia,80156,-131.177666,-41.618640\n",
      "Eddie Anderson,53,29452 Brandy Estate Apt. 333,Woodsmouth,Virginia,07592,115.144444,23.936091\n",
      "Kenneth Wallace,65,73898 Smith Prairie,New Edward,Virginia,34955,-116.117139,14.131123\n",
      "Christine Medina,64,4335 Mary Forges Apt. 379,South Bryan,Virginia,38013,91.937495,39.0000155\n",
      "Robert Duran,58,625 Jarvis Fords Suite 516,West Jamestown,Virginia,37329,-90.544291,-66.1066795\n",
      "Kristen Beck,45,2278 Taylor Valley,East Calvinville,Virginia,42028,-76.405381,-0.4194865\n",
      "Daniel Robbins,70,92452 Harris Green Suite 709,North Robertland,Virginia,90782,107.605587,35.049607\n",
      "William Benson,78,674 Sanders Squares Apt. 729,Whitneyland,Virginia,21131,47.599233,59.390785\n"
     ]
    }
   ],
   "metadata": {}
  },
  {
   "cell_type": "code",
   "execution_count": 119,
   "source": [
    "def cleanData(w):\n",
    "    punctuation_chars = [\",\", \".\", \"?\"]\n",
    "    for char in punctuation_chars:\n",
    "        w = w.replace(char, \"\")\n",
    "    return w.lower()\n",
    "\n",
    "\n",
    "def check_word(w):\n",
    "    words = [\"peter\", \"piper\", \"picked\", \"peck\", \"pepper\"]\n",
    "    return w in words\n",
    "\n",
    "\n",
    "p = beam.Pipeline()\n",
    "(\n",
    "    p\n",
    "    | beam.io.ReadFromText(\"../../data/peter_piper.txt\")\n",
    "    | beam.FlatMap(lambda r: r.split(\" \"))\n",
    "    | beam.Map(cleanData)\n",
    "    | beam.Filter(check_word)\n",
    "    | beam.Map(lambda w: (w, 1))\n",
    "    | beam.CombinePerKey(sum)\n",
    "    | beam.Map(lambda t: \": \".join(map(str, t)))\n",
    "    | beam.Map(print)\n",
    ")\n",
    "p.run()\n"
   ],
   "outputs": [
    {
     "output_type": "stream",
     "name": "stderr",
     "text": [
      "WARNING:root:Make sure that locally built Python SDK docker image has Python 3.7 interpreter.\n"
     ]
    },
    {
     "output_type": "stream",
     "name": "stdout",
     "text": [
      "peter: 4\n",
      "piper: 4\n",
      "picked: 4\n",
      "peck: 4\n"
     ]
    },
    {
     "output_type": "execute_result",
     "data": {
      "text/plain": [
       "<apache_beam.runners.portability.fn_api_runner.fn_runner.RunnerResult at 0x12266c278>"
      ]
     },
     "metadata": {},
     "execution_count": 119
    }
   ],
   "metadata": {}
  },
  {
   "cell_type": "code",
   "execution_count": null,
   "source": [],
   "outputs": [],
   "metadata": {}
  }
 ],
 "metadata": {
  "orig_nbformat": 4,
  "language_info": {
   "name": "python",
   "version": "3.7.3",
   "mimetype": "text/x-python",
   "codemirror_mode": {
    "name": "ipython",
    "version": 3
   },
   "pygments_lexer": "ipython3",
   "nbconvert_exporter": "python",
   "file_extension": ".py"
  },
  "kernelspec": {
   "name": "python3",
   "display_name": "Python 3.7.3 64-bit"
  },
  "interpreter": {
   "hash": "5e9e782492abe76986abb217df66c682dff1e2775c232b6da186fa0872ab67b7"
  }
 },
 "nbformat": 4,
 "nbformat_minor": 2
}