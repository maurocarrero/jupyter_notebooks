{
 "cells": [
  {
   "cell_type": "code",
   "execution_count": null,
   "metadata": {},
   "outputs": [],
   "source": [
    "! rm ../data/output*"
   ]
  },
  {
   "cell_type": "code",
   "execution_count": null,
   "metadata": {},
   "outputs": [],
   "source": [
    "import apache_beam as beam"
   ]
  },
  {
   "cell_type": "code",
   "execution_count": null,
   "metadata": {},
   "outputs": [],
   "source": [
    "p1 = beam.Pipeline()\n",
    "(\n",
    "    p1\n",
    "    | beam.io.ReadFromText(\"../../data/data.csv\", skip_header_lines=1)\n",
    "    | beam.Map(lambda r: r.split(\",\"))\n",
    "    | beam.Filter(lambda r: r[4] == \"Virginia\" and int(r[1]) > 40)\n",
    "    | beam.Map(lambda r: \",\".join(r))\n",
    "    | beam.io.WriteToText(\"../../data/output\", \".csv\", True, 1, \"_SS-NN_\", header=\"Name,Age,Street,City,State,Zip,Lng,Lat\")\n",
    ")\n",
    "p1.run()\n"
   ]
  },
  {
   "cell_type": "code",
   "execution_count": null,
   "metadata": {},
   "outputs": [],
   "source": [
    "! cat ../data/output*"
   ]
  },
  {
   "cell_type": "code",
   "execution_count": null,
   "metadata": {},
   "outputs": [],
   "source": [
    "def cleanData(w):\n",
    "    punctuation_chars = [\",\", \".\", \"?\"]\n",
    "    for char in punctuation_chars:\n",
    "        w = w.replace(char, \"\")\n",
    "    return w.lower()\n",
    "\n",
    "\n",
    "def check_word(w):\n",
    "    words = [\"peter\", \"piper\", \"picked\", \"peck\", \"pepper\"]\n",
    "    return w in words\n",
    "\n",
    "\n",
    "p = beam.Pipeline()\n",
    "(\n",
    "    p\n",
    "    | beam.io.ReadFromText(\"../../data/peter_piper.txt\")\n",
    "    | beam.FlatMap(lambda r: r.split(\" \"))\n",
    "    | beam.Map(cleanData)\n",
    "    | beam.Filter(check_word)\n",
    "    | beam.Map(lambda w: (w, 1))\n",
    "    | beam.CombinePerKey(sum)\n",
    "    | beam.Map(lambda t: \": \".join(map(str, t)))\n",
    "    | beam.Map(print)\n",
    ")\n",
    "p.run()\n"
   ]
  }
 ],
 "metadata": {
  "interpreter": {
   "hash": "5e9e782492abe76986abb217df66c682dff1e2775c232b6da186fa0872ab67b7"
  },
  "kernelspec": {
   "display_name": "Python 3 (ipykernel)",
   "language": "python",
   "name": "python3"
  },
  "language_info": {
   "codemirror_mode": {
    "name": "ipython",
    "version": 3
   },
   "file_extension": ".py",
   "mimetype": "text/x-python",
   "name": "python",
   "nbconvert_exporter": "python",
   "pygments_lexer": "ipython3",
   "version": "3.9.10"
  }
 },
 "nbformat": 4,
 "nbformat_minor": 4
}
