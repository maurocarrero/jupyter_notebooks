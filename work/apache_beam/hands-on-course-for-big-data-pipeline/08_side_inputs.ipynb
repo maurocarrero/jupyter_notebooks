{
 "cells": [
  {
   "cell_type": "code",
   "execution_count": null,
   "metadata": {},
   "outputs": [],
   "source": [
    "# import apache_beam as beam\n",
    "# from random import randint\n",
    "\n",
    "\n",
    "# class SplitRow(beam.DoFn):\n",
    "#     def process(self, element):\n",
    "#         return [element.split(\",\")]\n",
    "\n",
    "\n",
    "# p = beam.Pipeline()\n",
    "\n",
    "# (\n",
    "#     p\n",
    "#     | beam.io.ReadFromText(\"../../data/data.csv\", skip_header_lines=1)\n",
    "#     | \"Split CSV\" >> beam.ParDo(SplitRow())\n",
    "#     | \"Add visits\" >> beam.Map(lambda r: \",\".join([r[0], str(randint(0, 100))]))\n",
    "#     | beam.io.WriteToText(file_path_prefix=\"../../data/data_side_input\", file_name_suffix=\".csv\", header=\"Name,Visits\")\n",
    "# )\n",
    "\n",
    "# Run to regenerate the side input\n",
    "# p.run()\n"
   ]
  },
  {
   "cell_type": "code",
   "execution_count": null,
   "metadata": {},
   "outputs": [],
   "source": [
    "import apache_beam as beam\n",
    "import csv\n",
    "\n",
    "p = beam.Pipeline()\n",
    "\n",
    "side_input = dict()\n",
    "\n",
    "with open(\"../../data/data_side_input.csv\") as f:\n",
    "    reader = csv.DictReader(f)\n",
    "    next(reader)\n",
    "    for row in reader:\n",
    "        side_input[row['Name']] = row['Visits']\n",
    "\n",
    "\n",
    "class FindUsersWithNoVisits(beam.DoFn):\n",
    "    def process(self, element, side_input):\n",
    "        row = element.split(\",\")\n",
    "        visits = side_input.get(row[0])\n",
    "        if visits != None and int(visits) < 1:\n",
    "            return [element]\n",
    "\n",
    "\n",
    "(\n",
    "    p\n",
    "    | beam.io.ReadFromText(\"../../data/data.csv\", skip_header_lines=1)\n",
    "    | \"Find users with 0 visits\" >> beam.ParDo(FindUsersWithNoVisits(), side_input)\n",
    "    | beam.Map(print)\n",
    ")\n",
    "\n",
    "p.run()\n"
   ]
  }
 ],
 "metadata": {
  "interpreter": {
   "hash": "5e9e782492abe76986abb217df66c682dff1e2775c232b6da186fa0872ab67b7"
  },
  "kernelspec": {
   "display_name": "Python 3 (ipykernel)",
   "language": "python",
   "name": "python3"
  },
  "language_info": {
   "codemirror_mode": {
    "name": "ipython",
    "version": 3
   },
   "file_extension": ".py",
   "mimetype": "text/x-python",
   "name": "python",
   "nbconvert_exporter": "python",
   "pygments_lexer": "ipython3",
   "version": "3.9.10"
  }
 },
 "nbformat": 4,
 "nbformat_minor": 4
}
