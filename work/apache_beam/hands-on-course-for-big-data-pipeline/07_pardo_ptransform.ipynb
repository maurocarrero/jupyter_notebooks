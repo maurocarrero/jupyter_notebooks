{
 "cells": [
  {
   "cell_type": "code",
   "execution_count": 3,
   "source": [
    "import apache_beam as beam\n",
    "\n",
    "\n",
    "class SplitRow(beam.DoFn):\n",
    "    def process(self, element):\n",
    "        return [element.split(\",\")]\n",
    "\n",
    "\n",
    "class FilterByVirginia(beam.DoFn):\n",
    "    def process(self, element):\n",
    "        if (element[4] == \"Virginia\"):\n",
    "            element.remove(\"Virginia\")\n",
    "            return [element]\n",
    "\n",
    "\n",
    "p = beam.Pipeline()\n",
    "\n",
    "(\n",
    "    p\n",
    "    | beam.io.ReadFromText(\"../../data/data.csv\", skip_header_lines=1)\n",
    "    | \"Split CSV\" >> beam.ParDo(SplitRow())\n",
    "    | \"Filter by Virginia\" >> beam.ParDo(FilterByVirginia())\n",
    "    | beam.Map(print)\n",
    ")\n",
    "\n",
    "p.run()\n"
   ],
   "outputs": [
    {
     "output_type": "stream",
     "name": "stderr",
     "text": [
      "WARNING:root:Make sure that locally built Python SDK docker image has Python 3.7 interpreter.\n"
     ]
    },
    {
     "output_type": "stream",
     "name": "stdout",
     "text": [
      "['Sally Perez', '29', '366 Alyssa Landing', 'East Nicole', '81829', '21.695083', '-74.639022']\n",
      "['Katherine Brown', '44', '54781 Lisa Ridge Apt. 024', 'Maryberg', '49378', '176.898896', '-78.0468395']\n",
      "['Dakota Johns', '35', '4958 Ferguson Estate Apt. 028', 'Washingtonton', '43020', '-38.787624', '5.6548105']\n",
      "['Chase Nguyen', '23', '42875 Steven Plain', 'Rebeccafurt', '57347', '1.338469', '88.8614485']\n",
      "['Shawn Medina', '28', '3779 Mark Oval Suite 314', 'Port Wendyville', '13774', '11.908235', '-57.610376']\n",
      "['Ashley Young', '65', '93845 Maxwell Ridges', 'Crossville', '14322', '-179.118863', '87.081446']\n",
      "['Austin Bailey', '60', '49198 Judy Stravenue Suite 529', 'Gonzaleshaven', '80156', '-131.177666', '-41.618640']\n",
      "['Eddie Anderson', '53', '29452 Brandy Estate Apt. 333', 'Woodsmouth', '07592', '115.144444', '23.936091']\n",
      "['Kenneth Wallace', '65', '73898 Smith Prairie', 'New Edward', '34955', '-116.117139', '14.131123']\n",
      "['Christine Medina', '64', '4335 Mary Forges Apt. 379', 'South Bryan', '38013', '91.937495', '39.0000155']\n",
      "['Robert Duran', '58', '625 Jarvis Fords Suite 516', 'West Jamestown', '37329', '-90.544291', '-66.1066795']\n",
      "['Kristen Beck', '45', '2278 Taylor Valley', 'East Calvinville', '42028', '-76.405381', '-0.4194865']\n",
      "['Daniel Robbins', '70', '92452 Harris Green Suite 709', 'North Robertland', '90782', '107.605587', '35.049607']\n",
      "['Karla Young', '23', '89329 Torres Streets', 'East Curtishaven', '03553', '9.041022', '88.4030435']\n",
      "['William Benson', '78', '674 Sanders Squares Apt. 729', 'Whitneyland', '21131', '47.599233', '59.390785']\n",
      "['Maria Thompson', '40', '3171 Woods Motorway', 'Sullivanchester', '12118', '2.267778', '-65.797496']\n"
     ]
    },
    {
     "output_type": "execute_result",
     "data": {
      "text/plain": [
       "<apache_beam.runners.portability.fn_api_runner.fn_runner.RunnerResult at 0x120eb96d8>"
      ]
     },
     "metadata": {},
     "execution_count": 3
    }
   ],
   "metadata": {}
  },
  {
   "cell_type": "code",
   "execution_count": 13,
   "source": [
    "class SplitWords(beam.DoFn):\n",
    "    def process(self, element):\n",
    "        return map(self.cleanData, element.split(\" \"))\n",
    "\n",
    "    def cleanData(self, w):\n",
    "        punctuation_chars = [\",\", \".\", \"?\"]\n",
    "        for char in punctuation_chars:\n",
    "            w = w.replace(char, \"\")\n",
    "        return w.lower()\n",
    "\n",
    "\n",
    "class FindWord(beam.DoFn):\n",
    "    def process(self, element):\n",
    "        words = [\"peter\", \"piper\", \"picked\", \"peck\", \"pepper\"]\n",
    "        if element in words:\n",
    "            return [element]\n",
    "\n",
    "\n",
    "class MapToTuple(beam.DoFn):\n",
    "    def process(self, element):\n",
    "        return [(element, 1)]\n",
    "\n",
    "\n",
    "class CalculateFrequency(beam.DoFn):\n",
    "    def process(self, element):\n",
    "        (k, v) = element\n",
    "        return [(k, sum(v))]\n",
    "\n",
    "\n",
    "class PrepareOutput(beam.DoFn):\n",
    "    def process(self, element):\n",
    "        (k, v) = element\n",
    "        return [\"{0}: {1}\".format(k, v)]\n",
    "\n",
    "\n",
    "p = beam.Pipeline()\n",
    "\n",
    "(\n",
    "    p\n",
    "    | \"Read data\" >> beam.io.ReadFromText(\"../../data/peter_piper.txt\")\n",
    "    | \"Split words by space\" >> beam.ParDo(SplitWords())\n",
    "    | \"Filter expected words\" >> beam.ParDo(FindWord())\n",
    "    | \"Map to a tuple\" >> beam.ParDo(MapToTuple())\n",
    "    | \"Group by key\" >> beam.GroupByKey()\n",
    "    | \"Combine using word as key\" >> beam.ParDo(CalculateFrequency())\n",
    "    | \"Prepare output\" >> beam.ParDo(PrepareOutput())\n",
    "    | \"Print output\" >> beam.Map(print)\n",
    ")\n",
    "\n",
    "p.run()\n"
   ],
   "outputs": [
    {
     "output_type": "stream",
     "name": "stderr",
     "text": [
      "WARNING:root:Make sure that locally built Python SDK docker image has Python 3.7 interpreter.\n"
     ]
    },
    {
     "output_type": "stream",
     "name": "stdout",
     "text": [
      "peter: 4\n",
      "piper: 4\n",
      "picked: 4\n",
      "peck: 4\n"
     ]
    },
    {
     "output_type": "execute_result",
     "data": {
      "text/plain": [
       "<apache_beam.runners.portability.fn_api_runner.fn_runner.RunnerResult at 0x123ac8630>"
      ]
     },
     "metadata": {},
     "execution_count": 13
    }
   ],
   "metadata": {}
  },
  {
   "cell_type": "code",
   "execution_count": null,
   "source": [],
   "outputs": [],
   "metadata": {}
  }
 ],
 "metadata": {
  "orig_nbformat": 4,
  "language_info": {
   "name": "python",
   "version": "3.7.3",
   "mimetype": "text/x-python",
   "codemirror_mode": {
    "name": "ipython",
    "version": 3
   },
   "pygments_lexer": "ipython3",
   "nbconvert_exporter": "python",
   "file_extension": ".py"
  },
  "kernelspec": {
   "name": "python3",
   "display_name": "Python 3.7.3 64-bit"
  },
  "interpreter": {
   "hash": "5e9e782492abe76986abb217df66c682dff1e2775c232b6da186fa0872ab67b7"
  }
 },
 "nbformat": 4,
 "nbformat_minor": 2
}