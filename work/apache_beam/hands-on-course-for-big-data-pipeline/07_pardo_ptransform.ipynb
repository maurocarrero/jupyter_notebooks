{
 "cells": [
  {
   "cell_type": "code",
   "execution_count": null,
   "metadata": {},
   "outputs": [],
   "source": [
    "import apache_beam as beam\n",
    "\n",
    "\n",
    "class SplitRow(beam.DoFn):\n",
    "    def process(self, element):\n",
    "        return [element.split(\",\")]\n",
    "\n",
    "\n",
    "class FilterByVirginia(beam.DoFn):\n",
    "    def process(self, element):\n",
    "        if (element[4] == \"Virginia\"):\n",
    "            element.remove(\"Virginia\")\n",
    "            return [element]\n",
    "\n",
    "\n",
    "p = beam.Pipeline()\n",
    "\n",
    "(\n",
    "    p\n",
    "    | beam.io.ReadFromText(\"../../data/data.csv\", skip_header_lines=1)\n",
    "    | \"Split CSV\" >> beam.ParDo(SplitRow())\n",
    "    | \"Filter by Virginia\" >> beam.ParDo(FilterByVirginia())\n",
    "    | beam.Map(print)\n",
    ")\n",
    "\n",
    "p.run()\n"
   ]
  },
  {
   "cell_type": "code",
   "execution_count": null,
   "metadata": {},
   "outputs": [],
   "source": [
    "class SplitWords(beam.DoFn):\n",
    "    def process(self, element):\n",
    "        return map(self.cleanData, element.split(\" \"))\n",
    "\n",
    "    def cleanData(self, w):\n",
    "        punctuation_chars = [\",\", \".\", \"?\"]\n",
    "        for char in punctuation_chars:\n",
    "            w = w.replace(char, \"\")\n",
    "        return w.lower()\n",
    "\n",
    "\n",
    "class FindWord(beam.DoFn):\n",
    "    def process(self, element):\n",
    "        words = [\"peter\", \"piper\", \"picked\", \"peck\", \"pepper\"]\n",
    "        if element in words:\n",
    "            return [element]\n",
    "\n",
    "\n",
    "class MapToTuple(beam.DoFn):\n",
    "    def process(self, element):\n",
    "        return [(element, 1)]\n",
    "\n",
    "\n",
    "class CalculateFrequency(beam.DoFn):\n",
    "    def process(self, element):\n",
    "        (k, v) = element\n",
    "        return [(k, sum(v))]\n",
    "\n",
    "\n",
    "class PrepareOutput(beam.DoFn):\n",
    "    def process(self, element):\n",
    "        (k, v) = element\n",
    "        return [\"{0}: {1}\".format(k, v)]\n",
    "\n",
    "\n",
    "p = beam.Pipeline()\n",
    "\n",
    "(\n",
    "    p\n",
    "    | \"Read data\" >> beam.io.ReadFromText(\"../../data/peter_piper.txt\")\n",
    "    | \"Split words by space\" >> beam.ParDo(SplitWords())\n",
    "    | \"Filter expected words\" >> beam.ParDo(FindWord())\n",
    "    | \"Map to a tuple\" >> beam.ParDo(MapToTuple())\n",
    "    | \"Group by key\" >> beam.GroupByKey()\n",
    "    | \"Combine using word as key\" >> beam.ParDo(CalculateFrequency())\n",
    "    | \"Prepare output\" >> beam.ParDo(PrepareOutput())\n",
    "    | \"Print output\" >> beam.Map(print)\n",
    ")\n",
    "\n",
    "p.run()\n"
   ]
  },
  {
   "cell_type": "code",
   "execution_count": null,
   "metadata": {},
   "outputs": [],
   "source": []
  }
 ],
 "metadata": {
  "interpreter": {
   "hash": "5e9e782492abe76986abb217df66c682dff1e2775c232b6da186fa0872ab67b7"
  },
  "kernelspec": {
   "display_name": "Python 3 (ipykernel)",
   "language": "python",
   "name": "python3"
  },
  "language_info": {
   "codemirror_mode": {
    "name": "ipython",
    "version": 3
   },
   "file_extension": ".py",
   "mimetype": "text/x-python",
   "name": "python",
   "nbconvert_exporter": "python",
   "pygments_lexer": "ipython3",
   "version": "3.9.10"
  }
 },
 "nbformat": 4,
 "nbformat_minor": 4
}
