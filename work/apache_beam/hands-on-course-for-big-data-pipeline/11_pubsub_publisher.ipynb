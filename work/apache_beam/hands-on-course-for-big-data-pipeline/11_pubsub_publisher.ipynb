{
 "cells": [
  {
   "cell_type": "code",
   "execution_count": null,
   "metadata": {},
   "outputs": [],
   "source": [
    "!pip install --upgrade google-cloud-pubsub"
   ]
  },
  {
   "cell_type": "code",
   "execution_count": null,
   "metadata": {},
   "outputs": [],
   "source": [
    "PROJECT_ID = %env GOOGLE_CLOUD_PROJECT"
   ]
  },
  {
   "cell_type": "code",
   "execution_count": null,
   "metadata": {},
   "outputs": [],
   "source": [
    "import csv, time\n",
    "\n",
    "from google.cloud import pubsub_v1\n",
    "\n",
    "topic = \"projects/{}/topics/ratings\".format(PROJECT_ID)\n",
    "input_file = \"../../data/ml-latest-small/ratings.csv\"\n",
    "\n",
    "publisher = pubsub_v1.PublisherClient()\n",
    "\n",
    "with open(input_file, \"r\") as f:\n",
    "    reader = csv.reader(f)\n",
    "    next(reader)\n",
    "    for row in reader:  \n",
    "        str_row = \",\".join(row)\n",
    "        publisher.publish(topic, str_row.encode(\"utf-8\"))\n",
    "        time.sleep(1)\n",
    "        print(\"Publishing in topic {0}: {1}\".format(topic, str_row))\n"
   ]
  },
  {
   "cell_type": "code",
   "execution_count": null,
   "metadata": {},
   "outputs": [],
   "source": []
  }
 ],
 "metadata": {
  "interpreter": {
   "hash": "23393d2575091a37cff0d0e9e7479591a295495b26c3b2ebf9b64da572e02d85"
  },
  "kernelspec": {
   "display_name": "Python 3.7.3 64-bit",
   "name": "python3"
  },
  "language_info": {
   "codemirror_mode": {
    "name": "ipython",
    "version": 3
   },
   "file_extension": ".py",
   "mimetype": "text/x-python",
   "name": "python",
   "nbconvert_exporter": "python",
   "pygments_lexer": "ipython3",
   "version": "3.7.3"
  },
  "orig_nbformat": 4
 },
 "nbformat": 4,
 "nbformat_minor": 2
}
