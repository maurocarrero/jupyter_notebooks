{
 "cells": [
  {
   "cell_type": "code",
   "execution_count": null,
   "metadata": {},
   "outputs": [],
   "source": [
    "import apache_beam as beam\n",
    "\n",
    "\n",
    "def split_row(r): return r.split(',')\n",
    "def filter_by_state(s): return lambda r: r[4] == s\n",
    "\n",
    "\n",
    "class MyPTransform(beam.PTransform):\n",
    "    def expand(self, input_or_inputs):\n",
    "        return (\n",
    "            input_or_inputs\n",
    "            | \"Map California coords\" >> beam.Map(self.map_coords)\n",
    "            | \"Output California\" >> beam.Map(self.print_output)\n",
    "        )\n",
    "    # we could do all at once, lack of creativity right now...\n",
    "    def map_coords(self, r): return [r[0], r[4], \"{0}:{1}\".format(r[6], r[7])]\n",
    "    def print_output(self, r): print(\"{0} ({1}): {2}\".format(r[0], r[1], r[2]))\n",
    "\n",
    "\n",
    "p = beam.Pipeline()\n",
    "\n",
    "input_pcollection = (p\n",
    "                     | beam.io.ReadFromText(\"../../data/data.csv\", skip_header_lines=1)\n",
    "                     | beam.Map(split_row))\n",
    "\n",
    "california_pipeline = (\n",
    "    input_pcollection\n",
    "    | \"Filter by California\" >> beam.Filter(filter_by_state(\"California\"))\n",
    "    | \"Output California\" >> MyPTransform()\n",
    ")\n",
    "\n",
    "virginia_pipeline = (\n",
    "    input_pcollection\n",
    "    | \"Filter by Virginia\" >> beam.Filter(filter_by_state(\"Virginia\"))\n",
    "    | \"Output Virginia\" >> MyPTransform()\n",
    ")\n",
    "\n",
    "p.run()\n"
   ]
  }
 ],
 "metadata": {
  "interpreter": {
   "hash": "5e9e782492abe76986abb217df66c682dff1e2775c232b6da186fa0872ab67b7"
  },
  "kernelspec": {
   "display_name": "Python 3 (ipykernel)",
   "language": "python",
   "name": "python3"
  },
  "language_info": {
   "codemirror_mode": {
    "name": "ipython",
    "version": 3
   },
   "file_extension": ".py",
   "mimetype": "text/x-python",
   "name": "python",
   "nbconvert_exporter": "python",
   "pygments_lexer": "ipython3",
   "version": "3.9.10"
  }
 },
 "nbformat": 4,
 "nbformat_minor": 4
}
