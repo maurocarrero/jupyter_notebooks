{
 "cells": [
  {
   "cell_type": "markdown",
   "metadata": {},
   "source": [
    "# CoGroupByKey\n",
    "\n",
    "Combine multiple PCollections as Input."
   ]
  },
  {
   "cell_type": "code",
   "execution_count": null,
   "metadata": {},
   "outputs": [],
   "source": [
    "import apache_beam as beam\n",
    "\n",
    "p = beam.Pipeline()\n",
    "\n",
    "movie_names = [\n",
    "    (1, \"Spiderman\"),\n",
    "    (2, \"Antman\"),\n",
    "    (3, \"Avengers\")\n",
    "]\n",
    "movie_ratings = [\n",
    "    (1, 3.5),\n",
    "    (2, 2.7),\n",
    "    (3, 4.3),\n",
    "    (1, 3.1),\n",
    "    (1, 4.0),\n",
    "    (3, 4.0),\n",
    "    (3, 4.0)\n",
    "]\n",
    "movie_years = [\n",
    "    (1, 1993),\n",
    "    (2, 1984),\n",
    "    (3, 2001)\n",
    "]\n",
    "names = p | \"Create Names PCollection\" >> beam.Create(movie_names)\n",
    "ratings = p | \"Create Ratings PCollection\" >> beam.Create(movie_ratings)\n",
    "years = p | \"Create Years PCollection\" >> beam.Create(movie_years)\n",
    "\n",
    "# ({names, ratings} | beam.CoGroupByKey()) | beam.Map(print)\n",
    "({\"movie_names\": names, \"movie_ratings\": ratings, \"movie_years\": years}\n",
    " | beam.CoGroupByKey()) | beam.Map(print)\n",
    "\n",
    "p.run()\n"
   ]
  }
 ],
 "metadata": {
  "interpreter": {
   "hash": "5e9e782492abe76986abb217df66c682dff1e2775c232b6da186fa0872ab67b7"
  },
  "kernelspec": {
   "display_name": "Python 3 (ipykernel)",
   "language": "python",
   "name": "python3"
  },
  "language_info": {
   "codemirror_mode": {
    "name": "ipython",
    "version": 3
   },
   "file_extension": ".py",
   "mimetype": "text/x-python",
   "name": "python",
   "nbconvert_exporter": "python",
   "pygments_lexer": "ipython3",
   "version": "3.9.10"
  }
 },
 "nbformat": 4,
 "nbformat_minor": 4
}
