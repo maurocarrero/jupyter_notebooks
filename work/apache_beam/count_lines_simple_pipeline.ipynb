{
 "cells": [
  {
   "cell_type": "code",
   "execution_count": null,
   "id": "63d035bb",
   "metadata": {},
   "outputs": [],
   "source": [
    "!pip install --upgrade 'apache-beam[interactive]'"
   ]
  },
  {
   "cell_type": "code",
   "execution_count": null,
   "id": "a2470b9d",
   "metadata": {},
   "outputs": [],
   "source": [
    "import logging\n",
    "import sys\n",
    "import apache_beam as beam\n",
    "from apache_beam.options.pipeline_options import PipelineOptions\n",
    "\n",
    "sys.argv = [\"count_lines_simple_pipeline.ipynb\"]\n",
    "\n",
    "root = logging.getLogger()\n",
    "root.setLevel(logging.INFO)\n",
    "\n",
    "p = beam.Pipeline(\n",
    "    options=PipelineOptions(runner=\"DirectRunner\"))\n",
    "\n",
    "lines = (\n",
    "    p\n",
    "    | \"Create sample\"\n",
    "    >> beam.Create([\n",
    "        \"To be, or not to be: that is the question: \",\n",
    "        \"Whether 'tis nobler in the mind to suffer \",\n",
    "        \"The slings and arrows of outrageous fortune,\",\n",
    "        \"Or to take arms against a sea of troubles,\"\n",
    "    ])\n",
    ")\n",
    "\n",
    "line_count = lines | \"Count lines\" >> beam.CombineGlobally(\n",
    "    beam.combiners.CountCombineFn())\n",
    "\n",
    "\n",
    "def print_log(c): return logging.info(\n",
    "    '----\\n\\n    Total lines: %s \\n______________________', c)\n",
    "\n",
    "\n",
    "line_count | \"Print to log\" >> beam.ParDo(print_log)\n",
    "\n",
    "result = p.run()\n",
    "result.wait_until_finish()\n"
   ]
  }
 ],
 "metadata": {
  "interpreter": {
   "hash": "23393d2575091a37cff0d0e9e7479591a295495b26c3b2ebf9b64da572e02d85"
  },
  "kernelspec": {
   "display_name": "Python 3 (ipykernel)",
   "language": "python",
   "name": "python3"
  },
  "language_info": {
   "codemirror_mode": {
    "name": "ipython",
    "version": 3
   },
   "file_extension": ".py",
   "mimetype": "text/x-python",
   "name": "python",
   "nbconvert_exporter": "python",
   "pygments_lexer": "ipython3",
   "version": "3.9.10"
  }
 },
 "nbformat": 4,
 "nbformat_minor": 5
}
