{
 "cells": [
  {
   "cell_type": "code",
   "execution_count": 1,
   "id": "e634d214-db5c-4c9a-b77a-5877863095a7",
   "metadata": {},
   "outputs": [
    {
     "name": "stdout",
     "output_type": "stream",
     "text": [
      "Collecting google-cloud-pubsub\n",
      "  Downloading google_cloud_pubsub-2.8.0-py2.py3-none-any.whl (217 kB)\n",
      "\u001b[K     |████████████████████████████████| 217 kB 686 kB/s eta 0:00:01\n",
      "\u001b[?25hRequirement already satisfied: libcst>=0.3.10 in /usr/local/Cellar/jupyterlab/3.1.9/libexec/lib/python3.9/site-packages (from google-cloud-pubsub) (0.3.20)\n",
      "Requirement already satisfied: proto-plus>=1.7.1 in /usr/local/Cellar/jupyterlab/3.1.9/libexec/lib/python3.9/site-packages (from google-cloud-pubsub) (1.19.0)\n",
      "Requirement already satisfied: packaging>=14.3 in /usr/local/Cellar/jupyterlab/3.1.9/libexec/lib/python3.9/site-packages (from google-cloud-pubsub) (21.0)\n",
      "Requirement already satisfied: google-api-core[grpc]<3.0.0dev,>=1.26.0 in /usr/local/Cellar/jupyterlab/3.1.9/libexec/lib/python3.9/site-packages (from google-cloud-pubsub) (2.0.1)\n",
      "Collecting grpc-google-iam-v1<0.13dev,>=0.12.3\n",
      "  Using cached grpc-google-iam-v1-0.12.3.tar.gz (13 kB)\n",
      "Requirement already satisfied: grpcio<2.0dev,>=1.38.1 in /usr/local/Cellar/jupyterlab/3.1.9/libexec/lib/python3.9/site-packages (from google-cloud-pubsub) (1.39.0)\n",
      "Requirement already satisfied: setuptools>=40.3.0 in /usr/local/Cellar/jupyterlab/3.1.9/libexec/lib/python3.9/site-packages (from google-api-core[grpc]<3.0.0dev,>=1.26.0->google-cloud-pubsub) (57.0.0)\n",
      "Requirement already satisfied: googleapis-common-protos<2.0dev,>=1.6.0 in /usr/local/Cellar/jupyterlab/3.1.9/libexec/lib/python3.9/site-packages (from google-api-core[grpc]<3.0.0dev,>=1.26.0->google-cloud-pubsub) (1.53.0)\n",
      "Requirement already satisfied: requests<3.0.0dev,>=2.18.0 in /usr/local/Cellar/jupyterlab/3.1.9/libexec/lib/python3.9/site-packages (from google-api-core[grpc]<3.0.0dev,>=1.26.0->google-cloud-pubsub) (2.26.0)\n",
      "Requirement already satisfied: google-auth<3.0dev,>=1.25.0 in /usr/local/Cellar/jupyterlab/3.1.9/libexec/lib/python3.9/site-packages (from google-api-core[grpc]<3.0.0dev,>=1.26.0->google-cloud-pubsub) (2.0.2)\n",
      "Requirement already satisfied: protobuf>=3.12.0 in /usr/local/Cellar/jupyterlab/3.1.9/libexec/lib/python3.9/site-packages (from google-api-core[grpc]<3.0.0dev,>=1.26.0->google-cloud-pubsub) (3.17.3)\n",
      "Requirement already satisfied: cachetools<5.0,>=2.0.0 in /usr/local/Cellar/jupyterlab/3.1.9/libexec/lib/python3.9/site-packages (from google-auth<3.0dev,>=1.25.0->google-api-core[grpc]<3.0.0dev,>=1.26.0->google-cloud-pubsub) (4.2.2)\n",
      "Requirement already satisfied: rsa<5,>=3.1.4 in /usr/local/Cellar/jupyterlab/3.1.9/libexec/lib/python3.9/site-packages (from google-auth<3.0dev,>=1.25.0->google-api-core[grpc]<3.0.0dev,>=1.26.0->google-cloud-pubsub) (4.7.2)\n",
      "Requirement already satisfied: pyasn1-modules>=0.2.1 in /usr/local/Cellar/jupyterlab/3.1.9/libexec/lib/python3.9/site-packages (from google-auth<3.0dev,>=1.25.0->google-api-core[grpc]<3.0.0dev,>=1.26.0->google-cloud-pubsub) (0.2.8)\n",
      "Requirement already satisfied: six>=1.5.2 in /usr/local/Cellar/jupyterlab/3.1.9/libexec/lib/python3.9/site-packages (from grpcio<2.0dev,>=1.38.1->google-cloud-pubsub) (1.16.0)\n",
      "Requirement already satisfied: typing-inspect>=0.4.0 in /usr/local/Cellar/jupyterlab/3.1.9/libexec/lib/python3.9/site-packages (from libcst>=0.3.10->google-cloud-pubsub) (0.7.1)\n",
      "Requirement already satisfied: pyyaml>=5.2 in /usr/local/Cellar/jupyterlab/3.1.9/libexec/lib/python3.9/site-packages (from libcst>=0.3.10->google-cloud-pubsub) (5.4.1)\n",
      "Requirement already satisfied: typing-extensions>=3.7.4.2 in /usr/local/Cellar/jupyterlab/3.1.9/libexec/lib/python3.9/site-packages (from libcst>=0.3.10->google-cloud-pubsub) (3.10.0.2)\n",
      "Requirement already satisfied: pyparsing>=2.0.2 in /usr/local/Cellar/jupyterlab/3.1.9/libexec/lib/python3.9/site-packages (from packaging>=14.3->google-cloud-pubsub) (2.4.7)\n",
      "Requirement already satisfied: pyasn1<0.5.0,>=0.4.6 in /usr/local/Cellar/jupyterlab/3.1.9/libexec/lib/python3.9/site-packages (from pyasn1-modules>=0.2.1->google-auth<3.0dev,>=1.25.0->google-api-core[grpc]<3.0.0dev,>=1.26.0->google-cloud-pubsub) (0.4.8)\n",
      "Requirement already satisfied: urllib3<1.27,>=1.21.1 in /usr/local/Cellar/jupyterlab/3.1.9/libexec/lib/python3.9/site-packages (from requests<3.0.0dev,>=2.18.0->google-api-core[grpc]<3.0.0dev,>=1.26.0->google-cloud-pubsub) (1.26.6)\n",
      "Requirement already satisfied: certifi>=2017.4.17 in /usr/local/Cellar/jupyterlab/3.1.9/libexec/lib/python3.9/site-packages (from requests<3.0.0dev,>=2.18.0->google-api-core[grpc]<3.0.0dev,>=1.26.0->google-cloud-pubsub) (2021.5.30)\n",
      "Requirement already satisfied: charset_normalizer~=2.0.0 in /usr/local/Cellar/jupyterlab/3.1.9/libexec/lib/python3.9/site-packages (from requests<3.0.0dev,>=2.18.0->google-api-core[grpc]<3.0.0dev,>=1.26.0->google-cloud-pubsub) (2.0.4)\n",
      "Requirement already satisfied: idna<4,>=2.5 in /usr/local/Cellar/jupyterlab/3.1.9/libexec/lib/python3.9/site-packages (from requests<3.0.0dev,>=2.18.0->google-api-core[grpc]<3.0.0dev,>=1.26.0->google-cloud-pubsub) (3.2)\n",
      "Requirement already satisfied: mypy-extensions>=0.3.0 in /usr/local/Cellar/jupyterlab/3.1.9/libexec/lib/python3.9/site-packages (from typing-inspect>=0.4.0->libcst>=0.3.10->google-cloud-pubsub) (0.4.3)\n",
      "Building wheels for collected packages: grpc-google-iam-v1\n",
      "  Building wheel for grpc-google-iam-v1 (setup.py) ... \u001b[?25ldone\n",
      "\u001b[?25h  Created wheel for grpc-google-iam-v1: filename=grpc_google_iam_v1-0.12.3-py3-none-any.whl size=18514 sha256=8d3f79a42e28b52ce70113683f58b7d934c945428565f4d5190fa2e7ccf85a3d\n",
      "  Stored in directory: /Users/maurocarrero/Library/Caches/pip/wheels/a1/b4/ad/f2f4118c678bbc6496d5b7057d2508ba51f66009700b1afe8a\n",
      "Successfully built grpc-google-iam-v1\n",
      "Installing collected packages: grpc-google-iam-v1, google-cloud-pubsub\n",
      "Successfully installed google-cloud-pubsub-2.8.0 grpc-google-iam-v1-0.12.3\n",
      "\u001b[33mWARNING: You are using pip version 21.1.3; however, version 21.3 is available.\n",
      "You should consider upgrading via the '/usr/local/Cellar/jupyterlab/3.1.9/libexec/bin/python3.9 -m pip install --upgrade pip' command.\u001b[0m\n",
      "Note: you may need to restart the kernel to use updated packages.\n"
     ]
    }
   ],
   "source": [
    "pip install --upgrade google-cloud-pubsub"
   ]
  },
  {
   "cell_type": "code",
   "execution_count": 2,
   "id": "46c26e3f-6027-415c-b635-b9f2f1b29907",
   "metadata": {},
   "outputs": [],
   "source": [
    "from google.cloud import pubsub_v1"
   ]
  },
  {
   "cell_type": "code",
   "execution_count": 3,
   "id": "e21fa656-b612-4440-a949-08c2536e58c6",
   "metadata": {},
   "outputs": [],
   "source": [
    "publisher = pubsub_v1.PublisherClient()"
   ]
  },
  {
   "cell_type": "code",
   "execution_count": 4,
   "id": "f91615a7-818a-4607-9d3e-6de488b6862b",
   "metadata": {},
   "outputs": [
    {
     "name": "stderr",
     "output_type": "stream",
     "text": [
      "UsageError: Environment does not have key: GOOGLE_CLOUD_PROJECT\n"
     ]
    }
   ],
   "source": [
    "project_id = %env GOOGLE_CLOUD_PROJECT\n",
    "topic_id = \"test\""
   ]
  },
  {
   "cell_type": "code",
   "execution_count": null,
   "id": "fa1a001e-3b7d-4ae2-9885-b21469fdaa2c",
   "metadata": {},
   "outputs": [],
   "source": [
    "topic_path = publisher.topic_path(project_id, topic_id)\n",
    "topic = publisher.create_topic(request = { \"name\": topic_path })\n",
    "print(f\"Created topic: {topic.name}\")"
   ]
  }
 ],
 "metadata": {
  "kernelspec": {
   "display_name": "Python 3 (ipykernel)",
   "language": "python",
   "name": "python3"
  },
  "language_info": {
   "codemirror_mode": {
    "name": "ipython",
    "version": 3
   },
   "file_extension": ".py",
   "mimetype": "text/x-python",
   "name": "python",
   "nbconvert_exporter": "python",
   "pygments_lexer": "ipython3",
   "version": "3.9.6"
  }
 },
 "nbformat": 4,
 "nbformat_minor": 5
}
