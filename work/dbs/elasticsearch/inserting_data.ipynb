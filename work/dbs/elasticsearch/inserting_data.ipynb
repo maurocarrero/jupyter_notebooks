{
 "cells": [
  {
   "cell_type": "code",
   "execution_count": null,
   "id": "5e645c01-17a3-4492-a816-2bf3645f33a9",
   "metadata": {},
   "outputs": [],
   "source": [
    "pip install --upgrade elasticsearch faker"
   ]
  },
  {
   "cell_type": "code",
   "execution_count": null,
   "id": "77da24cc-a38b-4f25-8b19-6b81bfcbe69c",
   "metadata": {},
   "outputs": [],
   "source": [
    "import elasticsearch\n",
    "elasticsearch.__version__"
   ]
  },
  {
   "cell_type": "code",
   "execution_count": null,
   "id": "abfe7f64-7aa2-4193-b5f1-6e4e56641f7e",
   "metadata": {},
   "outputs": [],
   "source": [
    "from elasticsearch import Elasticsearch\n",
    "from faker import Faker\n",
    "\n",
    "username = %env ELASTICSEARCH_USERNAME\n",
    "password = %env ELASTICSEARCH_PASSWORD\n",
    "host = %env ELASTICSEARCH_HOST\n",
    "port = %env ELASTICSEARCH_PORT\n",
    "\n",
    "fake = Faker()\n",
    "es = Elasticsearch(f'https://{username}:{password}@{host}:{port}', ca_certs=\"./http_ca.crt\")\n",
    "\n",
    "doc = {\n",
    "    \"name\": fake.name(),\n",
    "    \"street\": fake.street_address(),\n",
    "    \"city\": fake.city(),\n",
    "    \"zip\": fake.zipcode()\n",
    "}\n",
    "\n",
    "res = es.index(index=\"users\", id=1, document=doc)\n",
    "\n",
    "print(res['result']) # created"
   ]
  },
  {
   "cell_type": "code",
   "execution_count": null,
   "id": "7cbc293e-0ca4-4bc9-916d-b677a28b8ac5",
   "metadata": {},
   "outputs": [],
   "source": [
    "from elasticsearch import helpers"
   ]
  },
  {
   "cell_type": "code",
   "execution_count": null,
   "id": "f37adf34-1d2e-401d-82ee-dae74f91126b",
   "metadata": {},
   "outputs": [],
   "source": [
    "actions = [\n",
    "    {\n",
    "        \"_index\": \"users\",\n",
    "        \"_source\": {\n",
    "            \"name\": fake.name(),\n",
    "            \"street\": fake.street_address(),\n",
    "            \"city\": fake.city(),\n",
    "            \"zip\": fake.zipcode()\n",
    "        }\n",
    "    } for x in range(3)\n",
    "]\n",
    "\n",
    "res = helpers.bulk(es, actions)\n",
    "print(res[0]) # 999"
   ]
  }
 ],
 "metadata": {
  "kernelspec": {
   "display_name": "Python 3 (ipykernel)",
   "language": "python",
   "name": "python3"
  },
  "language_info": {
   "codemirror_mode": {
    "name": "ipython",
    "version": 3
   },
   "file_extension": ".py",
   "mimetype": "text/x-python",
   "name": "python",
   "nbconvert_exporter": "python",
   "pygments_lexer": "ipython3",
   "version": "3.9.10"
  }
 },
 "nbformat": 4,
 "nbformat_minor": 5
}
