{
 "cells": [
  {
   "cell_type": "code",
   "execution_count": null,
   "id": "11ed3de8-22b8-478b-8d10-dfd0cd97bfb5",
   "metadata": {},
   "outputs": [],
   "source": [
    "pip install --upgrade elasticsearch pandas"
   ]
  },
  {
   "cell_type": "code",
   "execution_count": null,
   "id": "f7a6aaa2-ac0d-40a1-8f6f-281a0afc8c04",
   "metadata": {},
   "outputs": [],
   "source": [
    "from elasticsearch import Elasticsearch\n",
    "\n",
    "username = %env ELASTICSEARCH_USERNAME\n",
    "password = %env ELASTICSEARCH_PASSWORD\n",
    "host = %env ELASTICSEARCH_HOST\n",
    "port = %env ELASTICSEARCH_PORT\n",
    "\n",
    "es = Elasticsearch(f'https://{username}:{password}@{host}:{port}', ca_certs='./http_ca.crt')\n",
    "\n",
    "res = es.search(index='users', query={ \"match_all\": {} }, size=20)\n",
    "\n",
    "hits = res['hits']['hits']\n",
    "\n",
    "for doc in hits:\n",
    "    print(doc['_source']['name'])"
   ]
  },
  {
   "cell_type": "code",
   "execution_count": null,
   "id": "cbc53339-b05c-43c9-b064-9769596a3613",
   "metadata": {},
   "outputs": [],
   "source": [
    "import pandas as pd\n",
    "\n",
    "df = pd.json_normalize(hits)\n",
    "\n",
    "df.head()"
   ]
  },
  {
   "cell_type": "code",
   "execution_count": null,
   "id": "7b539174-7181-42e7-9247-a5e55e141542",
   "metadata": {},
   "outputs": [],
   "source": [
    "res = es.search(index='users', query={ \"match\": { \"name\": \"Jay Benitez\" } })\n",
    "hits = res['hits']['hits']\n",
    "hits[0]['_source']"
   ]
  },
  {
   "cell_type": "code",
   "execution_count": null,
   "id": "63f7b635-08bd-4e0b-831c-f23c12e48259",
   "metadata": {},
   "outputs": [],
   "source": [
    "# Lucene syntax\n",
    "res = es.search(index='users', q=\"name:Eric Rush\")\n",
    "\n",
    "hits = res['hits']['hits']\n",
    "hits[0]['_source']"
   ]
  },
  {
   "cell_type": "code",
   "execution_count": null,
   "id": "d499ac3b-aeaa-4d1e-b40e-8c0b9c882805",
   "metadata": {},
   "outputs": [],
   "source": [
    "q = { \n",
    "    \"bool\": {\n",
    "        \"must\": {\n",
    "            \"match\": {\n",
    "                \"city\": \"West\"\n",
    "            }\n",
    "        },\n",
    "        \"filter\": {\n",
    "            \"match\": {\n",
    "                \"zip\": \"99921\"\n",
    "            }\n",
    "        }\n",
    "    }\n",
    "}\n",
    "\n",
    "res = es.search(index='users', query=q)\n",
    "\n",
    "hits = res['hits']['hits']\n",
    "hits"
   ]
  },
  {
   "cell_type": "code",
   "execution_count": null,
   "id": "e0f4d5d0-0007-403c-a775-c8cf7fb741fc",
   "metadata": {},
   "outputs": [],
   "source": [
    "res = es.search(index='users', query={ \"match_all\": {} }, scroll='20m', size=500)\n",
    "sid = res['_scroll_id']\n",
    "print(f'sid: {sid}')\n",
    "size = res['hits']['total']['value']\n",
    "print(f'size: {size}')"
   ]
  },
  {
   "cell_type": "code",
   "execution_count": null,
   "id": "c92d3caa-8aa1-480b-b83c-34645c7f73e7",
   "metadata": {},
   "outputs": [],
   "source": [
    "page = 1\n",
    "while size > 0:\n",
    "    res = es.scroll(scroll_id=sid, scroll='20m')\n",
    "    sid = res['_scroll_id']\n",
    "    hits = res['hits']['hits']\n",
    "    size = len(hits)\n",
    "    print(f'PAGE {page}')\n",
    "    print(f'SID: {sid}')\n",
    "    print(f'PENDING SIZE: {size}')\n",
    "    # for doc in hits:\n",
    "    #     print(doc['_source']['name'])\n",
    "    page += 1"
   ]
  }
 ],
 "metadata": {
  "kernelspec": {
   "display_name": "Python 3 (ipykernel)",
   "language": "python",
   "name": "python3"
  },
  "language_info": {
   "codemirror_mode": {
    "name": "ipython",
    "version": 3
   },
   "file_extension": ".py",
   "mimetype": "text/x-python",
   "name": "python",
   "nbconvert_exporter": "python",
   "pygments_lexer": "ipython3",
   "version": "3.9.10"
  }
 },
 "nbformat": 4,
 "nbformat_minor": 5
}
