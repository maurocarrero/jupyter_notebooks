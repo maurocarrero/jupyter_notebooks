{
 "cells": [
  {
   "cell_type": "code",
   "execution_count": 1,
   "id": "11ed3de8-22b8-478b-8d10-dfd0cd97bfb5",
   "metadata": {},
   "outputs": [
    {
     "name": "stdout",
     "output_type": "stream",
     "text": [
      "Requirement already satisfied: elasticsearch in /opt/conda/lib/python3.9/site-packages (8.1.3)\n",
      "Requirement already satisfied: pandas in /opt/conda/lib/python3.9/site-packages (1.4.2)\n",
      "Requirement already satisfied: elastic-transport<9,>=8 in /opt/conda/lib/python3.9/site-packages (from elasticsearch) (8.1.2)\n",
      "Requirement already satisfied: python-dateutil>=2.8.1 in /opt/conda/lib/python3.9/site-packages (from pandas) (2.8.2)\n",
      "Requirement already satisfied: pytz>=2020.1 in /opt/conda/lib/python3.9/site-packages (from pandas) (2022.1)\n",
      "Requirement already satisfied: numpy>=1.18.5 in /opt/conda/lib/python3.9/site-packages (from pandas) (1.21.5)\n",
      "Requirement already satisfied: urllib3<2,>=1.26.2 in /opt/conda/lib/python3.9/site-packages (from elastic-transport<9,>=8->elasticsearch) (1.26.9)\n",
      "Requirement already satisfied: certifi in /opt/conda/lib/python3.9/site-packages (from elastic-transport<9,>=8->elasticsearch) (2021.10.8)\n",
      "Requirement already satisfied: six>=1.5 in /opt/conda/lib/python3.9/site-packages (from python-dateutil>=2.8.1->pandas) (1.16.0)\n",
      "Note: you may need to restart the kernel to use updated packages.\n"
     ]
    }
   ],
   "source": [
    "pip install --upgrade elasticsearch pandas"
   ]
  },
  {
   "cell_type": "code",
   "execution_count": 2,
   "id": "f7a6aaa2-ac0d-40a1-8f6f-281a0afc8c04",
   "metadata": {},
   "outputs": [
    {
     "name": "stdout",
     "output_type": "stream",
     "text": [
      "Tiffany Griffin\n",
      "Jennifer Hill\n",
      "Thomas Abbott\n",
      "John Hogan\n",
      "Jacob Jones\n",
      "Brenda Thomas\n",
      "Heather Saunders\n",
      "Garrett Fowler\n",
      "Olivia Baxter\n",
      "Kathryn Weiss\n",
      "Glenn Griffin\n",
      "Kathleen Jackson\n",
      "Brian Salazar\n",
      "John Blake\n",
      "David Glass\n",
      "Nicholas Martinez\n",
      "Jonathan Castillo\n",
      "Robert Brown\n",
      "Richard Mills\n",
      "Marc Gibbs\n"
     ]
    }
   ],
   "source": [
    "from elasticsearch import Elasticsearch\n",
    "\n",
    "username = %env ELASTICSEARCH_USERNAME\n",
    "password = %env ELASTICSEARCH_PASSWORD\n",
    "host = %env ELASTICSEARCH_HOST\n",
    "port = %env ELASTICSEARCH_PORT\n",
    "\n",
    "es = Elasticsearch(f'https://{username}:{password}@{host}:{port}', ca_certs='./http_ca.crt')\n",
    "\n",
    "res = es.search(index='users', query={ \"match_all\": {} }, size=20)\n",
    "\n",
    "hits = res['hits']['hits']\n",
    "\n",
    "for doc in hits:\n",
    "    print(doc['_source']['name'])"
   ]
  },
  {
   "cell_type": "code",
   "execution_count": 3,
   "id": "cbc53339-b05c-43c9-b064-9769596a3613",
   "metadata": {},
   "outputs": [
    {
     "data": {
      "text/html": [
       "<div>\n",
       "<style scoped>\n",
       "    .dataframe tbody tr th:only-of-type {\n",
       "        vertical-align: middle;\n",
       "    }\n",
       "\n",
       "    .dataframe tbody tr th {\n",
       "        vertical-align: top;\n",
       "    }\n",
       "\n",
       "    .dataframe thead th {\n",
       "        text-align: right;\n",
       "    }\n",
       "</style>\n",
       "<table border=\"1\" class=\"dataframe\">\n",
       "  <thead>\n",
       "    <tr style=\"text-align: right;\">\n",
       "      <th></th>\n",
       "      <th>_index</th>\n",
       "      <th>_id</th>\n",
       "      <th>_score</th>\n",
       "      <th>_source.name</th>\n",
       "      <th>_source.street</th>\n",
       "      <th>_source.city</th>\n",
       "      <th>_source.zip</th>\n",
       "    </tr>\n",
       "  </thead>\n",
       "  <tbody>\n",
       "    <tr>\n",
       "      <th>0</th>\n",
       "      <td>users</td>\n",
       "      <td>pchEfYABgiurHmFaECTM</td>\n",
       "      <td>1.0</td>\n",
       "      <td>Tiffany Griffin</td>\n",
       "      <td>831 Robert Plaza</td>\n",
       "      <td>Lake Brendashire</td>\n",
       "      <td>21455</td>\n",
       "    </tr>\n",
       "    <tr>\n",
       "      <th>1</th>\n",
       "      <td>users</td>\n",
       "      <td>pshEfYABgiurHmFaECTM</td>\n",
       "      <td>1.0</td>\n",
       "      <td>Jennifer Hill</td>\n",
       "      <td>94293 Vance Crossing Suite 042</td>\n",
       "      <td>West Christophermouth</td>\n",
       "      <td>36185</td>\n",
       "    </tr>\n",
       "    <tr>\n",
       "      <th>2</th>\n",
       "      <td>users</td>\n",
       "      <td>p8hEfYABgiurHmFaECTM</td>\n",
       "      <td>1.0</td>\n",
       "      <td>Thomas Abbott</td>\n",
       "      <td>0386 Harding Square Apt. 617</td>\n",
       "      <td>West Omar</td>\n",
       "      <td>99921</td>\n",
       "    </tr>\n",
       "    <tr>\n",
       "      <th>3</th>\n",
       "      <td>users</td>\n",
       "      <td>qMhEfYABgiurHmFaECTM</td>\n",
       "      <td>1.0</td>\n",
       "      <td>John Hogan</td>\n",
       "      <td>832 Day Mews Suite 540</td>\n",
       "      <td>New Carol</td>\n",
       "      <td>96457</td>\n",
       "    </tr>\n",
       "    <tr>\n",
       "      <th>4</th>\n",
       "      <td>users</td>\n",
       "      <td>qchEfYABgiurHmFaECTM</td>\n",
       "      <td>1.0</td>\n",
       "      <td>Jacob Jones</td>\n",
       "      <td>6127 Davidson Forges</td>\n",
       "      <td>Joneshaven</td>\n",
       "      <td>30584</td>\n",
       "    </tr>\n",
       "  </tbody>\n",
       "</table>\n",
       "</div>"
      ],
      "text/plain": [
       "  _index                   _id  _score     _source.name  \\\n",
       "0  users  pchEfYABgiurHmFaECTM     1.0  Tiffany Griffin   \n",
       "1  users  pshEfYABgiurHmFaECTM     1.0    Jennifer Hill   \n",
       "2  users  p8hEfYABgiurHmFaECTM     1.0    Thomas Abbott   \n",
       "3  users  qMhEfYABgiurHmFaECTM     1.0       John Hogan   \n",
       "4  users  qchEfYABgiurHmFaECTM     1.0      Jacob Jones   \n",
       "\n",
       "                   _source.street           _source.city _source.zip  \n",
       "0                831 Robert Plaza       Lake Brendashire       21455  \n",
       "1  94293 Vance Crossing Suite 042  West Christophermouth       36185  \n",
       "2    0386 Harding Square Apt. 617              West Omar       99921  \n",
       "3          832 Day Mews Suite 540              New Carol       96457  \n",
       "4            6127 Davidson Forges             Joneshaven       30584  "
      ]
     },
     "execution_count": 3,
     "metadata": {},
     "output_type": "execute_result"
    }
   ],
   "source": [
    "import pandas as pd\n",
    "\n",
    "df = pd.json_normalize(hits)\n",
    "\n",
    "df.head()"
   ]
  },
  {
   "cell_type": "code",
   "execution_count": 4,
   "id": "7b539174-7181-42e7-9247-a5e55e141542",
   "metadata": {},
   "outputs": [
    {
     "data": {
      "text/plain": [
       "{'name': 'Olivia Baxter',\n",
       " 'street': '0525 Gina Center Apt. 737',\n",
       " 'city': 'South Shannonfurt',\n",
       " 'zip': '72078'}"
      ]
     },
     "execution_count": 4,
     "metadata": {},
     "output_type": "execute_result"
    }
   ],
   "source": [
    "res = es.search(index='users', query={ \"match\": { \"name\": \"Olivia Baxter\" } })\n",
    "hits = res['hits']['hits']\n",
    "hits[0]['_source']"
   ]
  },
  {
   "cell_type": "code",
   "execution_count": 5,
   "id": "63f7b635-08bd-4e0b-831c-f23c12e48259",
   "metadata": {},
   "outputs": [
    {
     "data": {
      "text/plain": [
       "{'name': 'David Glass',\n",
       " 'street': '24254 Joshua Lights Suite 960',\n",
       " 'city': 'Lake Aprilville',\n",
       " 'zip': '13500'}"
      ]
     },
     "execution_count": 5,
     "metadata": {},
     "output_type": "execute_result"
    }
   ],
   "source": [
    "# Lucene syntax\n",
    "res = es.search(index='users', q=\"name:David Glass\")\n",
    "\n",
    "hits = res['hits']['hits']\n",
    "hits[0]['_source']"
   ]
  },
  {
   "cell_type": "code",
   "execution_count": 6,
   "id": "d499ac3b-aeaa-4d1e-b40e-8c0b9c882805",
   "metadata": {},
   "outputs": [
    {
     "data": {
      "text/plain": [
       "[{'_index': 'users',\n",
       "  '_id': 'p8hEfYABgiurHmFaECTM',\n",
       "  '_score': 2.3241208,\n",
       "  '_source': {'name': 'Thomas Abbott',\n",
       "   'street': '0386 Harding Square Apt. 617',\n",
       "   'city': 'West Omar',\n",
       "   'zip': '99921'}}]"
      ]
     },
     "execution_count": 6,
     "metadata": {},
     "output_type": "execute_result"
    }
   ],
   "source": [
    "q = { \n",
    "    \"bool\": {\n",
    "        \"must\": {\n",
    "            \"match\": {\n",
    "                \"city\": \"West\"\n",
    "            }\n",
    "        },\n",
    "        \"filter\": {\n",
    "            \"match\": {\n",
    "                \"zip\": \"99921\"\n",
    "            }\n",
    "        }\n",
    "    }\n",
    "}\n",
    "\n",
    "res = es.search(index='users', query=q)\n",
    "\n",
    "hits = res['hits']['hits']\n",
    "hits"
   ]
  },
  {
   "cell_type": "code",
   "execution_count": 7,
   "id": "e0f4d5d0-0007-403c-a775-c8cf7fb741fc",
   "metadata": {},
   "outputs": [
    {
     "name": "stdout",
     "output_type": "stream",
     "text": [
      "sid: FGluY2x1ZGVfY29udGV4dF91dWlkDXF1ZXJ5QW5kRmV0Y2gBFjluazhrc3BsUmQybUZCYW01WGpHdmcAAAAAAADofRZudC10SWdzcFRzeXduYVc2Mmc2QmhR\n",
      "size: 3000\n"
     ]
    }
   ],
   "source": [
    "res = es.search(index='users', query={ \"match_all\": {} }, scroll='20m', size=500)\n",
    "sid = res['_scroll_id']\n",
    "print(f'sid: {sid}')\n",
    "size = res['hits']['total']['value']\n",
    "print(f'size: {size}')"
   ]
  },
  {
   "cell_type": "code",
   "execution_count": 8,
   "id": "c92d3caa-8aa1-480b-b83c-34645c7f73e7",
   "metadata": {},
   "outputs": [
    {
     "name": "stdout",
     "output_type": "stream",
     "text": [
      "PAGE 1\n",
      "SID: FGluY2x1ZGVfY29udGV4dF91dWlkDXF1ZXJ5QW5kRmV0Y2gBFjluazhrc3BsUmQybUZCYW01WGpHdmcAAAAAAADofRZudC10SWdzcFRzeXduYVc2Mmc2QmhR\n",
      "PENDING SIZE: 500\n",
      "PAGE 2\n",
      "SID: FGluY2x1ZGVfY29udGV4dF91dWlkDXF1ZXJ5QW5kRmV0Y2gBFjluazhrc3BsUmQybUZCYW01WGpHdmcAAAAAAADofRZudC10SWdzcFRzeXduYVc2Mmc2QmhR\n",
      "PENDING SIZE: 500\n",
      "PAGE 3\n",
      "SID: FGluY2x1ZGVfY29udGV4dF91dWlkDXF1ZXJ5QW5kRmV0Y2gBFjluazhrc3BsUmQybUZCYW01WGpHdmcAAAAAAADofRZudC10SWdzcFRzeXduYVc2Mmc2QmhR\n",
      "PENDING SIZE: 500\n",
      "PAGE 4\n",
      "SID: FGluY2x1ZGVfY29udGV4dF91dWlkDXF1ZXJ5QW5kRmV0Y2gBFjluazhrc3BsUmQybUZCYW01WGpHdmcAAAAAAADofRZudC10SWdzcFRzeXduYVc2Mmc2QmhR\n",
      "PENDING SIZE: 500\n",
      "PAGE 5\n",
      "SID: FGluY2x1ZGVfY29udGV4dF91dWlkDXF1ZXJ5QW5kRmV0Y2gBFjluazhrc3BsUmQybUZCYW01WGpHdmcAAAAAAADofRZudC10SWdzcFRzeXduYVc2Mmc2QmhR\n",
      "PENDING SIZE: 500\n",
      "PAGE 6\n",
      "SID: FGluY2x1ZGVfY29udGV4dF91dWlkDXF1ZXJ5QW5kRmV0Y2gBFjluazhrc3BsUmQybUZCYW01WGpHdmcAAAAAAADofRZudC10SWdzcFRzeXduYVc2Mmc2QmhR\n",
      "PENDING SIZE: 0\n"
     ]
    }
   ],
   "source": [
    "page = 1\n",
    "while size > 0:\n",
    "    res = es.scroll(scroll_id=sid, scroll='20m')\n",
    "    sid = res['_scroll_id']\n",
    "    hits = res['hits']['hits']\n",
    "    size = len(hits)\n",
    "    print(f'PAGE {page}')\n",
    "    print(f'SID: {sid}')\n",
    "    print(f'PENDING SIZE: {size}')\n",
    "    # for doc in hits:\n",
    "    #     print(doc['_source']['name'])\n",
    "    page += 1"
   ]
  }
 ],
 "metadata": {
  "kernelspec": {
   "display_name": "Python 3 (ipykernel)",
   "language": "python",
   "name": "python3"
  },
  "language_info": {
   "codemirror_mode": {
    "name": "ipython",
    "version": 3
   },
   "file_extension": ".py",
   "mimetype": "text/x-python",
   "name": "python",
   "nbconvert_exporter": "python",
   "pygments_lexer": "ipython3",
   "version": "3.9.10"
  }
 },
 "nbformat": 4,
 "nbformat_minor": 5
}
