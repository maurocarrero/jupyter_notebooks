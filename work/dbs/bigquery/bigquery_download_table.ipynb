{
 "cells": [
  {
   "cell_type": "markdown",
   "id": "6e4ee0ad-5a83-49c0-a915-f36ddf939113",
   "metadata": {
    "tags": []
   },
   "source": [
    "# Download table data using the BigQuery client library\n",
    "\n",
    "[Google Cloud Documentation](https://cloud.google.com/bigquery/docs/bigquery-storage-python-pandas?hl=en#download_table_data_using_the_client_library)"
   ]
  },
  {
   "cell_type": "markdown",
   "id": "cd8f8312-b3d1-4654-8872-83478acc5d89",
   "metadata": {
    "jp-MarkdownHeadingCollapsed": true,
    "tags": []
   },
   "source": [
    "### Install BigQuery library"
   ]
  },
  {
   "cell_type": "code",
   "execution_count": null,
   "id": "f6aef275-2d7b-4175-a683-520868e7c2ca",
   "metadata": {},
   "outputs": [],
   "source": [
    "pip install --upgrade \"google-cloud-bigquery[bqstorage,pandas]\""
   ]
  },
  {
   "cell_type": "markdown",
   "id": "c543508a-5de6-4f02-9c09-129ba5e3ab8b",
   "metadata": {
    "tags": []
   },
   "source": [
    "### Download all rows into a DataFrame\n",
    "\n",
    "Download all rows in a table by using the [list_rows](https://googleapis.dev/python/bigquery/latest/generated/google.cloud.bigquery.client.Client.html#google.cloud.bigquery.client.Client.list_rows) method, which returns a [RowIterator](https://googleapis.dev/python/bigquery/latest/generated/google.cloud.bigquery.table.RowIterator.html#google.cloud.bigquery.table.RowIterator) object. Download rows by using the BigQuery Storage API by calling the [to_dataframe](https://googleapis.dev/python/bigquery/latest/generated/google.cloud.bigquery.table.RowIterator.html#google.cloud.bigquery.table.RowIterator.to_dataframe) method with the bqstorage_client argument."
   ]
  },
  {
   "cell_type": "code",
   "execution_count": null,
   "id": "1051fff2-4db2-4ca5-98c2-63110a79243f",
   "metadata": {},
   "outputs": [],
   "source": [
    "from google.cloud import bigquery\n",
    "\n",
    "bq_client = bigquery.Client()\n",
    "\n",
    "# Download a table.\n",
    "table = bigquery.TableReference.from_string(\n",
    "    \"bigquery-public-data.utility_us.country_code_iso\"\n",
    ")\n",
    "rows = bq_client.list_rows(\n",
    "    table,\n",
    "    selected_fields = [\n",
    "        bigquery.SchemaField(\"country_name\", \"STRING\"),\n",
    "        bigquery.SchemaField(\"fips_code\", \"STRING\")\n",
    "    ]\n",
    ")\n",
    "df = rows.to_dataframe(\n",
    "    # Optionally, explicitly request to use the BigQuery Storage API. As of\n",
    "    # google-cloud-bigquery version 1.26.0 and above, the BigQuery Storage\n",
    "    # API is used by default.\n",
    "    # create_bqstorage_client=True\n",
    ")\n",
    "print(df.head())"
   ]
  }
 ],
 "metadata": {
  "kernelspec": {
   "display_name": "Python 3 (ipykernel)",
   "language": "python",
   "name": "python3"
  },
  "language_info": {
   "codemirror_mode": {
    "name": "ipython",
    "version": 3
   },
   "file_extension": ".py",
   "mimetype": "text/x-python",
   "name": "python",
   "nbconvert_exporter": "python",
   "pygments_lexer": "ipython3",
   "version": "3.9.10"
  }
 },
 "nbformat": 4,
 "nbformat_minor": 5
}
