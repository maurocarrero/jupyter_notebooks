{
 "cells": [
  {
   "cell_type": "markdown",
   "id": "40cadb6a-7639-4ebe-9260-589415106a33",
   "metadata": {
    "tags": []
   },
   "source": [
    "# Downloading BigQuery data to pandas using the BigQuery Storage API\n",
    "[bigquery-storage-python-pandas](https://cloud.google.com/bigquery/docs/bigquery-storage-python-pandas?hl=en)"
   ]
  },
  {
   "cell_type": "markdown",
   "id": "d4297272-faf5-4a0f-b587-031bac5247f2",
   "metadata": {
    "jp-MarkdownHeadingCollapsed": true,
    "tags": []
   },
   "source": [
    "### Install bigquery and pandas"
   ]
  },
  {
   "cell_type": "code",
   "execution_count": null,
   "id": "df2c083e-9032-44f7-a6c9-334ce740bbce",
   "metadata": {},
   "outputs": [],
   "source": [
    "pip install --upgrade \"google-cloud-bigquery[bqstorage,pandas]\""
   ]
  },
  {
   "cell_type": "markdown",
   "id": "a8558141-40cc-4942-b7eb-d120ca4e0eb0",
   "metadata": {
    "jp-MarkdownHeadingCollapsed": true,
    "tags": []
   },
   "source": [
    "### Load extensions\n",
    "Load the IPython magics for BigQuery using the [%load_ext magic](https://ipython.readthedocs.io/en/stable/config/extensions/index.html?highlight=load_ext#using-extensions) extension."
   ]
  },
  {
   "cell_type": "code",
   "execution_count": null,
   "id": "2e4300a9-b43a-4eeb-84ab-018fb9e2d18a",
   "metadata": {},
   "outputs": [],
   "source": [
    "%load_ext google.cloud.bigquery"
   ]
  },
  {
   "cell_type": "markdown",
   "id": "fd7a3858-6c3b-44fe-bb89-121bed16a269",
   "metadata": {
    "jp-MarkdownHeadingCollapsed": true,
    "tags": []
   },
   "source": [
    "### Wait for the query to finish and download the results by using the BigQuery Storage API."
   ]
  },
  {
   "cell_type": "code",
   "execution_count": null,
   "id": "baa52e83-9aae-47e9-8881-45577a81dc91",
   "metadata": {},
   "outputs": [],
   "source": [
    "from google.cloud import bigquery\n",
    "\n",
    "bq_client = bigquery.Client()\n",
    "\n",
    "# Download query results.\n",
    "query_string = \"\"\"\n",
    "SELECT\n",
    "CONCAT(\n",
    "    'https://stackoverflow.com/questions/',\n",
    "    CAST(id as STRING)) as url,\n",
    "view_count\n",
    "FROM `bigquery-public-data.stackoverflow.posts_questions`\n",
    "WHERE tags like '%google-bigquery%'\n",
    "ORDER BY view_count DESC\n",
    "\"\"\"\n",
    "\n",
    "df = (\n",
    "    bq_client.query(query_string)\n",
    "        .result()\n",
    "        .to_dataframe(\n",
    "            # Optionally, explicitly request to use the BigQuery Storage API. As of\n",
    "            # google-cloud-bigquery version 1.26.0 and above, the BigQuery Storage\n",
    "            # API is used by default.\n",
    "            create_bqstorage_client=True\n",
    "        )\n",
    ")\n",
    "print(df.head())"
   ]
  }
 ],
 "metadata": {
  "kernelspec": {
   "display_name": "Python 3 (ipykernel)",
   "language": "python",
   "name": "python3"
  },
  "language_info": {
   "codemirror_mode": {
    "name": "ipython",
    "version": 3
   },
   "file_extension": ".py",
   "mimetype": "text/x-python",
   "name": "python",
   "nbconvert_exporter": "python",
   "pygments_lexer": "ipython3",
   "version": "3.9.10"
  }
 },
 "nbformat": 4,
 "nbformat_minor": 5
}
