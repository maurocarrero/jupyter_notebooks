{
 "cells": [
  {
   "cell_type": "markdown",
   "id": "486ad9c3-d2de-4f9d-bdae-6f1f619b87e7",
   "metadata": {
    "tags": []
   },
   "source": [
    "# BigQuery using Pandas DataFrames\n",
    "Taken from [Visualize Jupyter](https://cloud.google.com/bigquery/docs/visualize-jupyter?hl=en)"
   ]
  },
  {
   "cell_type": "markdown",
   "id": "798915e7-40f1-46ce-8f59-eaab9d6b0a2b",
   "metadata": {
    "jp-MarkdownHeadingCollapsed": true,
    "tags": []
   },
   "source": [
    "### Install BigQuery library"
   ]
  },
  {
   "cell_type": "code",
   "execution_count": 1,
   "id": "84e51050-9db7-43c2-ae0f-7394286467e5",
   "metadata": {},
   "outputs": [
    {
     "name": "stdout",
     "output_type": "stream",
     "text": [
      "Requirement already satisfied: google-cloud-bigquery[bqstorage,pandas] in ./venv/lib/python3.7/site-packages (2.26.0)\n",
      "Requirement already satisfied: protobuf>=3.12.0 in ./venv/lib/python3.7/site-packages (from google-cloud-bigquery[bqstorage,pandas]) (3.17.3)\n",
      "Requirement already satisfied: google-cloud-core<3.0.0dev,>=1.4.1 in ./venv/lib/python3.7/site-packages (from google-cloud-bigquery[bqstorage,pandas]) (2.0.0)\n",
      "Requirement already satisfied: requests<3.0.0dev,>=2.18.0 in ./venv/lib/python3.7/site-packages (from google-cloud-bigquery[bqstorage,pandas]) (2.26.0)\n",
      "Requirement already satisfied: google-resumable-media<3.0dev,>=0.6.0 in ./venv/lib/python3.7/site-packages (from google-cloud-bigquery[bqstorage,pandas]) (2.0.2)\n",
      "Requirement already satisfied: proto-plus>=1.10.0 in ./venv/lib/python3.7/site-packages (from google-cloud-bigquery[bqstorage,pandas]) (1.19.0)\n",
      "Requirement already satisfied: grpcio<2.0dev,>=1.38.1 in ./venv/lib/python3.7/site-packages (from google-cloud-bigquery[bqstorage,pandas]) (1.39.0)\n",
      "Requirement already satisfied: packaging>=14.3 in ./venv/lib/python3.7/site-packages (from google-cloud-bigquery[bqstorage,pandas]) (21.0)\n",
      "Requirement already satisfied: google-api-core[grpc]<3.0.0dev,>=1.29.0 in ./venv/lib/python3.7/site-packages (from google-cloud-bigquery[bqstorage,pandas]) (2.0.1)\n",
      "Requirement already satisfied: pandas>=0.23.0 in ./venv/lib/python3.7/site-packages (from google-cloud-bigquery[bqstorage,pandas]) (1.3.2)\n",
      "Requirement already satisfied: pyarrow<6.0dev,>=3.0.0 in ./venv/lib/python3.7/site-packages (from google-cloud-bigquery[bqstorage,pandas]) (5.0.0)\n",
      "Requirement already satisfied: google-cloud-bigquery-storage<3.0.0dev,>=2.0.0 in ./venv/lib/python3.7/site-packages (from google-cloud-bigquery[bqstorage,pandas]) (2.7.0)\n",
      "Requirement already satisfied: google-auth<3.0dev,>=1.25.0 in ./venv/lib/python3.7/site-packages (from google-api-core[grpc]<3.0.0dev,>=1.29.0->google-cloud-bigquery[bqstorage,pandas]) (2.0.2)\n",
      "Requirement already satisfied: setuptools>=40.3.0 in ./venv/lib/python3.7/site-packages (from google-api-core[grpc]<3.0.0dev,>=1.29.0->google-cloud-bigquery[bqstorage,pandas]) (47.1.0)\n",
      "Requirement already satisfied: googleapis-common-protos<2.0dev,>=1.6.0 in ./venv/lib/python3.7/site-packages (from google-api-core[grpc]<3.0.0dev,>=1.29.0->google-cloud-bigquery[bqstorage,pandas]) (1.53.0)\n",
      "Requirement already satisfied: pyasn1-modules>=0.2.1 in ./venv/lib/python3.7/site-packages (from google-auth<3.0dev,>=1.25.0->google-api-core[grpc]<3.0.0dev,>=1.29.0->google-cloud-bigquery[bqstorage,pandas]) (0.2.8)\n",
      "Requirement already satisfied: cachetools<5.0,>=2.0.0 in ./venv/lib/python3.7/site-packages (from google-auth<3.0dev,>=1.25.0->google-api-core[grpc]<3.0.0dev,>=1.29.0->google-cloud-bigquery[bqstorage,pandas]) (4.2.2)\n",
      "Requirement already satisfied: rsa<5,>=3.1.4 in ./venv/lib/python3.7/site-packages (from google-auth<3.0dev,>=1.25.0->google-api-core[grpc]<3.0.0dev,>=1.29.0->google-cloud-bigquery[bqstorage,pandas]) (4.7.2)\n",
      "Requirement already satisfied: libcst>=0.2.5 in ./venv/lib/python3.7/site-packages (from google-cloud-bigquery-storage<3.0.0dev,>=2.0.0->google-cloud-bigquery[bqstorage,pandas]) (0.3.20)\n",
      "Requirement already satisfied: google-crc32c<=1.1.2,>=1.0 in ./venv/lib/python3.7/site-packages (from google-resumable-media<3.0dev,>=0.6.0->google-cloud-bigquery[bqstorage,pandas]) (1.1.2)\n",
      "Requirement already satisfied: cffi>=1.0.0 in ./venv/lib/python3.7/site-packages (from google-crc32c<=1.1.2,>=1.0->google-resumable-media<3.0dev,>=0.6.0->google-cloud-bigquery[bqstorage,pandas]) (1.14.6)\n",
      "Requirement already satisfied: pycparser in ./venv/lib/python3.7/site-packages (from cffi>=1.0.0->google-crc32c<=1.1.2,>=1.0->google-resumable-media<3.0dev,>=0.6.0->google-cloud-bigquery[bqstorage,pandas]) (2.20)\n",
      "Requirement already satisfied: six>=1.5.2 in ./venv/lib/python3.7/site-packages (from grpcio<2.0dev,>=1.38.1->google-cloud-bigquery[bqstorage,pandas]) (1.16.0)\n",
      "Requirement already satisfied: typing-extensions>=3.7.4.2 in ./venv/lib/python3.7/site-packages (from libcst>=0.2.5->google-cloud-bigquery-storage<3.0.0dev,>=2.0.0->google-cloud-bigquery[bqstorage,pandas]) (3.10.0.2)\n",
      "Requirement already satisfied: pyyaml>=5.2 in ./venv/lib/python3.7/site-packages (from libcst>=0.2.5->google-cloud-bigquery-storage<3.0.0dev,>=2.0.0->google-cloud-bigquery[bqstorage,pandas]) (5.4.1)\n",
      "Requirement already satisfied: typing-inspect>=0.4.0 in ./venv/lib/python3.7/site-packages (from libcst>=0.2.5->google-cloud-bigquery-storage<3.0.0dev,>=2.0.0->google-cloud-bigquery[bqstorage,pandas]) (0.7.1)\n",
      "Requirement already satisfied: pyparsing>=2.0.2 in ./venv/lib/python3.7/site-packages (from packaging>=14.3->google-cloud-bigquery[bqstorage,pandas]) (2.4.7)\n",
      "Requirement already satisfied: python-dateutil>=2.7.3 in ./venv/lib/python3.7/site-packages (from pandas>=0.23.0->google-cloud-bigquery[bqstorage,pandas]) (2.8.2)\n",
      "Requirement already satisfied: numpy>=1.17.3 in ./venv/lib/python3.7/site-packages (from pandas>=0.23.0->google-cloud-bigquery[bqstorage,pandas]) (1.21.2)\n",
      "Requirement already satisfied: pytz>=2017.3 in ./venv/lib/python3.7/site-packages (from pandas>=0.23.0->google-cloud-bigquery[bqstorage,pandas]) (2021.1)\n",
      "Requirement already satisfied: pyasn1<0.5.0,>=0.4.6 in ./venv/lib/python3.7/site-packages (from pyasn1-modules>=0.2.1->google-auth<3.0dev,>=1.25.0->google-api-core[grpc]<3.0.0dev,>=1.29.0->google-cloud-bigquery[bqstorage,pandas]) (0.4.8)\n",
      "Requirement already satisfied: idna<4,>=2.5 in ./venv/lib/python3.7/site-packages (from requests<3.0.0dev,>=2.18.0->google-cloud-bigquery[bqstorage,pandas]) (3.2)\n",
      "Requirement already satisfied: certifi>=2017.4.17 in ./venv/lib/python3.7/site-packages (from requests<3.0.0dev,>=2.18.0->google-cloud-bigquery[bqstorage,pandas]) (2021.5.30)\n",
      "Requirement already satisfied: charset-normalizer~=2.0.0 in ./venv/lib/python3.7/site-packages (from requests<3.0.0dev,>=2.18.0->google-cloud-bigquery[bqstorage,pandas]) (2.0.4)\n",
      "Requirement already satisfied: urllib3<1.27,>=1.21.1 in ./venv/lib/python3.7/site-packages (from requests<3.0.0dev,>=2.18.0->google-cloud-bigquery[bqstorage,pandas]) (1.26.6)\n",
      "Requirement already satisfied: mypy-extensions>=0.3.0 in ./venv/lib/python3.7/site-packages (from typing-inspect>=0.4.0->libcst>=0.2.5->google-cloud-bigquery-storage<3.0.0dev,>=2.0.0->google-cloud-bigquery[bqstorage,pandas]) (0.4.3)\n",
      "Note: you may need to restart the kernel to use updated packages.\n"
     ]
    }
   ],
   "source": [
    "pip install --upgrade 'google-cloud-bigquery[bqstorage,pandas]'"
   ]
  },
  {
   "cell_type": "markdown",
   "id": "905e70cf-9962-4912-9f75-303f3afd992f",
   "metadata": {
    "jp-MarkdownHeadingCollapsed": true,
    "tags": []
   },
   "source": [
    "### Enable bigquery SQL support and Matplotlib library"
   ]
  },
  {
   "cell_type": "code",
   "execution_count": 2,
   "id": "b01e5a98-1113-4499-b61b-2f43c8933551",
   "metadata": {},
   "outputs": [],
   "source": [
    "%load_ext google.cloud.bigquery\n",
    "%matplotlib inline"
   ]
  },
  {
   "cell_type": "markdown",
   "id": "db35123a-11a9-44fe-ac25-d96016e23aa4",
   "metadata": {
    "jp-MarkdownHeadingCollapsed": true,
    "tags": []
   },
   "source": [
    "### Import BigQuery python client\n",
    "[google.cloud.bigquery.client.Client](https://googleapis.dev/python/bigquery/latest/generated/google.cloud.bigquery.client.Client.html)"
   ]
  },
  {
   "cell_type": "code",
   "execution_count": 3,
   "id": "ba861b1a-a27b-4a9e-b76f-1bf10d895db7",
   "metadata": {},
   "outputs": [],
   "source": [
    "from google.cloud import bigquery\n",
    "\n",
    "client = bigquery.Client()"
   ]
  },
  {
   "cell_type": "markdown",
   "id": "26640f6d-3d84-49fa-8e31-1c09cb73cb97",
   "metadata": {
    "jp-MarkdownHeadingCollapsed": true,
    "tags": []
   },
   "source": [
    "### Retrieve the annual count of plural births by plurality (2 for twins, 3 for triplets, and so on)"
   ]
  },
  {
   "cell_type": "code",
   "execution_count": 4,
   "id": "7df1fffe-d4ef-4305-a177-85af19c38e3b",
   "metadata": {},
   "outputs": [
    {
     "data": {
      "text/html": [
       "<div>\n",
       "<style scoped>\n",
       "    .dataframe tbody tr th:only-of-type {\n",
       "        vertical-align: middle;\n",
       "    }\n",
       "\n",
       "    .dataframe tbody tr th {\n",
       "        vertical-align: top;\n",
       "    }\n",
       "\n",
       "    .dataframe thead th {\n",
       "        text-align: right;\n",
       "    }\n",
       "</style>\n",
       "<table border=\"1\" class=\"dataframe\">\n",
       "  <thead>\n",
       "    <tr style=\"text-align: right;\">\n",
       "      <th></th>\n",
       "      <th>plurality</th>\n",
       "      <th>count</th>\n",
       "      <th>year</th>\n",
       "    </tr>\n",
       "  </thead>\n",
       "  <tbody>\n",
       "    <tr>\n",
       "      <th>0</th>\n",
       "      <td>2</td>\n",
       "      <td>139209</td>\n",
       "      <td>2007</td>\n",
       "    </tr>\n",
       "    <tr>\n",
       "      <th>1</th>\n",
       "      <td>2</td>\n",
       "      <td>138866</td>\n",
       "      <td>2008</td>\n",
       "    </tr>\n",
       "    <tr>\n",
       "      <th>2</th>\n",
       "      <td>2</td>\n",
       "      <td>137239</td>\n",
       "      <td>2006</td>\n",
       "    </tr>\n",
       "    <tr>\n",
       "      <th>3</th>\n",
       "      <td>2</td>\n",
       "      <td>133285</td>\n",
       "      <td>2005</td>\n",
       "    </tr>\n",
       "    <tr>\n",
       "      <th>4</th>\n",
       "      <td>2</td>\n",
       "      <td>132344</td>\n",
       "      <td>2004</td>\n",
       "    </tr>\n",
       "  </tbody>\n",
       "</table>\n",
       "</div>"
      ],
      "text/plain": [
       "   plurality   count  year\n",
       "0          2  139209  2007\n",
       "1          2  138866  2008\n",
       "2          2  137239  2006\n",
       "3          2  133285  2005\n",
       "4          2  132344  2004"
      ]
     },
     "execution_count": 4,
     "metadata": {},
     "output_type": "execute_result"
    }
   ],
   "source": [
    "sql = \"\"\"\n",
    "SELECT\n",
    "    plurality,\n",
    "    COUNT(1) AS count,\n",
    "    year\n",
    "FROM\n",
    "    `bigquery-public-data.samples.natality`\n",
    "WHERE\n",
    "    NOT IS_NAN(plurality) AND plurality > 1\n",
    "GROUP BY\n",
    "    plurality, year\n",
    "ORDER BY\n",
    "    count DESC\n",
    "\"\"\"\n",
    "df = client.query(sql).to_dataframe()\n",
    "df.head()"
   ]
  },
  {
   "cell_type": "markdown",
   "id": "299efcd6-e5e7-4267-9b28-0b0dbaeaca22",
   "metadata": {
    "jp-MarkdownHeadingCollapsed": true,
    "tags": []
   },
   "source": [
    "### Pivot the data and create a stacked bar chart of the count of plural births over time."
   ]
  },
  {
   "cell_type": "code",
   "execution_count": 5,
   "id": "db46b3e1-81ab-4cb4-a94c-d25e5654e671",
   "metadata": {},
   "outputs": [
    {
     "data": {
      "text/plain": [
       "<AxesSubplot:xlabel='year'>"
      ]
     },
     "execution_count": 5,
     "metadata": {},
     "output_type": "execute_result"
    },
    {
     "data": {
      "image/png": "[encoded data removed]",
      "text/plain": [
       "<Figure size 1080x504 with 1 Axes>"
      ]
     },
     "metadata": {
      "needs_background": "light"
     },
     "output_type": "display_data"
    }
   ],
   "source": [
    "pivot_table = df.pivot(index=\"year\", columns=\"plurality\", values=\"count\")\n",
    "pivot_table.plot(kind=\"bar\", stacked=True, figsize=(15, 7))"
   ]
  },
  {
   "cell_type": "markdown",
   "id": "c1a71fb3-f1d6-4bed-9b60-b121ecc04731",
   "metadata": {
    "jp-MarkdownHeadingCollapsed": true,
    "tags": []
   },
   "source": [
    "### Retrieve the count of births by the number of gestation weeks"
   ]
  },
  {
   "cell_type": "code",
   "execution_count": 6,
   "id": "765b2917-2463-4dc7-9c13-0a8ac58a0593",
   "metadata": {},
   "outputs": [],
   "source": [
    "sql = \"\"\"\n",
    "SELECT\n",
    "    gestation_weeks,\n",
    "    COUNT(1) AS count\n",
    "FROM\n",
    "    `bigquery-public-data.samples.natality`\n",
    "WHERE\n",
    "    NOT IS_NAN(gestation_weeks) AND gestation_weeks <> 99\n",
    "GROUP BY\n",
    "    gestation_weeks\n",
    "ORDER BY\n",
    "    gestation_weeks\n",
    "\"\"\"\n",
    "df = client.query(sql).to_dataframe()"
   ]
  },
  {
   "cell_type": "markdown",
   "id": "40d42bec-eb6c-4bcb-ad43-6a693f23659d",
   "metadata": {
    "tags": []
   },
   "source": [
    "### Plot Count of births by Gestation Weeks\n",
    "[pandas.DataFrame.plot](https://pandas.pydata.org/pandas-docs/stable/reference/api/pandas.DataFrame.plot.html)"
   ]
  },
  {
   "cell_type": "code",
   "execution_count": 7,
   "id": "175008a6-672b-4066-90da-84cf0d1dd899",
   "metadata": {},
   "outputs": [
    {
     "data": {
      "text/plain": [
       "Text(0, 0.5, 'Count')"
      ]
     },
     "execution_count": 7,
     "metadata": {},
     "output_type": "execute_result"
    },
    {
     "data": {
      "image/png": "[encoded data removed]",
      "text/plain": [
       "<Figure size 1080x504 with 1 Axes>"
      ]
     },
     "metadata": {
      "needs_background": "light"
     },
     "output_type": "display_data"
    }
   ],
   "source": [
    "ax = df.plot(kind=\"bar\", x=\"gestation_weeks\", y=\"count\", figsize=(15, 7), color=[\"y\",\"c\",\"m\",\"b\",\"g\",\"r\"])\n",
    "ax.set_title(\"Count of Births by Gestation Weeks\")\n",
    "ax.set_xlabel(\"Gestation Weeks\")\n",
    "ax.set_ylabel(\"Count\")"
   ]
  },
  {
   "cell_type": "code",
   "execution_count": null,
   "id": "39867002-afd7-49f8-b618-4da37ea16320",
   "metadata": {},
   "outputs": [],
   "source": []
  }
 ],
 "metadata": {
  "kernelspec": {
   "display_name": "Python 3 (ipykernel)",
   "language": "python",
   "name": "python3"
  },
  "language_info": {
   "codemirror_mode": {
    "name": "ipython",
    "version": 3
   },
   "file_extension": ".py",
   "mimetype": "text/x-python",
   "name": "python",
   "nbconvert_exporter": "python",
   "pygments_lexer": "ipython3",
   "version": "3.7.9"
  }
 },
 "nbformat": 4,
 "nbformat_minor": 5
}
