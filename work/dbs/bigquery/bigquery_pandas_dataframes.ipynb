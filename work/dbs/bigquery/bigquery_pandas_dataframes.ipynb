{
 "cells": [
  {
   "cell_type": "markdown",
   "id": "486ad9c3-d2de-4f9d-bdae-6f1f619b87e7",
   "metadata": {
    "tags": []
   },
   "source": [
    "# BigQuery using Pandas DataFrames\n",
    "Taken from [Visualize Jupyter](https://cloud.google.com/bigquery/docs/visualize-jupyter?hl=en)"
   ]
  },
  {
   "cell_type": "markdown",
   "id": "798915e7-40f1-46ce-8f59-eaab9d6b0a2b",
   "metadata": {
    "jp-MarkdownHeadingCollapsed": true,
    "tags": []
   },
   "source": [
    "### Install BigQuery library"
   ]
  },
  {
   "cell_type": "code",
   "execution_count": null,
   "id": "84e51050-9db7-43c2-ae0f-7394286467e5",
   "metadata": {},
   "outputs": [],
   "source": [
    "pip install --upgrade 'google-cloud-bigquery[bqstorage,pandas]'"
   ]
  },
  {
   "cell_type": "markdown",
   "id": "905e70cf-9962-4912-9f75-303f3afd992f",
   "metadata": {
    "jp-MarkdownHeadingCollapsed": true,
    "tags": []
   },
   "source": [
    "### Enable bigquery SQL support and Matplotlib library"
   ]
  },
  {
   "cell_type": "code",
   "execution_count": null,
   "id": "b01e5a98-1113-4499-b61b-2f43c8933551",
   "metadata": {},
   "outputs": [],
   "source": [
    "%load_ext google.cloud.bigquery\n",
    "%matplotlib inline"
   ]
  },
  {
   "cell_type": "markdown",
   "id": "db35123a-11a9-44fe-ac25-d96016e23aa4",
   "metadata": {
    "jp-MarkdownHeadingCollapsed": true,
    "tags": []
   },
   "source": [
    "### Import BigQuery python client\n",
    "[google.cloud.bigquery.client.Client](https://googleapis.dev/python/bigquery/latest/generated/google.cloud.bigquery.client.Client.html)"
   ]
  },
  {
   "cell_type": "code",
   "execution_count": null,
   "id": "ba861b1a-a27b-4a9e-b76f-1bf10d895db7",
   "metadata": {},
   "outputs": [],
   "source": [
    "from google.cloud import bigquery\n",
    "\n",
    "client = bigquery.Client()"
   ]
  },
  {
   "cell_type": "markdown",
   "id": "26640f6d-3d84-49fa-8e31-1c09cb73cb97",
   "metadata": {
    "jp-MarkdownHeadingCollapsed": true,
    "tags": []
   },
   "source": [
    "### Retrieve the annual count of plural births by plurality (2 for twins, 3 for triplets, and so on)"
   ]
  },
  {
   "cell_type": "code",
   "execution_count": null,
   "id": "7df1fffe-d4ef-4305-a177-85af19c38e3b",
   "metadata": {},
   "outputs": [],
   "source": [
    "sql = \"\"\"\n",
    "SELECT\n",
    "    plurality,\n",
    "    COUNT(1) AS count,\n",
    "    year\n",
    "FROM\n",
    "    `bigquery-public-data.samples.natality`\n",
    "WHERE\n",
    "    NOT IS_NAN(plurality) AND plurality > 1\n",
    "GROUP BY\n",
    "    plurality, year\n",
    "ORDER BY\n",
    "    count DESC\n",
    "\"\"\"\n",
    "df = client.query(sql).to_dataframe()\n",
    "df.head()"
   ]
  },
  {
   "cell_type": "markdown",
   "id": "299efcd6-e5e7-4267-9b28-0b0dbaeaca22",
   "metadata": {
    "jp-MarkdownHeadingCollapsed": true,
    "tags": []
   },
   "source": [
    "### Pivot the data and create a stacked bar chart of the count of plural births over time."
   ]
  },
  {
   "cell_type": "code",
   "execution_count": null,
   "id": "db46b3e1-81ab-4cb4-a94c-d25e5654e671",
   "metadata": {},
   "outputs": [],
   "source": [
    "pivot_table = df.pivot(index=\"year\", columns=\"plurality\", values=\"count\")\n",
    "pivot_table.plot(kind=\"bar\", stacked=True, figsize=(15, 7))"
   ]
  },
  {
   "cell_type": "markdown",
   "id": "c1a71fb3-f1d6-4bed-9b60-b121ecc04731",
   "metadata": {
    "jp-MarkdownHeadingCollapsed": true,
    "tags": []
   },
   "source": [
    "### Retrieve the count of births by the number of gestation weeks"
   ]
  },
  {
   "cell_type": "code",
   "execution_count": null,
   "id": "765b2917-2463-4dc7-9c13-0a8ac58a0593",
   "metadata": {},
   "outputs": [],
   "source": [
    "sql = \"\"\"\n",
    "SELECT\n",
    "    gestation_weeks,\n",
    "    COUNT(1) AS count\n",
    "FROM\n",
    "    `bigquery-public-data.samples.natality`\n",
    "WHERE\n",
    "    NOT IS_NAN(gestation_weeks) AND gestation_weeks <> 99\n",
    "GROUP BY\n",
    "    gestation_weeks\n",
    "ORDER BY\n",
    "    gestation_weeks\n",
    "\"\"\"\n",
    "df = client.query(sql).to_dataframe()"
   ]
  },
  {
   "cell_type": "markdown",
   "id": "40d42bec-eb6c-4bcb-ad43-6a693f23659d",
   "metadata": {
    "tags": []
   },
   "source": [
    "### Plot Count of births by Gestation Weeks\n",
    "[pandas.DataFrame.plot](https://pandas.pydata.org/pandas-docs/stable/reference/api/pandas.DataFrame.plot.html)"
   ]
  },
  {
   "cell_type": "code",
   "execution_count": null,
   "id": "175008a6-672b-4066-90da-84cf0d1dd899",
   "metadata": {},
   "outputs": [],
   "source": [
    "ax = df.plot(kind=\"bar\", x=\"gestation_weeks\", y=\"count\", figsize=(15, 7), color=[\"y\",\"c\",\"m\",\"b\",\"g\",\"r\"])\n",
    "ax.set_title(\"Count of Births by Gestation Weeks\")\n",
    "ax.set_xlabel(\"Gestation Weeks\")\n",
    "ax.set_ylabel(\"Count\")"
   ]
  },
  {
   "cell_type": "code",
   "execution_count": null,
   "id": "39867002-afd7-49f8-b618-4da37ea16320",
   "metadata": {},
   "outputs": [],
   "source": []
  }
 ],
 "metadata": {
  "kernelspec": {
   "display_name": "Python 3 (ipykernel)",
   "language": "python",
   "name": "python3"
  },
  "language_info": {
   "codemirror_mode": {
    "name": "ipython",
    "version": 3
   },
   "file_extension": ".py",
   "mimetype": "text/x-python",
   "name": "python",
   "nbconvert_exporter": "python",
   "pygments_lexer": "ipython3",
   "version": "3.9.10"
  }
 },
 "nbformat": 4,
 "nbformat_minor": 5
}
