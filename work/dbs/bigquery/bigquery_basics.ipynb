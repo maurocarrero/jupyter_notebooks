{
 "cells": [
  {
   "cell_type": "code",
   "execution_count": null,
   "id": "84e51050-9db7-43c2-ae0f-7394286467e5",
   "metadata": {},
   "outputs": [],
   "source": [
    "pip install --upgrade 'google-cloud-bigquery[bqstorage,pandas]'"
   ]
  },
  {
   "cell_type": "code",
   "execution_count": null,
   "id": "d6a0f2a5",
   "metadata": {},
   "outputs": [],
   "source": [
    "pip install --upgrade matplotlib"
   ]
  },
  {
   "cell_type": "code",
   "execution_count": null,
   "id": "90713ace",
   "metadata": {},
   "outputs": [],
   "source": [
    "pip install --upgrade tqdm"
   ]
  },
  {
   "cell_type": "code",
   "execution_count": null,
   "id": "b01e5a98-1113-4499-b61b-2f43c8933551",
   "metadata": {},
   "outputs": [],
   "source": [
    "%load_ext google.cloud.bigquery\n",
    "%matplotlib inline"
   ]
  },
  {
   "cell_type": "code",
   "execution_count": null,
   "id": "aef52f69-bd75-4dd1-9613-258105afb578",
   "metadata": {},
   "outputs": [],
   "source": [
    "%%bigquery posts_topten\n",
    "SELECT\n",
    "  title,\n",
    "  `by`,\n",
    "  url,\n",
    "  `score`\n",
    "FROM\n",
    "  `bigquery-public-data.hacker_news.stories`\n",
    "ORDER BY\n",
    "  score DESC\n",
    "LIMIT\n",
    "  10"
   ]
  },
  {
   "cell_type": "code",
   "execution_count": null,
   "id": "4b13e75f-2c93-414f-8457-8b04bcad6c34",
   "metadata": {},
   "outputs": [],
   "source": [
    "posts_topten.plot(kind=\"bar\",x=\"title\",y=\"score\")"
   ]
  },
  {
   "cell_type": "code",
   "execution_count": null,
   "id": "a2fe6dbf-ec98-4662-8c61-8911b5e8582d",
   "metadata": {},
   "outputs": [],
   "source": [
    "%%bigquery total_births\n",
    "SELECT\n",
    "  source_year AS year,\n",
    "  COUNT(is_male) AS birth_count\n",
    "FROM\n",
    "  `bigquery-public-data.samples.natality`\n",
    "GROUP BY\n",
    "  year\n",
    "ORDER BY\n",
    "  year DESC\n",
    "LIMIT\n",
    "  15"
   ]
  },
  {
   "cell_type": "code",
   "execution_count": null,
   "id": "86e755cf-c9cd-470b-97d4-8412c208f587",
   "metadata": {},
   "outputs": [],
   "source": [
    "total_births.plot(kind=\"bar\", x=\"year\", y=\"birth_count\")"
   ]
  },
  {
   "cell_type": "code",
   "execution_count": null,
   "id": "3df64cb5-9eb7-4f4a-a251-36ed572162a9",
   "metadata": {},
   "outputs": [],
   "source": [
    "%%bigquery births_by_weekday\n",
    "SELECT\n",
    "    wday,\n",
    "    SUM(CASE WHEN is_male THEN 1 ELSE 0 END) AS male_births,\n",
    "    SUM(CASE WHEN is_male THEN 0 ELSE 1 END) AS female_births\n",
    "FROM `bigquery-public-data.samples.natality`\n",
    "WHERE wday IS NOT NULL\n",
    "GROUP BY wday\n",
    "ORDER BY wday ASC"
   ]
  },
  {
   "cell_type": "code",
   "execution_count": null,
   "id": "7a1fb78c-c427-4b2e-ae2b-787ceed7f209",
   "metadata": {},
   "outputs": [],
   "source": [
    "births_by_weekday.plot(x=\"wday\")"
   ]
  }
 ],
 "metadata": {
  "kernelspec": {
   "display_name": "Python 3 (ipykernel)",
   "language": "python",
   "name": "python3"
  },
  "language_info": {
   "codemirror_mode": {
    "name": "ipython",
    "version": 3
   },
   "file_extension": ".py",
   "mimetype": "text/x-python",
   "name": "python",
   "nbconvert_exporter": "python",
   "pygments_lexer": "ipython3",
   "version": "3.9.10"
  }
 },
 "nbformat": 4,
 "nbformat_minor": 5
}
