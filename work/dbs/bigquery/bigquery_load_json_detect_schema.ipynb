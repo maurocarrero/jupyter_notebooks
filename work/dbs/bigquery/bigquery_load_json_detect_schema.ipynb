{
 "cells": [
  {
   "cell_type": "code",
   "execution_count": null,
   "id": "9f17472a-65e3-4318-ac5f-d80daaba0e72",
   "metadata": {},
   "outputs": [],
   "source": [
    "from google.cloud import bigquery"
   ]
  },
  {
   "cell_type": "code",
   "execution_count": null,
   "id": "e6880c07-c830-4d36-a0ea-aa549af1db6a",
   "metadata": {},
   "outputs": [],
   "source": [
    "client = bigquery.Client()"
   ]
  },
  {
   "cell_type": "code",
   "execution_count": null,
   "id": "57374084-9abf-41bf-87ef-59b4aff9269a",
   "metadata": {},
   "outputs": [],
   "source": [
    "job_config = bigquery.LoadJobConfig(\n",
    "    autodetect=True, source_format=bigquery.SourceFormat.NEWLINE_DELIMITED_JSON\n",
    ")"
   ]
  },
  {
   "cell_type": "code",
   "execution_count": null,
   "id": "5d2f58bd-dfa1-4ff0-a95f-e6c7690c37f9",
   "metadata": {},
   "outputs": [],
   "source": [
    "uri = \"gs://cloud-samples-data/bigquery/us-states/us-states.json\"\n",
    "table_id = \"cloudy-tapera-invisible.test.us-states\""
   ]
  },
  {
   "cell_type": "code",
   "execution_count": null,
   "id": "1a80a707-1057-4da1-84c7-30b2c48f1f1a",
   "metadata": {},
   "outputs": [],
   "source": [
    "load_job = client.load_table_from_uri(uri, table_id, job_config=job_config)"
   ]
  },
  {
   "cell_type": "code",
   "execution_count": null,
   "id": "06b2e6cc-eef7-44df-9c11-75d18a631c09",
   "metadata": {},
   "outputs": [],
   "source": [
    "load_job.result()"
   ]
  },
  {
   "cell_type": "code",
   "execution_count": null,
   "id": "c9494814-48b8-4ff0-9804-02ebffc6bd9b",
   "metadata": {},
   "outputs": [],
   "source": [
    "destination_table = client.get_table(table_id)\n",
    "destination_table"
   ]
  },
  {
   "cell_type": "code",
   "execution_count": null,
   "id": "d14c70fb-1d89-49bc-b7e7-6008546d1377",
   "metadata": {},
   "outputs": [],
   "source": [
    "print(\"Loaded {} rows\".format(destination_table.num_rows))"
   ]
  }
 ],
 "metadata": {
  "kernelspec": {
   "display_name": "Python 3 (ipykernel)",
   "language": "python",
   "name": "python3"
  },
  "language_info": {
   "codemirror_mode": {
    "name": "ipython",
    "version": 3
   },
   "file_extension": ".py",
   "mimetype": "text/x-python",
   "name": "python",
   "nbconvert_exporter": "python",
   "pygments_lexer": "ipython3",
   "version": "3.9.10"
  }
 },
 "nbformat": 4,
 "nbformat_minor": 5
}
