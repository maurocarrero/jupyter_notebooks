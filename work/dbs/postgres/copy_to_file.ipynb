{
 "cells": [
  {
   "cell_type": "code",
   "execution_count": null,
   "id": "33e32645-8528-4ab0-af57-0502c25c9373",
   "metadata": {},
   "outputs": [],
   "source": [
    "pip install --upgrade psycopg2-binary"
   ]
  },
  {
   "cell_type": "code",
   "execution_count": null,
   "id": "31907ed6-376c-449a-8063-49c86ae2d093",
   "metadata": {},
   "outputs": [],
   "source": [
    "import psycopg2 as db\n",
    "import csv"
   ]
  },
  {
   "cell_type": "code",
   "execution_count": null,
   "id": "8143ea22-4a02-4f00-88ee-7d72c547fef3",
   "metadata": {},
   "outputs": [],
   "source": [
    "dbname = %env POSTGRESQL_DB_NAME\n",
    "user = %env POSTGRESQL_USER\n",
    "password = %env POSTGRESQL_PASSWORD\n",
    "host = %env POSTGRESQL_HOST\n",
    "port = %env POSTGRESQL_PORT\n",
    "\n",
    "conn = db.connect(dbname=dbname, host=host, user=user, password=password, port=port)\n",
    "cur = conn.cursor()\n",
    "filename = '../../data/from_psql.csv'\n",
    "\n",
    "with open(filename, 'w') as output_file:\n",
    "    cur.copy_to(output_file, 'users', sep=',')\n",
    "    output_file.close()"
   ]
  },
  {
   "cell_type": "code",
   "execution_count": null,
   "id": "f9ac0f03-3d5a-41af-abca-f5600099e615",
   "metadata": {},
   "outputs": [],
   "source": [
    "with open(filename, 'r') as f:\n",
    "    print(f.read(500))\n",
    "    f.close()"
   ]
  }
 ],
 "metadata": {
  "kernelspec": {
   "display_name": "Python 3 (ipykernel)",
   "language": "python",
   "name": "python3"
  },
  "language_info": {
   "codemirror_mode": {
    "name": "ipython",
    "version": 3
   },
   "file_extension": ".py",
   "mimetype": "text/x-python",
   "name": "python",
   "nbconvert_exporter": "python",
   "pygments_lexer": "ipython3",
   "version": "3.9.10"
  }
 },
 "nbformat": 4,
 "nbformat_minor": 5
}
