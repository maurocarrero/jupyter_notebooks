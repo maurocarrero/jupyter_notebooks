{
 "cells": [
  {
   "cell_type": "code",
   "execution_count": null,
   "id": "9ee24d02-4d3d-463f-856e-31f8414ab77d",
   "metadata": {},
   "outputs": [],
   "source": [
    "pip install psycopg2-binary"
   ]
  },
  {
   "cell_type": "code",
   "execution_count": null,
   "id": "ef458965-8ca9-47b0-8d82-428c41e5a38c",
   "metadata": {},
   "outputs": [],
   "source": [
    "import psycopg2\n",
    "import csv"
   ]
  },
  {
   "cell_type": "code",
   "execution_count": null,
   "id": "d8756b65-d9ff-4983-b066-8463373aeae9",
   "metadata": {},
   "outputs": [],
   "source": [
    "conn = psycopg2.connect(dbname='tapera',user='postgres',password='Peteco2022',host='host.docker.internal',port=5432)\n",
    "cur = conn.cursor()"
   ]
  },
  {
   "cell_type": "code",
   "execution_count": null,
   "id": "98a880e0-e60e-4a4c-b743-48597b54c44b",
   "metadata": {},
   "outputs": [],
   "source": [
    "stmt = \"SELECT * FROM users\"\n",
    "\n",
    "cur.execute(stmt)\n",
    "\n",
    "records = cur.fetchall()\n",
    "records"
   ]
  },
  {
   "cell_type": "code",
   "execution_count": null,
   "id": "2715ccf8-5dc0-4eef-9339-03bb13f0bbd6",
   "metadata": {},
   "outputs": [],
   "source": [
    "data = []\n",
    "\n",
    "with open('../../data/data.csv') as data_file:\n",
    "    reader = csv.DictReader(data_file)\n",
    "    for row in reader:\n",
    "        data.append(row)"
   ]
  },
  {
   "cell_type": "code",
   "execution_count": null,
   "id": "69ca977a-a7de-451f-95bf-86424be14375",
   "metadata": {},
   "outputs": [],
   "source": [
    "from psycopg2 import sql\n",
    "\n",
    "users_table = 'users'\n",
    "\n",
    "for row in data[2:]:\n",
    "    values = [row['Name'], int(row['Age']), row['Street'], row['City'], row['State'], int(row['Zip']), float(row['Lng']), float(row['Lat'])]\n",
    "    cur.execute(\n",
    "        sql.SQL(\"INSERT INTO {} VALUES (%s, %s, %s, %s, %s, %s, %s, %s)\")\n",
    "            .format(sql.Identifier(users_table)),\n",
    "        values)\n",
    "\n",
    "conn.commit()\n",
    "cur.close()\n",
    "conn.close()"
   ]
  }
 ],
 "metadata": {
  "kernelspec": {
   "display_name": "Python 3 (ipykernel)",
   "language": "python",
   "name": "python3"
  },
  "language_info": {
   "codemirror_mode": {
    "name": "ipython",
    "version": 3
   },
   "file_extension": ".py",
   "mimetype": "text/x-python",
   "name": "python",
   "nbconvert_exporter": "python",
   "pygments_lexer": "ipython3",
   "version": "3.9.10"
  }
 },
 "nbformat": 4,
 "nbformat_minor": 5
}
