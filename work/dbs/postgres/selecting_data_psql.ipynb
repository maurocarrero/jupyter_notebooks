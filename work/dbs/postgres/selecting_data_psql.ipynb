{
 "cells": [
  {
   "cell_type": "code",
   "execution_count": 1,
   "id": "37fa4d93-f3b8-42b0-880a-6eff5eb20465",
   "metadata": {},
   "outputs": [
    {
     "name": "stdout",
     "output_type": "stream",
     "text": [
      "Requirement already satisfied: psycopg2-binary in /opt/conda/lib/python3.9/site-packages (2.9.3)\n",
      "Note: you may need to restart the kernel to use updated packages.\n"
     ]
    }
   ],
   "source": [
    "pip install psycopg2-binary"
   ]
  },
  {
   "cell_type": "code",
   "execution_count": 2,
   "id": "ac7f2c66-b01e-48a8-814f-fede347f918d",
   "metadata": {},
   "outputs": [],
   "source": [
    "import psycopg2 as db"
   ]
  },
  {
   "cell_type": "code",
   "execution_count": 3,
   "id": "ee470768-ea80-4896-a811-0612a994463d",
   "metadata": {},
   "outputs": [],
   "source": [
    "conn_str = \"dbname='tapera' host='host.docker.internal' user='postgres' password='Peteco2022'\"\n",
    "conn = db.connect(conn_str)\n",
    "cur = conn.cursor()\n",
    "query = \"SELECT * FROM users LIMIT 3\""
   ]
  },
  {
   "cell_type": "code",
   "execution_count": 4,
   "id": "9bb7274c-055e-4d9b-9a5d-1ddef5a3eff7",
   "metadata": {},
   "outputs": [
    {
     "name": "stdout",
     "output_type": "stream",
     "text": [
      "[('Joseph Frost', 89, '0564 Tracy Squares Suite 390', 'Port Kevin', 'New Jersey', 82088, 122.143683, 3.8027955, 0), ('Sarah Martinez', 64, '8880 Strong Estate', 'Lewisport', 'Rhode Island', 97960, -51.470907, 37.1190845, 1), ('Nathaniel Andrade', 25, '220 Diaz Burg', 'Williamston', 'Utah', 6098, 139.639934, 84.8235015, 2)]\n"
     ]
    }
   ],
   "source": [
    "# SELECTING DATA\n",
    "cur.execute(query)\n",
    "res = []\n",
    "for record in cur:\n",
    "    res.append(record)\n",
    "print(res)"
   ]
  },
  {
   "cell_type": "code",
   "execution_count": 5,
   "id": "6cf74321-a5f3-4c88-a9b6-1acf3ede8f51",
   "metadata": {},
   "outputs": [
    {
     "name": "stdout",
     "output_type": "stream",
     "text": [
      "[('Joseph Frost', 89, '0564 Tracy Squares Suite 390', 'Port Kevin', 'New Jersey', 82088, 122.143683, 3.8027955, 0), ('Sarah Martinez', 64, '8880 Strong Estate', 'Lewisport', 'Rhode Island', 97960, -51.470907, 37.1190845, 1), ('Nathaniel Andrade', 25, '220 Diaz Burg', 'Williamston', 'Utah', 6098, 139.639934, 84.8235015, 2)]\n"
     ]
    }
   ],
   "source": [
    "# Methods to fetch data\n",
    "cur.execute(query)\n",
    "res = cur.fetchall()\n",
    "print(res)"
   ]
  },
  {
   "cell_type": "code",
   "execution_count": 6,
   "id": "f1beb85f-5196-4fd1-8d22-2d9f5dbe6cd8",
   "metadata": {},
   "outputs": [
    {
     "name": "stdout",
     "output_type": "stream",
     "text": [
      "[('Joseph Frost', 89, '0564 Tracy Squares Suite 390', 'Port Kevin', 'New Jersey', 82088, 122.143683, 3.8027955, 0), ('Sarah Martinez', 64, '8880 Strong Estate', 'Lewisport', 'Rhode Island', 97960, -51.470907, 37.1190845, 1), ('Nathaniel Andrade', 25, '220 Diaz Burg', 'Williamston', 'Utah', 6098, 139.639934, 84.8235015, 2)]\n"
     ]
    }
   ],
   "source": [
    "cur.execute(query)\n",
    "res = cur.fetchmany(3)\n",
    "print(res)"
   ]
  },
  {
   "cell_type": "code",
   "execution_count": 7,
   "id": "2f54bb8b-48fd-479f-9dcc-0a3003cf5f60",
   "metadata": {},
   "outputs": [
    {
     "name": "stdout",
     "output_type": "stream",
     "text": [
      "('Joseph Frost', 89, '0564 Tracy Squares Suite 390', 'Port Kevin', 'New Jersey', 82088, 122.143683, 3.8027955, 0)\n"
     ]
    }
   ],
   "source": [
    "cur.execute(query)\n",
    "res = cur.fetchone()\n",
    "print(res)"
   ]
  },
  {
   "cell_type": "code",
   "execution_count": 8,
   "id": "a4f1b238-8367-4aa6-a675-5f2c4ee4bb35",
   "metadata": {},
   "outputs": [
    {
     "name": "stdout",
     "output_type": "stream",
     "text": [
      "3\n",
      "0 ('Joseph Frost', 89, '0564 Tracy Squares Suite 390', 'Port Kevin', 'New Jersey', 82088, 122.143683, 3.8027955, 0)\n",
      "1 ('Sarah Martinez', 64, '8880 Strong Estate', 'Lewisport', 'Rhode Island', 97960, -51.470907, 37.1190845, 1)\n",
      "2 ('Nathaniel Andrade', 25, '220 Diaz Burg', 'Williamston', 'Utah', 6098, 139.639934, 84.8235015, 2)\n"
     ]
    }
   ],
   "source": [
    "cur.execute(query)\n",
    "print(cur.rowcount)\n",
    "print(cur.rownumber, cur.fetchone())\n",
    "print(cur.rownumber, cur.fetchone())\n",
    "print(cur.rownumber, cur.fetchone())"
   ]
  },
  {
   "cell_type": "code",
   "execution_count": 9,
   "id": "122a1ce9-98cb-4a74-98e8-394b9a44a8ef",
   "metadata": {},
   "outputs": [],
   "source": [
    "conn.close()"
   ]
  }
 ],
 "metadata": {
  "kernelspec": {
   "display_name": "Python 3 (ipykernel)",
   "language": "python",
   "name": "python3"
  },
  "language_info": {
   "codemirror_mode": {
    "name": "ipython",
    "version": 3
   },
   "file_extension": ".py",
   "mimetype": "text/x-python",
   "name": "python",
   "nbconvert_exporter": "python",
   "pygments_lexer": "ipython3",
   "version": "3.9.10"
  }
 },
 "nbformat": 4,
 "nbformat_minor": 5
}
