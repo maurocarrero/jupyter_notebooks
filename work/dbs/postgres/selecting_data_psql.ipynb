{
 "cells": [
  {
   "cell_type": "code",
   "execution_count": null,
   "id": "37fa4d93-f3b8-42b0-880a-6eff5eb20465",
   "metadata": {},
   "outputs": [],
   "source": [
    "pip install psycopg2-binary"
   ]
  },
  {
   "cell_type": "code",
   "execution_count": null,
   "id": "ac7f2c66-b01e-48a8-814f-fede347f918d",
   "metadata": {},
   "outputs": [],
   "source": [
    "import psycopg2 as db"
   ]
  },
  {
   "cell_type": "code",
   "execution_count": null,
   "id": "ee470768-ea80-4896-a811-0612a994463d",
   "metadata": {},
   "outputs": [],
   "source": [
    "dbname = %env POSTGRESQL_DB_NAME\n",
    "user = %env POSTGRESQL_USER\n",
    "password = %env POSTGRESQL_PASSWORD\n",
    "host = %env POSTGRESQL_HOST\n",
    "port = %env POSTGRESQL_PORT\n",
    "\n",
    "conn_str = f\"dbname='{dbname}' host='{host}' port={port} user='{user}' password='{password}'\"\n",
    "conn = db.connect(conn_str)\n",
    "cur = conn.cursor()\n",
    "query = \"SELECT * FROM users LIMIT 3\""
   ]
  },
  {
   "cell_type": "code",
   "execution_count": null,
   "id": "9bb7274c-055e-4d9b-9a5d-1ddef5a3eff7",
   "metadata": {},
   "outputs": [],
   "source": [
    "# SELECTING DATA\n",
    "cur.execute(query)\n",
    "res = []\n",
    "for record in cur:\n",
    "    res.append(record)\n",
    "print(res)"
   ]
  },
  {
   "cell_type": "code",
   "execution_count": null,
   "id": "6cf74321-a5f3-4c88-a9b6-1acf3ede8f51",
   "metadata": {},
   "outputs": [],
   "source": [
    "# Methods to fetch data\n",
    "cur.execute(query)\n",
    "res = cur.fetchall()\n",
    "print(res)"
   ]
  },
  {
   "cell_type": "code",
   "execution_count": null,
   "id": "f1beb85f-5196-4fd1-8d22-2d9f5dbe6cd8",
   "metadata": {},
   "outputs": [],
   "source": [
    "cur.execute(query)\n",
    "res = cur.fetchmany(3)\n",
    "print(res)"
   ]
  },
  {
   "cell_type": "code",
   "execution_count": null,
   "id": "2f54bb8b-48fd-479f-9dcc-0a3003cf5f60",
   "metadata": {},
   "outputs": [],
   "source": [
    "cur.execute(query)\n",
    "res = cur.fetchone()\n",
    "print(res)"
   ]
  },
  {
   "cell_type": "code",
   "execution_count": null,
   "id": "a4f1b238-8367-4aa6-a675-5f2c4ee4bb35",
   "metadata": {},
   "outputs": [],
   "source": [
    "cur.execute(query)\n",
    "print(cur.rowcount)\n",
    "print(cur.rownumber, cur.fetchone())\n",
    "print(cur.rownumber, cur.fetchone())\n",
    "print(cur.rownumber, cur.fetchone())"
   ]
  },
  {
   "cell_type": "code",
   "execution_count": null,
   "id": "122a1ce9-98cb-4a74-98e8-394b9a44a8ef",
   "metadata": {},
   "outputs": [],
   "source": [
    "conn.close()"
   ]
  }
 ],
 "metadata": {
  "kernelspec": {
   "display_name": "Python 3 (ipykernel)",
   "language": "python",
   "name": "python3"
  },
  "language_info": {
   "codemirror_mode": {
    "name": "ipython",
    "version": 3
   },
   "file_extension": ".py",
   "mimetype": "text/x-python",
   "name": "python",
   "nbconvert_exporter": "python",
   "pygments_lexer": "ipython3",
   "version": "3.9.10"
  }
 },
 "nbformat": 4,
 "nbformat_minor": 5
}
