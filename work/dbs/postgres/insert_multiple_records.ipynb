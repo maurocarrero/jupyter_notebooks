{
 "cells": [
  {
   "cell_type": "code",
   "execution_count": null,
   "id": "b03dbb03-bb24-46ab-9ae0-10d1e8474b74",
   "metadata": {},
   "outputs": [],
   "source": [
    "pip install --upgrade psycopg2-binary faker"
   ]
  },
  {
   "cell_type": "code",
   "execution_count": null,
   "id": "c556b849-1c61-48ea-a213-d112416680ad",
   "metadata": {},
   "outputs": [],
   "source": [
    "import psycopg2 as db\n",
    "from faker import Faker"
   ]
  },
  {
   "cell_type": "code",
   "execution_count": null,
   "id": "04d18e85-86a4-4f54-b29c-821c99c46640",
   "metadata": {},
   "outputs": [],
   "source": [
    "dbname = %env POSTGRESQL_DB_NAME\n",
    "user = %env POSTGRESQL_USER\n",
    "password = %env POSTGRESQL_PASSWORD\n",
    "host = %env POSTGRESQL_HOST\n",
    "port = %env POSTGRESQL_PORT\n",
    "\n",
    "conn = db.connect(f\"dbname='{dbname}' host='{host}' user='{user}' password='{password}' port={port}\")\n",
    "fake = Faker()\n",
    "data = []"
   ]
  },
  {
   "cell_type": "code",
   "execution_count": null,
   "id": "5a84e0a2-ceae-4c0a-8006-529d7c86d510",
   "metadata": {},
   "outputs": [],
   "source": [
    "for r in range(1000):\n",
    "    data.append((\n",
    "        r,\n",
    "        fake.name(),\n",
    "        fake.random_int(min=1, max=100),\n",
    "        fake.street_address(),\n",
    "        fake.city(),\n",
    "        fake.state(),\n",
    "        fake.zipcode(),\n",
    "        fake.longitude(),\n",
    "        fake.latitude()\n",
    "    ))\n",
    "data_for_db = tuple(data)"
   ]
  },
  {
   "cell_type": "code",
   "execution_count": null,
   "id": "e537b7a2-2f50-479d-9d36-db9658d108f9",
   "metadata": {},
   "outputs": [],
   "source": [
    "query = \"INSERT INTO users (id, name, age, street, city, state, zip, lng, lat) VALUES (%s, %s, %s, %s, %s, %s, %s, %s, %s)\"\n",
    "cur = conn.cursor()\n",
    "print(cur.mogrify(query, data_for_db[1]))\n",
    "cur.executemany(query, data_for_db)\n",
    "conn.commit()"
   ]
  },
  {
   "cell_type": "code",
   "execution_count": null,
   "id": "be18049e-85b4-48aa-97f3-f64daf4f8a92",
   "metadata": {},
   "outputs": [],
   "source": [
    "conn.close()"
   ]
  }
 ],
 "metadata": {
  "kernelspec": {
   "display_name": "Python 3 (ipykernel)",
   "language": "python",
   "name": "python3"
  },
  "language_info": {
   "codemirror_mode": {
    "name": "ipython",
    "version": 3
   },
   "file_extension": ".py",
   "mimetype": "text/x-python",
   "name": "python",
   "nbconvert_exporter": "python",
   "pygments_lexer": "ipython3",
   "version": "3.9.10"
  }
 },
 "nbformat": 4,
 "nbformat_minor": 5
}
