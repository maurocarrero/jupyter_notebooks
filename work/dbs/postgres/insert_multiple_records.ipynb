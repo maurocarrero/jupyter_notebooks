{
 "cells": [
  {
   "cell_type": "code",
   "execution_count": 1,
   "id": "b03dbb03-bb24-46ab-9ae0-10d1e8474b74",
   "metadata": {},
   "outputs": [
    {
     "name": "stdout",
     "output_type": "stream",
     "text": [
      "Requirement already satisfied: psycopg2-binary in /opt/conda/lib/python3.9/site-packages (2.9.3)\n",
      "Requirement already satisfied: faker in /opt/conda/lib/python3.9/site-packages (13.6.0)\n",
      "Requirement already satisfied: python-dateutil>=2.4 in /opt/conda/lib/python3.9/site-packages (from faker) (2.8.2)\n",
      "Requirement already satisfied: six>=1.5 in /opt/conda/lib/python3.9/site-packages (from python-dateutil>=2.4->faker) (1.16.0)\n",
      "Note: you may need to restart the kernel to use updated packages.\n"
     ]
    }
   ],
   "source": [
    "pip install --upgrade psycopg2-binary faker"
   ]
  },
  {
   "cell_type": "code",
   "execution_count": 2,
   "id": "c556b849-1c61-48ea-a213-d112416680ad",
   "metadata": {},
   "outputs": [],
   "source": [
    "import psycopg2 as db\n",
    "from faker import Faker"
   ]
  },
  {
   "cell_type": "code",
   "execution_count": 3,
   "id": "04d18e85-86a4-4f54-b29c-821c99c46640",
   "metadata": {},
   "outputs": [],
   "source": [
    "conn = db.connect(\"dbname='tapera' host='host.docker.internal' user='postgres' password='Peteco2022'\")\n",
    "fake = Faker()\n",
    "data = []"
   ]
  },
  {
   "cell_type": "code",
   "execution_count": 4,
   "id": "5a84e0a2-ceae-4c0a-8006-529d7c86d510",
   "metadata": {},
   "outputs": [],
   "source": [
    "for r in range(1000):\n",
    "    data.append((\n",
    "        r,\n",
    "        fake.name(),\n",
    "        fake.random_int(min=1, max=100),\n",
    "        fake.street_address(),\n",
    "        fake.city(),\n",
    "        fake.state(),\n",
    "        fake.zipcode(),\n",
    "        fake.longitude(),\n",
    "        fake.latitude()\n",
    "    ))\n",
    "data_for_db = tuple(data)"
   ]
  },
  {
   "cell_type": "code",
   "execution_count": 5,
   "id": "e537b7a2-2f50-479d-9d36-db9658d108f9",
   "metadata": {},
   "outputs": [
    {
     "name": "stdout",
     "output_type": "stream",
     "text": [
      "b\"INSERT INTO users (id, name, age, street, city, state, zip, lng, lat) VALUES (1, 'Sarah Martinez', 64, '8880 Strong Estate', 'Lewisport', 'Rhode Island', '97960',  -51.470907, 37.1190845)\"\n"
     ]
    }
   ],
   "source": [
    "query = \"INSERT INTO users (id, name, age, street, city, state, zip, lng, lat) VALUES (%s, %s, %s, %s, %s, %s, %s, %s, %s)\"\n",
    "cur = conn.cursor()\n",
    "print(cur.mogrify(query, data_for_db[1]))\n",
    "cur.executemany(query, data_for_db)\n",
    "conn.commit()"
   ]
  },
  {
   "cell_type": "code",
   "execution_count": 6,
   "id": "be18049e-85b4-48aa-97f3-f64daf4f8a92",
   "metadata": {},
   "outputs": [],
   "source": [
    "conn.close()"
   ]
  }
 ],
 "metadata": {
  "kernelspec": {
   "display_name": "Python 3 (ipykernel)",
   "language": "python",
   "name": "python3"
  },
  "language_info": {
   "codemirror_mode": {
    "name": "ipython",
    "version": 3
   },
   "file_extension": ".py",
   "mimetype": "text/x-python",
   "name": "python",
   "nbconvert_exporter": "python",
   "pygments_lexer": "ipython3",
   "version": "3.9.10"
  }
 },
 "nbformat": 4,
 "nbformat_minor": 5
}
