{
 "cells": [
  {
   "cell_type": "code",
   "execution_count": null,
   "id": "7f793c70-946c-4c23-a693-1c48330ae00b",
   "metadata": {},
   "outputs": [],
   "source": [
    "pip install --upgrade pandas psycopg2-binary sqlalchemy"
   ]
  },
  {
   "cell_type": "code",
   "execution_count": null,
   "id": "1c7c68fb-35fc-49c4-98c4-4fd012a99fde",
   "metadata": {},
   "outputs": [],
   "source": [
    "import psycopg2 as db\n",
    "import pandas as pd\n",
    "\n",
    "dbname = %env POSTGRESQL_DB_NAME\n",
    "user = %env POSTGRESQL_USER\n",
    "password = %env POSTGRESQL_PASSWORD\n",
    "host = %env POSTGRESQL_HOST\n",
    "port = %env POSTGRESQL_PORT\n",
    "\n",
    "conn_str = f\"dbname='{dbname}' user='{user}' password='{password}' host='{host}' port={port}\"\n",
    "conn = db.connect(conn_str)\n",
    "df = pd.read_sql(\"SELECT * FROM users\", conn)\n",
    "conn.close()\n",
    "df.head(3)"
   ]
  },
  {
   "cell_type": "code",
   "execution_count": null,
   "id": "5500792f-b2a7-476b-a01a-a471a1a0ffff",
   "metadata": {},
   "outputs": [],
   "source": [
    "# SQLAlchemy connectable(engine/connection)\n",
    "from sqlalchemy import create_engine\n",
    "\n",
    "engine = create_engine(f'postgresql+psycopg2://{user}:{password}@{host}/{dbname}')\n",
    "df = pd.read_sql(\"SELECT * FROM users\", engine)\n",
    "\n",
    "print(df.head(3).to_csv(index=None))\n",
    "print(df.head(3).to_json(orient='records'))"
   ]
  }
 ],
 "metadata": {
  "kernelspec": {
   "display_name": "Python 3 (ipykernel)",
   "language": "python",
   "name": "python3"
  },
  "language_info": {
   "codemirror_mode": {
    "name": "ipython",
    "version": 3
   },
   "file_extension": ".py",
   "mimetype": "text/x-python",
   "name": "python",
   "nbconvert_exporter": "python",
   "pygments_lexer": "ipython3",
   "version": "3.9.10"
  }
 },
 "nbformat": 4,
 "nbformat_minor": 5
}
