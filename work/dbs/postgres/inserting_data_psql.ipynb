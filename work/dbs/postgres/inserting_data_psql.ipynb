{
 "cells": [
  {
   "cell_type": "code",
   "execution_count": 1,
   "id": "37fa4d93-f3b8-42b0-880a-6eff5eb20465",
   "metadata": {},
   "outputs": [
    {
     "name": "stdout",
     "output_type": "stream",
     "text": [
      "Collecting psycopg2-binary\n",
      "  Downloading psycopg2_binary-2.9.3-cp39-cp39-manylinux_2_17_x86_64.manylinux2014_x86_64.whl (3.0 MB)\n",
      "\u001b[2K     \u001b[90m━━━━━━━━━━━━━━━━━━━━━━━━━━━━━━━━━━━━━━━━\u001b[0m \u001b[32m3.0/3.0 MB\u001b[0m \u001b[31m1.5 MB/s\u001b[0m eta \u001b[36m0:00:00\u001b[0m00:01\u001b[0m00:01\u001b[0m0m\n",
      "\u001b[?25hInstalling collected packages: psycopg2-binary\n",
      "Successfully installed psycopg2-binary-2.9.3\n",
      "Note: you may need to restart the kernel to use updated packages.\n"
     ]
    }
   ],
   "source": [
    "pip install psycopg2-binary"
   ]
  },
  {
   "cell_type": "code",
   "execution_count": 2,
   "id": "ac7f2c66-b01e-48a8-814f-fede347f918d",
   "metadata": {},
   "outputs": [],
   "source": [
    "import psycopg2 as db"
   ]
  },
  {
   "cell_type": "code",
   "execution_count": 3,
   "id": "ee470768-ea80-4896-a811-0612a994463d",
   "metadata": {},
   "outputs": [],
   "source": [
    "dbname = %env POSTGRESQL_DB_NAME\n",
    "user = %env POSTGRESQL_USER\n",
    "password = %env POSTGRESQL_PASSWORD\n",
    "host = %env POSTGRESQL_HOST\n",
    "port = %env POSTGRESQL_PORT\n",
    "\n",
    "conn_str = f\"dbname='{dbname}' host='{host}' user='{user}' password='{password}' port={port}\"\n",
    "conn = db.connect(conn_str)\n",
    "cur = conn.cursor()"
   ]
  },
  {
   "cell_type": "code",
   "execution_count": 4,
   "id": "a0f6b9e6-c05a-402a-9393-8a5cc4c6fa6b",
   "metadata": {},
   "outputs": [
    {
     "name": "stdout",
     "output_type": "stream",
     "text": [
      "Result is the same:\n"
     ]
    },
    {
     "ename": "UndefinedTable",
     "evalue": "relation \"users\" does not exist\nLINE 1: INSERT INTO users (name, age, street, city, zip) VALUES ('Ch...\n                    ^\n",
     "output_type": "error",
     "traceback": [
      "\u001b[0;31m---------------------------------------------------------------------------\u001b[0m",
      "\u001b[0;31mUndefinedTable\u001b[0m                            Traceback (most recent call last)",
      "Input \u001b[0;32mIn [4]\u001b[0m, in \u001b[0;36m<cell line: 14>\u001b[0;34m()\u001b[0m\n\u001b[1;32m     12\u001b[0m \u001b[38;5;66;03m# COMMIT QUERY\u001b[39;00m\n\u001b[1;32m     13\u001b[0m cur2 \u001b[38;5;241m=\u001b[39m conn\u001b[38;5;241m.\u001b[39mcursor()\n\u001b[0;32m---> 14\u001b[0m \u001b[43mcur2\u001b[49m\u001b[38;5;241;43m.\u001b[39;49m\u001b[43mexecute\u001b[49m\u001b[43m(\u001b[49m\u001b[43mquery2\u001b[49m\u001b[43m,\u001b[49m\u001b[43m \u001b[49m\u001b[43mdata\u001b[49m\u001b[43m)\u001b[49m\n\u001b[1;32m     15\u001b[0m conn\u001b[38;5;241m.\u001b[39mcommit()\n\u001b[1;32m     17\u001b[0m \u001b[38;5;66;03m# CHECK INSERTED DATA\u001b[39;00m\n",
      "\u001b[0;31mUndefinedTable\u001b[0m: relation \"users\" does not exist\nLINE 1: INSERT INTO users (name, age, street, city, zip) VALUES ('Ch...\n                    ^\n"
     ]
    }
   ],
   "source": [
    "# INSERT DATA - Query 1\n",
    "query1 = \"INSERT INTO users (name, age, street, city, zip) VALUES ('{}', {}, '{}', '{}', '{}')\".format('Chiquirringui Bermúdez', 23, 'Kwai Chang Kane 1229', 'Clarinada', '23342')\n",
    "q1 = cur.mogrify(query1)\n",
    "\n",
    "# INSERT DATA - Query 2\n",
    "query2 = \"INSERT INTO users (name, age, street, city, zip) VALUES (%s, %s, %s, %s, %s)\"\n",
    "data = ('Chiquirringui Bermúdez', 23, 'Kwai Chang Kane 1229', 'Clarinada', '23342')\n",
    "q2 = cur.mogrify(query2, data)\n",
    "\n",
    "if q1 == q2: print('Result is the same:')\n",
    "\n",
    "# COMMIT QUERY\n",
    "cur2 = conn.cursor()\n",
    "cur2.execute(query2, data)\n",
    "conn.commit()\n",
    "\n",
    "# CHECK INSERTED DATA\n",
    "cur2.execute(\"SELECT * FROM users WHERE zip='23342'\")\n",
    "for record in cur2:\n",
    "    print(\"RECORD:\", record)\n",
    "\n",
    "# DELETE INSERTED DATA\n",
    "cur2.execute(\"DELETE FROM users WHERE zip='23342'\")\n",
    "conn.commit()"
   ]
  },
  {
   "cell_type": "code",
   "execution_count": null,
   "id": "122a1ce9-98cb-4a74-98e8-394b9a44a8ef",
   "metadata": {},
   "outputs": [],
   "source": [
    "conn.close()"
   ]
  }
 ],
 "metadata": {
  "kernelspec": {
   "display_name": "Python 3 (ipykernel)",
   "language": "python",
   "name": "python3"
  },
  "language_info": {
   "codemirror_mode": {
    "name": "ipython",
    "version": 3
   },
   "file_extension": ".py",
   "mimetype": "text/x-python",
   "name": "python",
   "nbconvert_exporter": "python",
   "pygments_lexer": "ipython3",
   "version": "3.9.10"
  }
 },
 "nbformat": 4,
 "nbformat_minor": 5
}
