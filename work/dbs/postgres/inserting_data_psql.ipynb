{
 "cells": [
  {
   "cell_type": "code",
   "execution_count": null,
   "id": "37fa4d93-f3b8-42b0-880a-6eff5eb20465",
   "metadata": {},
   "outputs": [],
   "source": [
    "pip install psycopg2-binary"
   ]
  },
  {
   "cell_type": "code",
   "execution_count": null,
   "id": "ac7f2c66-b01e-48a8-814f-fede347f918d",
   "metadata": {},
   "outputs": [],
   "source": [
    "import psycopg2 as db"
   ]
  },
  {
   "cell_type": "code",
   "execution_count": null,
   "id": "ee470768-ea80-4896-a811-0612a994463d",
   "metadata": {},
   "outputs": [],
   "source": [
    "dbname = %env POSTGRESQL_DB_NAME\n",
    "user = %env POSTGRESQL_USER\n",
    "password = %env POSTGRESQL_PASSWORD\n",
    "host = %env POSTGRESQL_HOST\n",
    "port = %env POSTGRESQL_PORT\n",
    "\n",
    "conn_str = f\"dbname='{dbname}' host='{host}' user='{user}' password='{password}' port={port}\"\n",
    "conn = db.connect(conn_str)\n",
    "cur = conn.cursor()"
   ]
  },
  {
   "cell_type": "code",
   "execution_count": null,
   "id": "a0f6b9e6-c05a-402a-9393-8a5cc4c6fa6b",
   "metadata": {},
   "outputs": [],
   "source": [
    "# INSERT DATA - Query 1\n",
    "query1 = \"INSERT INTO users (name, age, street, city, zip) VALUES ('{}', {}, '{}', '{}', '{}')\".format('Chiquirringui Bermúdez', 23, 'Kwai Chang Kane 1229', 'Clarinada', '23342')\n",
    "q1 = cur.mogrify(query1)\n",
    "\n",
    "# INSERT DATA - Query 2\n",
    "query2 = \"INSERT INTO users (name, age, street, city, zip) VALUES (%s, %s, %s, %s, %s)\"\n",
    "data = ('Chiquirringui Bermúdez', 23, 'Kwai Chang Kane 1229', 'Clarinada', '23342')\n",
    "q2 = cur.mogrify(query2, data)\n",
    "\n",
    "if q1 == q2: print('Result is the same:')\n",
    "\n",
    "# COMMIT QUERY\n",
    "cur2 = conn.cursor()\n",
    "cur2.execute(query2, data)\n",
    "conn.commit()\n",
    "\n",
    "# CHECK INSERTED DATA\n",
    "cur2.execute(\"SELECT * FROM users WHERE zip='23342'\")\n",
    "for record in cur2:\n",
    "    print(\"RECORD:\", record)\n",
    "\n",
    "# DELETE INSERTED DATA\n",
    "cur2.execute(\"DELETE FROM users WHERE zip='23342'\")\n",
    "conn.commit()"
   ]
  },
  {
   "cell_type": "code",
   "execution_count": null,
   "id": "122a1ce9-98cb-4a74-98e8-394b9a44a8ef",
   "metadata": {},
   "outputs": [],
   "source": [
    "conn.close()"
   ]
  }
 ],
 "metadata": {
  "kernelspec": {
   "display_name": "Python 3 (ipykernel)",
   "language": "python",
   "name": "python3"
  },
  "language_info": {
   "codemirror_mode": {
    "name": "ipython",
    "version": 3
   },
   "file_extension": ".py",
   "mimetype": "text/x-python",
   "name": "python",
   "nbconvert_exporter": "python",
   "pygments_lexer": "ipython3",
   "version": "3.9.10"
  }
 },
 "nbformat": 4,
 "nbformat_minor": 5
}
