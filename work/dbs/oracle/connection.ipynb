{
 "cells": [
  {
   "cell_type": "code",
   "execution_count": null,
   "id": "db9ab9ef-27dd-4c16-8675-ffad841355d4",
   "metadata": {},
   "outputs": [],
   "source": [
    "pip install cx_Oracle --upgrade --user"
   ]
  },
  {
   "cell_type": "code",
   "execution_count": null,
   "id": "1aa3ce37-942c-466b-9eb1-b70311676d4a",
   "metadata": {},
   "outputs": [],
   "source": [
    "import os\n",
    "import cx_Oracle\n",
    "\n",
    "cx_Oracle.init_oracle_client(lib_dir=\"/opt/oracle/instantclient_21_5\")\n",
    "\n",
    "connection = cx_Oracle.connect(\n",
    "    user=\"tasgen_func_01\",\n",
    "    password=\"tasgenavif\",\n",
    "    dsn=\"localhost:1521/avif12\")\n",
    "\n",
    "print(\"Successfully connected to Oracle Database\")"
   ]
  }
 ],
 "metadata": {
  "kernelspec": {
   "display_name": "Python 3 (ipykernel)",
   "language": "python",
   "name": "python3"
  },
  "language_info": {
   "codemirror_mode": {
    "name": "ipython",
    "version": 3
   },
   "file_extension": ".py",
   "mimetype": "text/x-python",
   "name": "python",
   "nbconvert_exporter": "python",
   "pygments_lexer": "ipython3",
   "version": "3.9.10"
  }
 },
 "nbformat": 4,
 "nbformat_minor": 5
}
