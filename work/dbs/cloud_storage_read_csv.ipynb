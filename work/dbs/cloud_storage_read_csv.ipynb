{
 "cells": [
  {
   "cell_type": "code",
   "execution_count": null,
   "id": "0781d21f-bd14-402a-a2a9-f96229105551",
   "metadata": {},
   "outputs": [],
   "source": [
    "pip install --upgrade google-cloud-storage"
   ]
  },
  {
   "cell_type": "code",
   "execution_count": null,
   "id": "06fd3267-20a7-467e-9030-e70335d75f17",
   "metadata": {},
   "outputs": [],
   "source": [
    "from google.cloud import storage\n",
    "\n",
    "storage_client = storage.Client()\n",
    "\n",
    "bucket_name = %env CLOUD_BUCKET\n",
    "\n",
    "bucket = storage_client.bucket(\"cloudy-tapera-invisible\")\n",
    "\n",
    "file = \"actos_vacunales.csv\"\n",
    "\n",
    "print(file)\n",
    "\n",
    "blob = bucket.blob(file)"
   ]
  },
  {
   "cell_type": "code",
   "execution_count": null,
   "id": "3311e352-399e-4675-8699-83f013c43d55",
   "metadata": {},
   "outputs": [],
   "source": [
    "blob.download_as_string()"
   ]
  }
 ],
 "metadata": {
  "kernelspec": {
   "display_name": "Python 3 (ipykernel)",
   "language": "python",
   "name": "python3"
  },
  "language_info": {
   "codemirror_mode": {
    "name": "ipython",
    "version": 3
   },
   "file_extension": ".py",
   "mimetype": "text/x-python",
   "name": "python",
   "nbconvert_exporter": "python",
   "pygments_lexer": "ipython3",
   "version": "3.9.10"
  }
 },
 "nbformat": 4,
 "nbformat_minor": 5
}
