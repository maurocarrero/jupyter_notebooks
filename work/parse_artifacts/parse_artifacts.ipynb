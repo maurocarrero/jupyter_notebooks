{
 "cells": [
  {
   "cell_type": "code",
   "execution_count": null,
   "id": "626ccd93-5d87-4f50-b5cc-9131387b2336",
   "metadata": {},
   "outputs": [],
   "source": [
    "pip install --upgrade pandas"
   ]
  },
  {
   "cell_type": "code",
   "execution_count": null,
   "id": "6d5697f7-8030-4e10-99d1-2bef6518046c",
   "metadata": {},
   "outputs": [],
   "source": [
    "import pandas as pd\n",
    "import re\n",
    "\n",
    "def parse_artifact_url(url):\n",
    "    parts = re.split('/', url)\n",
    "    parts.pop()\n",
    "    blacklist = ['- https:', '', 'repository.sabre-gcp.com', 'repository', 'maven-all']\n",
    "    whitelist = [part for part in parts if part not in blacklist]\n",
    "    version = whitelist.pop()\n",
    "    name = whitelist.pop()\n",
    "    group_id = '.'.join(whitelist)\n",
    "    return [group_id, name, version]\n",
    "\n",
    "def get_df(csv_file):\n",
    "    return pd.read_csv(csv_file, sep=',', header=None)"
   ]
  },
  {
   "cell_type": "code",
   "execution_count": null,
   "id": "01c80d5c-c7c3-429e-a5fe-ce3ad092a154",
   "metadata": {},
   "outputs": [],
   "source": [
    "artifacts_csv = '../data/pending_artifacts.csv'\n",
    "df = get_df(artifacts_csv)"
   ]
  },
  {
   "cell_type": "code",
   "execution_count": null,
   "id": "77cdad59-719b-4c37-a060-0ff6e3de087b",
   "metadata": {},
   "outputs": [],
   "source": [
    "df.columns"
   ]
  },
  {
   "cell_type": "code",
   "execution_count": null,
   "id": "88e23d91-e203-4aab-95dc-1e8752ec31ff",
   "metadata": {},
   "outputs": [],
   "source": [
    "artifact_url = df.at[0,0]\n",
    "result = parse_artifact_url(artifact_url)\n",
    "result"
   ]
  },
  {
   "cell_type": "code",
   "execution_count": null,
   "id": "31820411-2b91-449b-a97d-6bc3e072ed71",
   "metadata": {},
   "outputs": [],
   "source": [
    "artifacts = df.apply(lambda row: parse_artifact_url(row[0]), axis=1)\n",
    "artifacts"
   ]
  },
  {
   "cell_type": "code",
   "execution_count": null,
   "id": "1f708d76-4102-4fed-be2f-34f3aadc8701",
   "metadata": {},
   "outputs": [],
   "source": [
    "columns = ['group_id', 'name', 'version']\n",
    "newdf = pd.DataFrame(artifacts.tolist(), columns=columns)\n",
    "newdf"
   ]
  },
  {
   "cell_type": "code",
   "execution_count": null,
   "id": "6756ba90-35dd-4a9c-a5a9-7ba71b939bd2",
   "metadata": {},
   "outputs": [],
   "source": [
    "parsed_csv_file = '../data/pending_artifacts_parsed.csv'\n",
    "newdf.to_csv(parsed_csv_file, index=False)"
   ]
  }
 ],
 "metadata": {
  "kernelspec": {
   "display_name": "Python 3 (ipykernel)",
   "language": "python",
   "name": "python3"
  },
  "language_info": {
   "codemirror_mode": {
    "name": "ipython",
    "version": 3
   },
   "file_extension": ".py",
   "mimetype": "text/x-python",
   "name": "python",
   "nbconvert_exporter": "python",
   "pygments_lexer": "ipython3",
   "version": "3.9.10"
  }
 },
 "nbformat": 4,
 "nbformat_minor": 5
}
