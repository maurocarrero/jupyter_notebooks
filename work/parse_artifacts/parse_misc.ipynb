{
 "cells": [
  {
   "cell_type": "code",
   "execution_count": null,
   "id": "1465ca74-d8e0-4742-8a61-8bbb09b15f91",
   "metadata": {},
   "outputs": [],
   "source": [
    "import pandas as pd"
   ]
  },
  {
   "cell_type": "code",
   "execution_count": null,
   "id": "fce29747-132b-4c89-a7ce-9e02cc1e916e",
   "metadata": {},
   "outputs": [],
   "source": [
    "df = pd.read_csv('../data/artifacts_raw.csv', sep=' ', header=None)"
   ]
  },
  {
   "cell_type": "code",
   "execution_count": null,
   "id": "c4d03717-da4b-47af-95b3-a650560a8757",
   "metadata": {},
   "outputs": [],
   "source": [
    "df"
   ]
  },
  {
   "cell_type": "code",
   "execution_count": null,
   "id": "70388c43-3792-443b-9703-97201b30ea68",
   "metadata": {},
   "outputs": [],
   "source": [
    "df2 = df[8].str.split('/', 0, expand=True)\n",
    "df2"
   ]
  },
  {
   "cell_type": "code",
   "execution_count": null,
   "id": "a4ce70d6-b3b1-432b-ac4b-56ad2113801d",
   "metadata": {},
   "outputs": [],
   "source": [
    "artifacts = df2[[10,11]].iloc[1::2]\n",
    "artifacts.columns = ['name', 'version']\n",
    "artifacts.head()"
   ]
  },
  {
   "cell_type": "code",
   "execution_count": null,
   "id": "e0c28860-cae6-4078-a526-87d8610b9347",
   "metadata": {},
   "outputs": [],
   "source": [
    "artifacts.to_csv('../data/artifacts_parsed.csv', index=False)"
   ]
  }
 ],
 "metadata": {
  "kernelspec": {
   "display_name": "Python 3 (ipykernel)",
   "language": "python",
   "name": "python3"
  },
  "language_info": {
   "codemirror_mode": {
    "name": "ipython",
    "version": 3
   },
   "file_extension": ".py",
   "mimetype": "text/x-python",
   "name": "python",
   "nbconvert_exporter": "python",
   "pygments_lexer": "ipython3",
   "version": "3.9.10"
  }
 },
 "nbformat": 4,
 "nbformat_minor": 5
}
