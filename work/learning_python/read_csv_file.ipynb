{
 "cells": [
  {
   "cell_type": "code",
   "execution_count": null,
   "id": "5cc6c3f9-6b05-4f12-abb1-4a5794b36965",
   "metadata": {},
   "outputs": [],
   "source": [
    "pip install --upgrade faker"
   ]
  },
  {
   "cell_type": "code",
   "execution_count": null,
   "id": "bf362fb4-87fa-4612-a37b-8ee9d9a98bb2",
   "metadata": {},
   "outputs": [],
   "source": [
    "from faker import Faker\n",
    "import csv\n",
    "import os"
   ]
  },
  {
   "cell_type": "code",
   "execution_count": null,
   "id": "7f47f6c8-632c-4f33-a9d0-4804bbc86c89",
   "metadata": {},
   "outputs": [],
   "source": [
    "fake = Faker()\n",
    "AUX_DATA_FILE = f'../data/data--{fake.random_int(min=9999,max=99999,step=1)}'\n",
    "\n",
    "with open(AUX_DATA_FILE, 'w') as output:\n",
    "    writer = csv.writer(output)\n",
    "    \n",
    "    header = ['name','age','address','city','state','zip','lng','lat']\n",
    "    writer.writerow(header)\n",
    "    \n",
    "    for i in range(1000):\n",
    "        writer.writerow([\n",
    "            fake.name(),\n",
    "            fake.random_int(min=18,max=90,step=1),\n",
    "            fake.street_address(),\n",
    "            fake.city(),\n",
    "            fake.state(),\n",
    "            fake.zipcode(),\n",
    "            fake.longitude(),\n",
    "            fake.latitude()\n",
    "        ])\n",
    "    \n",
    "    output.close()"
   ]
  },
  {
   "cell_type": "code",
   "execution_count": null,
   "id": "66c8ae04-63fd-4530-b345-600d57a6a3a6",
   "metadata": {},
   "outputs": [],
   "source": [
    "with open(AUX_DATA_FILE, mode='r') as data_file:\n",
    "    reader = csv.DictReader(data_file)\n",
    "    res = []\n",
    "    for row in reader:\n",
    "        res.append(row['name'])\n",
    "    print(res)"
   ]
  },
  {
   "cell_type": "code",
   "execution_count": null,
   "id": "7b9b818c-4372-4469-8695-688dfab2d9cf",
   "metadata": {},
   "outputs": [],
   "source": [
    "os.remove(AUX_DATA_FILE)"
   ]
  }
 ],
 "metadata": {
  "kernelspec": {
   "display_name": "Python 3 (ipykernel)",
   "language": "python",
   "name": "python3"
  },
  "language_info": {
   "codemirror_mode": {
    "name": "ipython",
    "version": 3
   },
   "file_extension": ".py",
   "mimetype": "text/x-python",
   "name": "python",
   "nbconvert_exporter": "python",
   "pygments_lexer": "ipython3",
   "version": "3.9.10"
  }
 },
 "nbformat": 4,
 "nbformat_minor": 5
}
