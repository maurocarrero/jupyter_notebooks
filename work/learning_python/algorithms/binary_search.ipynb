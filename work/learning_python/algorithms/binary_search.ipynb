{
 "cells": [
  {
   "cell_type": "code",
   "execution_count": null,
   "id": "aa95aec5-d4e3-4bb6-a9c0-9ab9ab537c4a",
   "metadata": {},
   "outputs": [],
   "source": [
    "def calculate_mid(low, high):\n",
    "    return (low + high) // 2"
   ]
  },
  {
   "cell_type": "code",
   "execution_count": null,
   "id": "c5ea6379-a2eb-4d57-97ed-9b490130a44d",
   "metadata": {},
   "outputs": [],
   "source": [
    "sorted_list = [x * x for x in range(1000)]"
   ]
  },
  {
   "cell_type": "code",
   "execution_count": null,
   "id": "db7999ca-4fe7-472a-8d26-98b04800e095",
   "metadata": {},
   "outputs": [],
   "source": [
    "###\n",
    "# SIMPLE SEARCH\n",
    "# O(n): linear time\n",
    "###\n",
    "def simple_search(sorted_list, item):\n",
    "    pos = 0\n",
    "    length = len(sorted_list)\n",
    "    high = length - 1\n",
    "    step = 1\n",
    "    \n",
    "    print(f\"\"\"----------------------------------------\n",
    "    SIMPLE SEARCH\n",
    "    1) Sorted list length: {length}\n",
    "    2) Item to find: {item}\"\"\")\n",
    "\n",
    "    while pos <= high:\n",
    "        guess = sorted_list[pos]\n",
    "        if guess == item:\n",
    "            print(f\"Success. Steps: {step}\")\n",
    "            return guess\n",
    "        pos += 1\n",
    "        step += 1\n",
    "\n",
    "        \n",
    "    print(f\"No luck. Steps: {step}\")\n",
    "    return None"
   ]
  },
  {
   "cell_type": "code",
   "execution_count": null,
   "id": "d6b23b85-b090-4f92-8ce6-d647a5de0149",
   "metadata": {},
   "outputs": [],
   "source": [
    "###\n",
    "# BINARY SEARCH\n",
    "# Logarithmic (Log) time\n",
    "# O(log n): \n",
    "###\n",
    "def binary_search(sorted_list, item):\n",
    "    low = 0\n",
    "    length = len(sorted_list)\n",
    "    high = length - 1\n",
    "    step = 1\n",
    "    \n",
    "    print(f\"\"\"----------------------------------------\n",
    "    BINARY SEARCH\n",
    "    1) Sorted list length: {length}\n",
    "    2) Item to find: {item}\"\"\")\n",
    "\n",
    "    while low <= high:\n",
    "        mid = calculate_mid(low, high)\n",
    "        guess = sorted_list[mid]\n",
    "        print(f\"Step {step} -- Low: {low}, High: {high}, Mid: {mid}, Guess: {guess}\")\n",
    "        if guess == item:\n",
    "            print(f\"Success. Steps: {step}\")\n",
    "            return guess\n",
    "        if guess < item:\n",
    "            low = mid + 1\n",
    "        elif guess > item:\n",
    "            high = mid - 1\n",
    "        step += 1\n",
    "\n",
    "        \n",
    "    print(f\"No luck. Steps: {step}\")\n",
    "    return None"
   ]
  },
  {
   "cell_type": "code",
   "execution_count": null,
   "id": "859decbc-0792-409d-ab31-d8ff01da5e64",
   "metadata": {},
   "outputs": [],
   "source": [
    "simple_search(sorted_list, 294849)\n",
    "binary_search(sorted_list, 294849)"
   ]
  },
  {
   "cell_type": "code",
   "execution_count": null,
   "id": "05d4815c-9d57-4d14-a853-9ba99719c22a",
   "metadata": {},
   "outputs": [],
   "source": [
    "odd_10 = [x + 2 for x in range(10)]\n",
    "binary_search(odd_10, 14)\n",
    "binary_search(odd_10, 9)\n",
    "binary_search(odd_10, 6)"
   ]
  },
  {
   "cell_type": "code",
   "execution_count": 7,
   "id": "e5e8d710-d22d-40b8-a379-cc336356fe68",
   "metadata": {},
   "outputs": [
    {
     "data": {
      "text/plain": [
       "720"
      ]
     },
     "execution_count": 7,
     "metadata": {},
     "output_type": "execute_result"
    }
   ],
   "source": [
    "import math\n",
    "\n",
    "math.factorial(6)"
   ]
  }
 ],
 "metadata": {
  "kernelspec": {
   "display_name": "Python 3 (ipykernel)",
   "language": "python",
   "name": "python3"
  },
  "language_info": {
   "codemirror_mode": {
    "name": "ipython",
    "version": 3
   },
   "file_extension": ".py",
   "mimetype": "text/x-python",
   "name": "python",
   "nbconvert_exporter": "python",
   "pygments_lexer": "ipython3",
   "version": "3.9.10"
  }
 },
 "nbformat": 4,
 "nbformat_minor": 5
}
