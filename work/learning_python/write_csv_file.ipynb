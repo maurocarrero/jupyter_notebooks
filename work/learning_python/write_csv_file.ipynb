{
 "cells": [
  {
   "cell_type": "code",
   "execution_count": 1,
   "id": "e03c2a9e-b023-4d4b-8871-18f47d1193f6",
   "metadata": {},
   "outputs": [
    {
     "name": "stdout",
     "output_type": "stream",
     "text": [
      "Requirement already satisfied: faker in /opt/conda/lib/python3.9/site-packages (13.3.4)\n",
      "Requirement already satisfied: python-dateutil>=2.4 in /opt/conda/lib/python3.9/site-packages (from faker) (2.8.2)\n",
      "Requirement already satisfied: six>=1.5 in /opt/conda/lib/python3.9/site-packages (from python-dateutil>=2.4->faker) (1.16.0)\n",
      "Note: you may need to restart the kernel to use updated packages.\n"
     ]
    }
   ],
   "source": [
    "pip install faker"
   ]
  },
  {
   "cell_type": "code",
   "execution_count": 2,
   "id": "2a01322f-a977-4c53-9466-2d0ae98b084f",
   "metadata": {},
   "outputs": [],
   "source": [
    "import csv\n",
    "\n",
    "from faker import Faker\n",
    "\n",
    "with open(\"../data/test.csv\", mode='w') as output:\n",
    "    # Get writer\n",
    "    writer = csv.writer(output)\n",
    "    \n",
    "    # Set header\n",
    "    header = ['name', 'age']\n",
    "    writer.writerow(header)\n",
    "    \n",
    "    # Write rows\n",
    "    fake = Faker()\n",
    "    for i in range(20):\n",
    "        writer.writerow([fake.name(), fake.color()])\n",
    "\n",
    "    output.close()"
   ]
  },
  {
   "cell_type": "code",
   "execution_count": 3,
   "id": "c8e50860-a006-45dd-9b62-2877ea8e074d",
   "metadata": {},
   "outputs": [
    {
     "name": "stdout",
     "output_type": "stream",
     "text": [
      "Jared Doyle\n",
      "John Smith\n",
      "Nicholas Hamilton\n",
      "Megan Garcia\n",
      "Christopher Mayo\n",
      "Jay Maddox\n",
      "Elizabeth Moreno\n",
      "Samantha Lopez\n",
      "Lynn Sanders\n",
      "Tamara Garcia\n",
      "Andrew Taylor\n",
      "Nichole Thompson\n",
      "Sara Shannon\n",
      "Eddie Zamora\n",
      "Jeffrey Simpson\n",
      "Eileen Hansen\n",
      "William Hooper\n",
      "Logan Trujillo\n",
      "Mariah Wells\n",
      "John Dillon\n"
     ]
    }
   ],
   "source": [
    "with open(\"../data/test.csv\", mode='r') as csv_file:\n",
    "    # Get reader\n",
    "    reader = csv.DictReader(csv_file)\n",
    "    for row in reader:\n",
    "        print(row['name'])\n",
    "    csv_file.close()"
   ]
  },
  {
   "cell_type": "code",
   "execution_count": 4,
   "id": "ac02dda4-a27d-4522-80c9-c83c31cd84dd",
   "metadata": {},
   "outputs": [],
   "source": [
    "rm \"../data/test.csv\""
   ]
  }
 ],
 "metadata": {
  "kernelspec": {
   "display_name": "Python 3 (ipykernel)",
   "language": "python",
   "name": "python3"
  },
  "language_info": {
   "codemirror_mode": {
    "name": "ipython",
    "version": 3
   },
   "file_extension": ".py",
   "mimetype": "text/x-python",
   "name": "python",
   "nbconvert_exporter": "python",
   "pygments_lexer": "ipython3",
   "version": "3.9.10"
  }
 },
 "nbformat": 4,
 "nbformat_minor": 5
}
