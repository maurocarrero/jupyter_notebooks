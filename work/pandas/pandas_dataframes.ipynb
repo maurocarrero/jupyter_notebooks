{
 "cells": [
  {
   "cell_type": "code",
   "execution_count": null,
   "id": "1818e00f",
   "metadata": {},
   "outputs": [],
   "source": [
    "pip install pandas"
   ]
  },
  {
   "cell_type": "code",
   "execution_count": null,
   "id": "c847088b",
   "metadata": {},
   "outputs": [],
   "source": [
    "import pandas as pd"
   ]
  },
  {
   "cell_type": "code",
   "execution_count": null,
   "id": "e36b5f6f",
   "metadata": {},
   "outputs": [],
   "source": [
    "df = pd.read_csv(\"../data/actos_vacunales.csv\", sep=\";\")"
   ]
  },
  {
   "cell_type": "code",
   "execution_count": null,
   "id": "48e97fb3",
   "metadata": {},
   "outputs": [],
   "source": [
    "df.columns"
   ]
  },
  {
   "cell_type": "code",
   "execution_count": null,
   "id": "5ef2c505",
   "metadata": {},
   "outputs": [],
   "source": [
    "df[[\"Fecha\", \"Montevideo Dosis 1\", \"Montevideo Dosis 2\", \"Montevideo Dosis R\", \"Rango 45-54 Dosis 1\"]].head()"
   ]
  },
  {
   "cell_type": "code",
   "execution_count": null,
   "id": "b4bde119",
   "metadata": {},
   "outputs": [],
   "source": [
    "df.dtypes"
   ]
  },
  {
   "cell_type": "code",
   "execution_count": null,
   "id": "e655f087",
   "metadata": {},
   "outputs": [],
   "source": [
    "df.dtypes[\"Departamento Sin Datos\"]"
   ]
  },
  {
   "cell_type": "code",
   "execution_count": null,
   "id": "0d713868",
   "metadata": {},
   "outputs": [],
   "source": []
  }
 ],
 "metadata": {
  "interpreter": {
   "hash": "9f2f4800c7ad192d932d23579e35526ed7ad47127090a83a548907921b6178e0"
  },
  "kernelspec": {
   "display_name": "Python 3",
   "language": "python",
   "name": "python3"
  },
  "language_info": {
   "codemirror_mode": {
    "name": "ipython",
    "version": 3
   },
   "file_extension": ".py",
   "mimetype": "text/x-python",
   "name": "python",
   "nbconvert_exporter": "python",
   "pygments_lexer": "ipython3",
   "version": "3.7.9"
  }
 },
 "nbformat": 4,
 "nbformat_minor": 5
}
