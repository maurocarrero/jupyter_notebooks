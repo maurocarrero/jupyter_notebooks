{
 "cells": [
  {
   "cell_type": "code",
   "execution_count": null,
   "id": "eb0c719e-d771-4e87-8008-ac42058a0ab0",
   "metadata": {},
   "outputs": [],
   "source": [
    "pip install pandas"
   ]
  },
  {
   "cell_type": "code",
   "execution_count": null,
   "id": "de5e23cd-9184-44aa-b6ea-764fd20f79c0",
   "metadata": {},
   "outputs": [],
   "source": [
    "import pandas as pd\n",
    "import json\n",
    "from IPython.display import JSON"
   ]
  },
  {
   "cell_type": "code",
   "execution_count": null,
   "id": "526a1526-2aac-4eba-96fa-4f2b5034e773",
   "metadata": {},
   "outputs": [],
   "source": [
    "df = pd.read_json('../data/data.json')\n",
    "df.head(3)"
   ]
  },
  {
   "cell_type": "code",
   "execution_count": null,
   "id": "d75c25dc-9f71-4649-b607-68568f78d11d",
   "metadata": {},
   "outputs": [],
   "source": [
    "f = open('../data/data.json', mode='r')\n",
    "data = json.load(f)\n",
    "# Create dataframe after normalizing JSON data\n",
    "df = pd.json_normalize(data, record_path='records')\n",
    "df.head()"
   ]
  },
  {
   "cell_type": "code",
   "execution_count": null,
   "id": "e132933e-a71c-481d-b9b4-cebcd29f6d5e",
   "metadata": {},
   "outputs": [],
   "source": [
    "# Columnar orientation\n",
    "df.head(2).to_json()"
   ]
  },
  {
   "cell_type": "code",
   "execution_count": null,
   "id": "1196a7a0-024d-4311-8a93-b12b82c86b9e",
   "metadata": {},
   "outputs": [],
   "source": [
    "# Tabular orientation (records)\n",
    "df.head(2).to_json(orient='records')"
   ]
  }
 ],
 "metadata": {
  "kernelspec": {
   "display_name": "Python 3 (ipykernel)",
   "language": "python",
   "name": "python3"
  },
  "language_info": {
   "codemirror_mode": {
    "name": "ipython",
    "version": 3
   },
   "file_extension": ".py",
   "mimetype": "text/x-python",
   "name": "python",
   "nbconvert_exporter": "python",
   "pygments_lexer": "ipython3",
   "version": "3.9.10"
  }
 },
 "nbformat": 4,
 "nbformat_minor": 5
}
