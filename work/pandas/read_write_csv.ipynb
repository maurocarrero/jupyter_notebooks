{
 "cells": [
  {
   "cell_type": "markdown",
   "id": "3fbcb593-e493-4f99-b409-c2407f4a24db",
   "metadata": {},
   "source": [
    "# Read and Write CSV with Pandas"
   ]
  },
  {
   "cell_type": "code",
   "execution_count": null,
   "id": "ebb84d15-d3dd-4be0-aa77-1585a07cf06b",
   "metadata": {},
   "outputs": [],
   "source": [
    "import pandas as pd"
   ]
  },
  {
   "cell_type": "code",
   "execution_count": null,
   "id": "ffc55d80-1744-4bb7-9e3c-79141b6ada8c",
   "metadata": {},
   "outputs": [],
   "source": [
    "df = pd.read_csv('../data/data.csv')\n",
    "\n",
    "df.head(7)"
   ]
  },
  {
   "cell_type": "markdown",
   "id": "feefba1c-59fe-4622-970c-86c540b36e4e",
   "metadata": {},
   "source": [
    "## Create a Dictionary (list of key:value pairs) data structure:"
   ]
  },
  {
   "cell_type": "code",
   "execution_count": null,
   "id": "13643ea9-b983-4a60-afba-26905a6f8116",
   "metadata": {},
   "outputs": [],
   "source": [
    "data = {\n",
    "    'Name': ['Marcelo','Virginia','Erika','Nelson'],\n",
    "    'Age': [23,45,65,71]\n",
    "}\n",
    "df_b = pd.DataFrame(data)\n",
    "df_b.head()"
   ]
  }
 ],
 "metadata": {
  "kernelspec": {
   "display_name": "Python 3 (ipykernel)",
   "language": "python",
   "name": "python3"
  },
  "language_info": {
   "codemirror_mode": {
    "name": "ipython",
    "version": 3
   },
   "file_extension": ".py",
   "mimetype": "text/x-python",
   "name": "python",
   "nbconvert_exporter": "python",
   "pygments_lexer": "ipython3",
   "version": "3.9.10"
  }
 },
 "nbformat": 4,
 "nbformat_minor": 5
}
