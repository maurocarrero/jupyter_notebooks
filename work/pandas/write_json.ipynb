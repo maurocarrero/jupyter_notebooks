{
 "cells": [
  {
   "cell_type": "code",
   "execution_count": null,
   "id": "c301ec62-a3e6-4af1-ad1a-06ba810257e4",
   "metadata": {},
   "outputs": [],
   "source": [
    "pip install faker"
   ]
  },
  {
   "cell_type": "code",
   "execution_count": null,
   "id": "9dfa94d7-0e38-4551-9726-9490c47464d5",
   "metadata": {},
   "outputs": [],
   "source": [
    "from faker import Faker\n",
    "import json"
   ]
  },
  {
   "cell_type": "code",
   "execution_count": null,
   "id": "b6a0bee5-0e5b-43d9-9899-8f558b15df82",
   "metadata": {},
   "outputs": [],
   "source": [
    "with open('../data/data.json', mode='w') as output:\n",
    "    fake = Faker()\n",
    "    \n",
    "    all_data = {}\n",
    "    all_data['records'] = []\n",
    "    \n",
    "    for x in range(5000):\n",
    "        data = {\n",
    "            'name': fake.name(),\n",
    "            'age': fake.random_int(min=18,max=90,step=1),\n",
    "            'street': fake.street_address(),\n",
    "            'city': fake.city(),\n",
    "            'state': fake.state(),\n",
    "            'zip': fake.zipcode(),\n",
    "            'lng': float(fake.longitude()),\n",
    "            'lat': float(fake.latitude())\n",
    "        }\n",
    "        all_data['records'].append(data)\n",
    "    \n",
    "    json.dump(all_data, output)\n",
    "    \n",
    "    output.close()"
   ]
  },
  {
   "cell_type": "code",
   "execution_count": null,
   "id": "803fb657-2d39-43e6-bd06-33400da05003",
   "metadata": {},
   "outputs": [],
   "source": [
    "with open('../data/data.json', mode='r') as json_file:\n",
    "    data = json.load(json_file)\n",
    "    print(data['records'][456])\n",
    "    print(data['records'][1567]['name'])\n",
    "    json_file.close()"
   ]
  }
 ],
 "metadata": {
  "kernelspec": {
   "display_name": "Python 3 (ipykernel)",
   "language": "python",
   "name": "python3"
  },
  "language_info": {
   "codemirror_mode": {
    "name": "ipython",
    "version": 3
   },
   "file_extension": ".py",
   "mimetype": "text/x-python",
   "name": "python",
   "nbconvert_exporter": "python",
   "pygments_lexer": "ipython3",
   "version": "3.9.10"
  }
 },
 "nbformat": 4,
 "nbformat_minor": 5
}
