{
 "cells": [
  {
   "cell_type": "markdown",
   "id": "5f11fcd1-6e4d-4200-a2e9-095e3b7e5082",
   "metadata": {
    "tags": []
   },
   "source": [
    "# Ultraquick Tutorial\n",
    "[numpy_ultraquick_tutorial](https://colab.research.google.com/github/google/eng-edu/blob/main/ml/cc/exercises/numpy_ultraquick_tutorial.ipynb?utm_source=mlcc&utm_campaign=colab-external&utm_medium=referral&utm_content=numpy_tf2-colab&hl=en#scrollTo=tYjvXmvFPoPB)"
   ]
  },
  {
   "cell_type": "code",
   "execution_count": null,
   "id": "d0f71a4d-1c7f-4162-8454-ffc538023d1c",
   "metadata": {},
   "outputs": [],
   "source": [
    "import numpy as np"
   ]
  },
  {
   "cell_type": "code",
   "execution_count": null,
   "id": "568e6fba-13ac-48de-9926-018d024326f0",
   "metadata": {},
   "outputs": [],
   "source": [
    "one_dimensional_array = np.array([1.2, 2.4, 3.5, 4.7, 6.1, 7.2, 8.3, 9.5])\n",
    "print(one_dimensional_array)"
   ]
  },
  {
   "cell_type": "code",
   "execution_count": null,
   "id": "bb7f5815-866c-4034-b415-e402ba4051d7",
   "metadata": {},
   "outputs": [],
   "source": [
    "two_dimensional_array = np.array([[6, 5], [11, 7], [4, 8]])\n",
    "print(two_dimensional_array)"
   ]
  },
  {
   "cell_type": "code",
   "execution_count": null,
   "id": "64e3092d-c856-46fb-9f48-442e2f7258bb",
   "metadata": {},
   "outputs": [],
   "source": [
    "sequence_of_integers = np.arange(5, 12)\n",
    "print(sequence_of_integers)"
   ]
  },
  {
   "cell_type": "code",
   "execution_count": null,
   "id": "f37c192f-388f-4f55-93b2-752d07754fe9",
   "metadata": {},
   "outputs": [],
   "source": [
    "random_integers_between_50_and_100 = np.random.randint(low=50,high=101,size=7)\n",
    "print(random_integers_between_50_and_100)"
   ]
  },
  {
   "cell_type": "code",
   "execution_count": null,
   "id": "6191cc66-14dd-40bb-82b8-affb21f0d196",
   "metadata": {},
   "outputs": [],
   "source": [
    "random_floats_between_0_and_1 = np.random.random([6])\n",
    "print(random_floats_between_0_and_1)"
   ]
  },
  {
   "cell_type": "code",
   "execution_count": null,
   "id": "817e7900-fc38-4390-b88d-54849c46c09f",
   "metadata": {},
   "outputs": [],
   "source": [
    "random_floats_between_2_and_3 = random_floats_between_0_and_1 + 2.0\n",
    "print(random_floats_between_2_and_3)"
   ]
  },
  {
   "cell_type": "code",
   "execution_count": null,
   "id": "d17dd5c1-99da-4213-8e79-388c0b701bf0",
   "metadata": {},
   "outputs": [],
   "source": [
    "random_integers_between_150_and_300 = random_integers_between_50_and_100 * 3\n",
    "print(random_integers_between_150_and_300)"
   ]
  },
  {
   "cell_type": "markdown",
   "id": "a7d1a749-92fd-4f67-a7d4-be1281031979",
   "metadata": {},
   "source": [
    "## Create a linear dataset"
   ]
  },
  {
   "cell_type": "code",
   "execution_count": null,
   "id": "e38a2efd-bffe-48ed-8f0a-82cb9ad1f082",
   "metadata": {},
   "outputs": [],
   "source": [
    "feature = np.arange(6, 21)\n",
    "print(feature)"
   ]
  },
  {
   "cell_type": "code",
   "execution_count": null,
   "id": "b50eea0b-8f94-479c-b25a-461e5e22f8fa",
   "metadata": {},
   "outputs": [],
   "source": [
    "label = (3 * feature) + 4\n",
    "print(label)"
   ]
  },
  {
   "cell_type": "code",
   "execution_count": null,
   "id": "1efb2578-0a00-4183-a4b9-d32b0fff5a48",
   "metadata": {},
   "outputs": [],
   "source": [
    "noise = (np.random.random([15]) * 4) - 2 # Float between -2 and 2\n",
    "print(noise)"
   ]
  },
  {
   "cell_type": "code",
   "execution_count": null,
   "id": "91553213-8ea4-4493-ad80-1f7d74d71198",
   "metadata": {},
   "outputs": [],
   "source": [
    "label = label + noise # add some noise to the label\n",
    "print(label)"
   ]
  }
 ],
 "metadata": {
  "kernelspec": {
   "display_name": "Python 3 (ipykernel)",
   "language": "python",
   "name": "python3"
  },
  "language_info": {
   "codemirror_mode": {
    "name": "ipython",
    "version": 3
   },
   "file_extension": ".py",
   "mimetype": "text/x-python",
   "name": "python",
   "nbconvert_exporter": "python",
   "pygments_lexer": "ipython3",
   "version": "3.9.10"
  }
 },
 "nbformat": 4,
 "nbformat_minor": 5
}
