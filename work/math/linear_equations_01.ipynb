{
 "cells": [
  {
   "cell_type": "code",
   "execution_count": null,
   "id": "1b1bc8ce-1e3a-40c1-9680-fc4c39a6d548",
   "metadata": {},
   "outputs": [],
   "source": [
    "import matplotlib.pyplot as plt\n",
    "import numpy as np"
   ]
  },
  {
   "cell_type": "markdown",
   "id": "08594c60-3491-4560-8ec4-9c4b0c8e26b1",
   "metadata": {},
   "source": [
    "# Linear Equations\n",
    "\n",
    "### n linear equations, n unknowns\n",
    "\n",
    "1. Row picture\n",
    "2. Column picture\n",
    "3. Matrix form\n",
    "\n",
    "```\n",
    "2x - y = 0\n",
    "-x + 2y = 3\n",
    "\n",
    "|  2  | -1  | 0\n",
    "| -1  |  2  | 3\n",
    "   A     X  = b   \n",
    "```"
   ]
  },
  {
   "cell_type": "code",
   "execution_count": null,
   "id": "00daa4a1-ca32-4906-8594-8c8b2c9cac1a",
   "metadata": {},
   "outputs": [],
   "source": [
    "square = lambda x: x ** 2\n",
    "x = range(100)\n",
    "y = list(map(square, x))\n",
    "fig = plt.figure(figsize = (10, 5))\n",
    "plt.plot(x, y, linewidth=5)\n",
    "plt.show()\n",
    "fig.tight_layout()\n",
    "fig.savefig('simple_linear_equation.png', dpi=100) "
   ]
  },
  {
   "cell_type": "code",
   "execution_count": null,
   "id": "776e7890-e991-4c56-8a36-bfadd5f6806f",
   "metadata": {},
   "outputs": [],
   "source": [
    "plt.plot([1, 2, 3, 4])\n",
    "plt.ylabel('Some numbers',fontsize=14)\n",
    "plt.show()"
   ]
  },
  {
   "cell_type": "code",
   "execution_count": null,
   "id": "2a927de6-dbb3-4077-b30b-40a242de07b8",
   "metadata": {},
   "outputs": [],
   "source": [
    "x_vector = np.array(range(10))\n",
    "y_vector = x_vector ** 2\n",
    "plt.plot(x_vector, y_vector, label=\"y = x**2\")\n",
    "plt.title(\"Simple Linear Equations\", fontsize=18)\n",
    "plt.grid(alpha=.4,linestyle='--')\n",
    "plt.tick_params(axis='both',labelsize=14)\n",
    "plt.xlabel(\"x\")\n",
    "plt.ylabel(\"y\")\n",
    "plt.legend()\n",
    "plt.show()"
   ]
  },
  {
   "cell_type": "code",
   "execution_count": null,
   "id": "14669c56-df5f-4b74-936a-3385ada3cce0",
   "metadata": {},
   "outputs": [],
   "source": [
    "x_vector = np.array(range(1, 100))\n",
    "y_vector = 1 / x_vector\n",
    "plt.plot(x_vector, y_vector, label=\"y = 1/x\")\n",
    "plt.legend()\n",
    "plt.show()"
   ]
  },
  {
   "cell_type": "code",
   "execution_count": null,
   "id": "9f198bdb-3093-44de-8142-976a96c84666",
   "metadata": {},
   "outputs": [],
   "source": [
    "x = np.arange(6)\n",
    "y = (2 * x) + 3\n",
    "\n",
    "plt.scatter(x, y, s=50, color=\"black\")\n",
    "plt.plot(x, y)\n",
    "plt.show()"
   ]
  }
 ],
 "metadata": {
  "kernelspec": {
   "display_name": "Python 3 (ipykernel)",
   "language": "python",
   "name": "python3"
  },
  "language_info": {
   "codemirror_mode": {
    "name": "ipython",
    "version": 3
   },
   "file_extension": ".py",
   "mimetype": "text/x-python",
   "name": "python",
   "nbconvert_exporter": "python",
   "pygments_lexer": "ipython3",
   "version": "3.9.10"
  }
 },
 "nbformat": 4,
 "nbformat_minor": 5
}
