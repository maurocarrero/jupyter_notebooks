{
 "cells": [
  {
   "cell_type": "markdown",
   "id": "6e4ee0ad-5a83-49c0-a915-f36ddf939113",
   "metadata": {
    "tags": []
   },
   "source": [
    "# Download table data using the BigQuery client library\n",
    "\n",
    "[Google Cloud Documentation](https://cloud.google.com/bigquery/docs/bigquery-storage-python-pandas?hl=en#download_table_data_using_the_client_library)"
   ]
  },
  {
   "cell_type": "markdown",
   "id": "cd8f8312-b3d1-4654-8872-83478acc5d89",
   "metadata": {
    "jp-MarkdownHeadingCollapsed": true,
    "tags": []
   },
   "source": [
    "### Install BigQuery library"
   ]
  },
  {
   "cell_type": "code",
   "execution_count": 1,
   "id": "f6aef275-2d7b-4175-a683-520868e7c2ca",
   "metadata": {},
   "outputs": [
    {
     "name": "stdout",
     "output_type": "stream",
     "text": [
      "Requirement already satisfied: google-cloud-bigquery[bqstorage,pandas] in /Users/mauro.carrero/projects/jupyter-notebooks/venv/lib/python3.7/site-packages (2.26.0)\n",
      "Requirement already satisfied: protobuf>=3.12.0 in /Users/mauro.carrero/projects/jupyter-notebooks/venv/lib/python3.7/site-packages (from google-cloud-bigquery[bqstorage,pandas]) (3.17.3)\n",
      "Requirement already satisfied: google-resumable-media<3.0dev,>=0.6.0 in /Users/mauro.carrero/projects/jupyter-notebooks/venv/lib/python3.7/site-packages (from google-cloud-bigquery[bqstorage,pandas]) (2.0.2)\n",
      "Requirement already satisfied: packaging>=14.3 in /Users/mauro.carrero/projects/jupyter-notebooks/venv/lib/python3.7/site-packages (from google-cloud-bigquery[bqstorage,pandas]) (21.0)\n",
      "Requirement already satisfied: google-api-core[grpc]<3.0.0dev,>=1.29.0 in /Users/mauro.carrero/projects/jupyter-notebooks/venv/lib/python3.7/site-packages (from google-cloud-bigquery[bqstorage,pandas]) (2.0.1)\n",
      "Requirement already satisfied: requests<3.0.0dev,>=2.18.0 in /Users/mauro.carrero/projects/jupyter-notebooks/venv/lib/python3.7/site-packages (from google-cloud-bigquery[bqstorage,pandas]) (2.26.0)\n",
      "Requirement already satisfied: proto-plus>=1.10.0 in /Users/mauro.carrero/projects/jupyter-notebooks/venv/lib/python3.7/site-packages (from google-cloud-bigquery[bqstorage,pandas]) (1.19.0)\n",
      "Requirement already satisfied: grpcio<2.0dev,>=1.38.1 in /Users/mauro.carrero/projects/jupyter-notebooks/venv/lib/python3.7/site-packages (from google-cloud-bigquery[bqstorage,pandas]) (1.39.0)\n",
      "Requirement already satisfied: google-cloud-core<3.0.0dev,>=1.4.1 in /Users/mauro.carrero/projects/jupyter-notebooks/venv/lib/python3.7/site-packages (from google-cloud-bigquery[bqstorage,pandas]) (2.0.0)\n",
      "Requirement already satisfied: google-cloud-bigquery-storage<3.0.0dev,>=2.0.0 in /Users/mauro.carrero/projects/jupyter-notebooks/venv/lib/python3.7/site-packages (from google-cloud-bigquery[bqstorage,pandas]) (2.7.0)\n",
      "Requirement already satisfied: pyarrow<6.0dev,>=3.0.0 in /Users/mauro.carrero/projects/jupyter-notebooks/venv/lib/python3.7/site-packages (from google-cloud-bigquery[bqstorage,pandas]) (5.0.0)\n",
      "Requirement already satisfied: pandas>=0.23.0 in /Users/mauro.carrero/projects/jupyter-notebooks/venv/lib/python3.7/site-packages (from google-cloud-bigquery[bqstorage,pandas]) (1.3.2)\n",
      "Requirement already satisfied: googleapis-common-protos<2.0dev,>=1.6.0 in /Users/mauro.carrero/projects/jupyter-notebooks/venv/lib/python3.7/site-packages (from google-api-core[grpc]<3.0.0dev,>=1.29.0->google-cloud-bigquery[bqstorage,pandas]) (1.53.0)\n",
      "Requirement already satisfied: google-auth<3.0dev,>=1.25.0 in /Users/mauro.carrero/projects/jupyter-notebooks/venv/lib/python3.7/site-packages (from google-api-core[grpc]<3.0.0dev,>=1.29.0->google-cloud-bigquery[bqstorage,pandas]) (2.0.2)\n",
      "Requirement already satisfied: setuptools>=40.3.0 in /Users/mauro.carrero/projects/jupyter-notebooks/venv/lib/python3.7/site-packages (from google-api-core[grpc]<3.0.0dev,>=1.29.0->google-cloud-bigquery[bqstorage,pandas]) (47.1.0)\n",
      "Requirement already satisfied: pyasn1-modules>=0.2.1 in /Users/mauro.carrero/projects/jupyter-notebooks/venv/lib/python3.7/site-packages (from google-auth<3.0dev,>=1.25.0->google-api-core[grpc]<3.0.0dev,>=1.29.0->google-cloud-bigquery[bqstorage,pandas]) (0.2.8)\n",
      "Requirement already satisfied: rsa<5,>=3.1.4 in /Users/mauro.carrero/projects/jupyter-notebooks/venv/lib/python3.7/site-packages (from google-auth<3.0dev,>=1.25.0->google-api-core[grpc]<3.0.0dev,>=1.29.0->google-cloud-bigquery[bqstorage,pandas]) (4.7.2)\n",
      "Requirement already satisfied: cachetools<5.0,>=2.0.0 in /Users/mauro.carrero/projects/jupyter-notebooks/venv/lib/python3.7/site-packages (from google-auth<3.0dev,>=1.25.0->google-api-core[grpc]<3.0.0dev,>=1.29.0->google-cloud-bigquery[bqstorage,pandas]) (4.2.2)\n",
      "Requirement already satisfied: libcst>=0.2.5 in /Users/mauro.carrero/projects/jupyter-notebooks/venv/lib/python3.7/site-packages (from google-cloud-bigquery-storage<3.0.0dev,>=2.0.0->google-cloud-bigquery[bqstorage,pandas]) (0.3.20)\n",
      "Requirement already satisfied: google-crc32c<=1.1.2,>=1.0 in /Users/mauro.carrero/projects/jupyter-notebooks/venv/lib/python3.7/site-packages (from google-resumable-media<3.0dev,>=0.6.0->google-cloud-bigquery[bqstorage,pandas]) (1.1.2)\n",
      "Requirement already satisfied: cffi>=1.0.0 in /Users/mauro.carrero/projects/jupyter-notebooks/venv/lib/python3.7/site-packages (from google-crc32c<=1.1.2,>=1.0->google-resumable-media<3.0dev,>=0.6.0->google-cloud-bigquery[bqstorage,pandas]) (1.14.6)\n",
      "Requirement already satisfied: pycparser in /Users/mauro.carrero/projects/jupyter-notebooks/venv/lib/python3.7/site-packages (from cffi>=1.0.0->google-crc32c<=1.1.2,>=1.0->google-resumable-media<3.0dev,>=0.6.0->google-cloud-bigquery[bqstorage,pandas]) (2.20)\n",
      "Requirement already satisfied: six>=1.5.2 in /Users/mauro.carrero/projects/jupyter-notebooks/venv/lib/python3.7/site-packages (from grpcio<2.0dev,>=1.38.1->google-cloud-bigquery[bqstorage,pandas]) (1.16.0)\n",
      "Requirement already satisfied: pyyaml>=5.2 in /Users/mauro.carrero/projects/jupyter-notebooks/venv/lib/python3.7/site-packages (from libcst>=0.2.5->google-cloud-bigquery-storage<3.0.0dev,>=2.0.0->google-cloud-bigquery[bqstorage,pandas]) (5.4.1)\n",
      "Requirement already satisfied: typing-inspect>=0.4.0 in /Users/mauro.carrero/projects/jupyter-notebooks/venv/lib/python3.7/site-packages (from libcst>=0.2.5->google-cloud-bigquery-storage<3.0.0dev,>=2.0.0->google-cloud-bigquery[bqstorage,pandas]) (0.7.1)\n",
      "Requirement already satisfied: typing-extensions>=3.7.4.2 in /Users/mauro.carrero/projects/jupyter-notebooks/venv/lib/python3.7/site-packages (from libcst>=0.2.5->google-cloud-bigquery-storage<3.0.0dev,>=2.0.0->google-cloud-bigquery[bqstorage,pandas]) (3.10.0.2)\n",
      "Requirement already satisfied: pyparsing>=2.0.2 in /Users/mauro.carrero/projects/jupyter-notebooks/venv/lib/python3.7/site-packages (from packaging>=14.3->google-cloud-bigquery[bqstorage,pandas]) (2.4.7)\n",
      "Requirement already satisfied: python-dateutil>=2.7.3 in /Users/mauro.carrero/projects/jupyter-notebooks/venv/lib/python3.7/site-packages (from pandas>=0.23.0->google-cloud-bigquery[bqstorage,pandas]) (2.8.2)\n",
      "Requirement already satisfied: numpy>=1.17.3 in /Users/mauro.carrero/projects/jupyter-notebooks/venv/lib/python3.7/site-packages (from pandas>=0.23.0->google-cloud-bigquery[bqstorage,pandas]) (1.21.2)\n",
      "Requirement already satisfied: pytz>=2017.3 in /Users/mauro.carrero/projects/jupyter-notebooks/venv/lib/python3.7/site-packages (from pandas>=0.23.0->google-cloud-bigquery[bqstorage,pandas]) (2021.1)\n",
      "Requirement already satisfied: pyasn1<0.5.0,>=0.4.6 in /Users/mauro.carrero/projects/jupyter-notebooks/venv/lib/python3.7/site-packages (from pyasn1-modules>=0.2.1->google-auth<3.0dev,>=1.25.0->google-api-core[grpc]<3.0.0dev,>=1.29.0->google-cloud-bigquery[bqstorage,pandas]) (0.4.8)\n",
      "Requirement already satisfied: urllib3<1.27,>=1.21.1 in /Users/mauro.carrero/projects/jupyter-notebooks/venv/lib/python3.7/site-packages (from requests<3.0.0dev,>=2.18.0->google-cloud-bigquery[bqstorage,pandas]) (1.26.6)\n",
      "Requirement already satisfied: certifi>=2017.4.17 in /Users/mauro.carrero/projects/jupyter-notebooks/venv/lib/python3.7/site-packages (from requests<3.0.0dev,>=2.18.0->google-cloud-bigquery[bqstorage,pandas]) (2021.5.30)\n",
      "Requirement already satisfied: idna<4,>=2.5 in /Users/mauro.carrero/projects/jupyter-notebooks/venv/lib/python3.7/site-packages (from requests<3.0.0dev,>=2.18.0->google-cloud-bigquery[bqstorage,pandas]) (3.2)\n",
      "Requirement already satisfied: charset-normalizer~=2.0.0 in /Users/mauro.carrero/projects/jupyter-notebooks/venv/lib/python3.7/site-packages (from requests<3.0.0dev,>=2.18.0->google-cloud-bigquery[bqstorage,pandas]) (2.0.4)\n",
      "Requirement already satisfied: mypy-extensions>=0.3.0 in /Users/mauro.carrero/projects/jupyter-notebooks/venv/lib/python3.7/site-packages (from typing-inspect>=0.4.0->libcst>=0.2.5->google-cloud-bigquery-storage<3.0.0dev,>=2.0.0->google-cloud-bigquery[bqstorage,pandas]) (0.4.3)\n",
      "Note: you may need to restart the kernel to use updated packages.\n"
     ]
    }
   ],
   "source": [
    "pip install --upgrade \"google-cloud-bigquery[bqstorage,pandas]\""
   ]
  },
  {
   "cell_type": "markdown",
   "id": "c543508a-5de6-4f02-9c09-129ba5e3ab8b",
   "metadata": {
    "tags": []
   },
   "source": [
    "### Download all rows into a DataFrame\n",
    "\n",
    "Download all rows in a table by using the [list_rows](https://googleapis.dev/python/bigquery/latest/generated/google.cloud.bigquery.client.Client.html#google.cloud.bigquery.client.Client.list_rows) method, which returns a [RowIterator](https://googleapis.dev/python/bigquery/latest/generated/google.cloud.bigquery.table.RowIterator.html#google.cloud.bigquery.table.RowIterator) object. Download rows by using the BigQuery Storage API by calling the [to_dataframe](https://googleapis.dev/python/bigquery/latest/generated/google.cloud.bigquery.table.RowIterator.html#google.cloud.bigquery.table.RowIterator.to_dataframe) method with the bqstorage_client argument."
   ]
  },
  {
   "cell_type": "code",
   "execution_count": 2,
   "id": "1051fff2-4db2-4ca5-98c2-63110a79243f",
   "metadata": {},
   "outputs": [
    {
     "name": "stdout",
     "output_type": "stream",
     "text": [
      "       country_name fips_code\n",
      "0          Akrotiri        AX\n",
      "1   Bassas da India        BS\n",
      "2          Dhekelia        DX\n",
      "3     Europa Island        EU\n",
      "4  Glorioso Islands        GO\n"
     ]
    }
   ],
   "source": [
    "from google.cloud import bigquery\n",
    "\n",
    "bq_client = bigquery.Client()\n",
    "\n",
    "# Download a table.\n",
    "table = bigquery.TableReference.from_string(\n",
    "    \"bigquery-public-data.utility_us.country_code_iso\"\n",
    ")\n",
    "rows = bq_client.list_rows(\n",
    "    table,\n",
    "    selected_fields = [\n",
    "        bigquery.SchemaField(\"country_name\", \"STRING\"),\n",
    "        bigquery.SchemaField(\"fips_code\", \"STRING\")\n",
    "    ]\n",
    ")\n",
    "df = rows.to_dataframe(\n",
    "    # Optionally, explicitly request to use the BigQuery Storage API. As of\n",
    "    # google-cloud-bigquery version 1.26.0 and above, the BigQuery Storage\n",
    "    # API is used by default.\n",
    "    # create_bqstorage_client=True\n",
    ")\n",
    "print(df.head())"
   ]
  }
 ],
 "metadata": {
  "kernelspec": {
   "display_name": "Python 3 (ipykernel)",
   "language": "python",
   "name": "python3"
  },
  "language_info": {
   "codemirror_mode": {
    "name": "ipython",
    "version": 3
   },
   "file_extension": ".py",
   "mimetype": "text/x-python",
   "name": "python",
   "nbconvert_exporter": "python",
   "pygments_lexer": "ipython3",
   "version": "3.7.9"
  }
 },
 "nbformat": 4,
 "nbformat_minor": 5
}
