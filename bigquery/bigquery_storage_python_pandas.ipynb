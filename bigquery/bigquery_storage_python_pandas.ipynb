{
 "cells": [
  {
   "cell_type": "markdown",
   "id": "40cadb6a-7639-4ebe-9260-589415106a33",
   "metadata": {
    "tags": []
   },
   "source": [
    "# Downloading BigQuery data to pandas using the BigQuery Storage API\n",
    "[bigquery-storage-python-pandas](https://cloud.google.com/bigquery/docs/bigquery-storage-python-pandas?hl=en)"
   ]
  },
  {
   "cell_type": "markdown",
   "id": "d4297272-faf5-4a0f-b587-031bac5247f2",
   "metadata": {
    "jp-MarkdownHeadingCollapsed": true,
    "tags": []
   },
   "source": [
    "### Install bigquery and pandas"
   ]
  },
  {
   "cell_type": "code",
   "execution_count": 1,
   "id": "df2c083e-9032-44f7-a6c9-334ce740bbce",
   "metadata": {},
   "outputs": [
    {
     "name": "stdout",
     "output_type": "stream",
     "text": [
      "Requirement already satisfied: google-cloud-bigquery[bqstorage,pandas] in /Users/mauro.carrero/projects/jupyter-notebooks/venv/lib/python3.7/site-packages (2.26.0)\n",
      "Requirement already satisfied: grpcio<2.0dev,>=1.38.1 in /Users/mauro.carrero/projects/jupyter-notebooks/venv/lib/python3.7/site-packages (from google-cloud-bigquery[bqstorage,pandas]) (1.39.0)\n",
      "Requirement already satisfied: google-api-core[grpc]<3.0.0dev,>=1.29.0 in /Users/mauro.carrero/projects/jupyter-notebooks/venv/lib/python3.7/site-packages (from google-cloud-bigquery[bqstorage,pandas]) (2.0.1)\n",
      "Requirement already satisfied: packaging>=14.3 in /Users/mauro.carrero/projects/jupyter-notebooks/venv/lib/python3.7/site-packages (from google-cloud-bigquery[bqstorage,pandas]) (21.0)\n",
      "Requirement already satisfied: google-cloud-core<3.0.0dev,>=1.4.1 in /Users/mauro.carrero/projects/jupyter-notebooks/venv/lib/python3.7/site-packages (from google-cloud-bigquery[bqstorage,pandas]) (2.0.0)\n",
      "Requirement already satisfied: google-resumable-media<3.0dev,>=0.6.0 in /Users/mauro.carrero/projects/jupyter-notebooks/venv/lib/python3.7/site-packages (from google-cloud-bigquery[bqstorage,pandas]) (2.0.2)\n",
      "Requirement already satisfied: requests<3.0.0dev,>=2.18.0 in /Users/mauro.carrero/projects/jupyter-notebooks/venv/lib/python3.7/site-packages (from google-cloud-bigquery[bqstorage,pandas]) (2.26.0)\n",
      "Requirement already satisfied: proto-plus>=1.10.0 in /Users/mauro.carrero/projects/jupyter-notebooks/venv/lib/python3.7/site-packages (from google-cloud-bigquery[bqstorage,pandas]) (1.19.0)\n",
      "Requirement already satisfied: protobuf>=3.12.0 in /Users/mauro.carrero/projects/jupyter-notebooks/venv/lib/python3.7/site-packages (from google-cloud-bigquery[bqstorage,pandas]) (3.17.3)\n",
      "Requirement already satisfied: pyarrow<6.0dev,>=3.0.0 in /Users/mauro.carrero/projects/jupyter-notebooks/venv/lib/python3.7/site-packages (from google-cloud-bigquery[bqstorage,pandas]) (5.0.0)\n",
      "Requirement already satisfied: pandas>=0.23.0 in /Users/mauro.carrero/projects/jupyter-notebooks/venv/lib/python3.7/site-packages (from google-cloud-bigquery[bqstorage,pandas]) (1.3.2)\n",
      "Requirement already satisfied: google-cloud-bigquery-storage<3.0.0dev,>=2.0.0 in /Users/mauro.carrero/projects/jupyter-notebooks/venv/lib/python3.7/site-packages (from google-cloud-bigquery[bqstorage,pandas]) (2.7.0)\n",
      "Requirement already satisfied: googleapis-common-protos<2.0dev,>=1.6.0 in /Users/mauro.carrero/projects/jupyter-notebooks/venv/lib/python3.7/site-packages (from google-api-core[grpc]<3.0.0dev,>=1.29.0->google-cloud-bigquery[bqstorage,pandas]) (1.53.0)\n",
      "Requirement already satisfied: google-auth<3.0dev,>=1.25.0 in /Users/mauro.carrero/projects/jupyter-notebooks/venv/lib/python3.7/site-packages (from google-api-core[grpc]<3.0.0dev,>=1.29.0->google-cloud-bigquery[bqstorage,pandas]) (2.0.2)\n",
      "Requirement already satisfied: setuptools>=40.3.0 in /Users/mauro.carrero/projects/jupyter-notebooks/venv/lib/python3.7/site-packages (from google-api-core[grpc]<3.0.0dev,>=1.29.0->google-cloud-bigquery[bqstorage,pandas]) (47.1.0)\n",
      "Requirement already satisfied: pyasn1-modules>=0.2.1 in /Users/mauro.carrero/projects/jupyter-notebooks/venv/lib/python3.7/site-packages (from google-auth<3.0dev,>=1.25.0->google-api-core[grpc]<3.0.0dev,>=1.29.0->google-cloud-bigquery[bqstorage,pandas]) (0.2.8)\n",
      "Requirement already satisfied: cachetools<5.0,>=2.0.0 in /Users/mauro.carrero/projects/jupyter-notebooks/venv/lib/python3.7/site-packages (from google-auth<3.0dev,>=1.25.0->google-api-core[grpc]<3.0.0dev,>=1.29.0->google-cloud-bigquery[bqstorage,pandas]) (4.2.2)\n",
      "Requirement already satisfied: rsa<5,>=3.1.4 in /Users/mauro.carrero/projects/jupyter-notebooks/venv/lib/python3.7/site-packages (from google-auth<3.0dev,>=1.25.0->google-api-core[grpc]<3.0.0dev,>=1.29.0->google-cloud-bigquery[bqstorage,pandas]) (4.7.2)\n",
      "Requirement already satisfied: libcst>=0.2.5 in /Users/mauro.carrero/projects/jupyter-notebooks/venv/lib/python3.7/site-packages (from google-cloud-bigquery-storage<3.0.0dev,>=2.0.0->google-cloud-bigquery[bqstorage,pandas]) (0.3.20)\n",
      "Requirement already satisfied: google-crc32c<=1.1.2,>=1.0 in /Users/mauro.carrero/projects/jupyter-notebooks/venv/lib/python3.7/site-packages (from google-resumable-media<3.0dev,>=0.6.0->google-cloud-bigquery[bqstorage,pandas]) (1.1.2)\n",
      "Requirement already satisfied: cffi>=1.0.0 in /Users/mauro.carrero/projects/jupyter-notebooks/venv/lib/python3.7/site-packages (from google-crc32c<=1.1.2,>=1.0->google-resumable-media<3.0dev,>=0.6.0->google-cloud-bigquery[bqstorage,pandas]) (1.14.6)\n",
      "Requirement already satisfied: pycparser in /Users/mauro.carrero/projects/jupyter-notebooks/venv/lib/python3.7/site-packages (from cffi>=1.0.0->google-crc32c<=1.1.2,>=1.0->google-resumable-media<3.0dev,>=0.6.0->google-cloud-bigquery[bqstorage,pandas]) (2.20)\n",
      "Requirement already satisfied: six>=1.5.2 in /Users/mauro.carrero/projects/jupyter-notebooks/venv/lib/python3.7/site-packages (from grpcio<2.0dev,>=1.38.1->google-cloud-bigquery[bqstorage,pandas]) (1.16.0)\n",
      "Requirement already satisfied: typing-extensions>=3.7.4.2 in /Users/mauro.carrero/projects/jupyter-notebooks/venv/lib/python3.7/site-packages (from libcst>=0.2.5->google-cloud-bigquery-storage<3.0.0dev,>=2.0.0->google-cloud-bigquery[bqstorage,pandas]) (3.10.0.2)\n",
      "Requirement already satisfied: typing-inspect>=0.4.0 in /Users/mauro.carrero/projects/jupyter-notebooks/venv/lib/python3.7/site-packages (from libcst>=0.2.5->google-cloud-bigquery-storage<3.0.0dev,>=2.0.0->google-cloud-bigquery[bqstorage,pandas]) (0.7.1)\n",
      "Requirement already satisfied: pyyaml>=5.2 in /Users/mauro.carrero/projects/jupyter-notebooks/venv/lib/python3.7/site-packages (from libcst>=0.2.5->google-cloud-bigquery-storage<3.0.0dev,>=2.0.0->google-cloud-bigquery[bqstorage,pandas]) (5.4.1)\n",
      "Requirement already satisfied: pyparsing>=2.0.2 in /Users/mauro.carrero/projects/jupyter-notebooks/venv/lib/python3.7/site-packages (from packaging>=14.3->google-cloud-bigquery[bqstorage,pandas]) (2.4.7)\n",
      "Requirement already satisfied: numpy>=1.17.3 in /Users/mauro.carrero/projects/jupyter-notebooks/venv/lib/python3.7/site-packages (from pandas>=0.23.0->google-cloud-bigquery[bqstorage,pandas]) (1.21.2)\n",
      "Requirement already satisfied: python-dateutil>=2.7.3 in /Users/mauro.carrero/projects/jupyter-notebooks/venv/lib/python3.7/site-packages (from pandas>=0.23.0->google-cloud-bigquery[bqstorage,pandas]) (2.8.2)\n",
      "Requirement already satisfied: pytz>=2017.3 in /Users/mauro.carrero/projects/jupyter-notebooks/venv/lib/python3.7/site-packages (from pandas>=0.23.0->google-cloud-bigquery[bqstorage,pandas]) (2021.1)\n",
      "Requirement already satisfied: pyasn1<0.5.0,>=0.4.6 in /Users/mauro.carrero/projects/jupyter-notebooks/venv/lib/python3.7/site-packages (from pyasn1-modules>=0.2.1->google-auth<3.0dev,>=1.25.0->google-api-core[grpc]<3.0.0dev,>=1.29.0->google-cloud-bigquery[bqstorage,pandas]) (0.4.8)\n",
      "Requirement already satisfied: urllib3<1.27,>=1.21.1 in /Users/mauro.carrero/projects/jupyter-notebooks/venv/lib/python3.7/site-packages (from requests<3.0.0dev,>=2.18.0->google-cloud-bigquery[bqstorage,pandas]) (1.26.6)\n",
      "Requirement already satisfied: idna<4,>=2.5 in /Users/mauro.carrero/projects/jupyter-notebooks/venv/lib/python3.7/site-packages (from requests<3.0.0dev,>=2.18.0->google-cloud-bigquery[bqstorage,pandas]) (3.2)\n",
      "Requirement already satisfied: charset-normalizer~=2.0.0 in /Users/mauro.carrero/projects/jupyter-notebooks/venv/lib/python3.7/site-packages (from requests<3.0.0dev,>=2.18.0->google-cloud-bigquery[bqstorage,pandas]) (2.0.4)\n",
      "Requirement already satisfied: certifi>=2017.4.17 in /Users/mauro.carrero/projects/jupyter-notebooks/venv/lib/python3.7/site-packages (from requests<3.0.0dev,>=2.18.0->google-cloud-bigquery[bqstorage,pandas]) (2021.5.30)\n",
      "Requirement already satisfied: mypy-extensions>=0.3.0 in /Users/mauro.carrero/projects/jupyter-notebooks/venv/lib/python3.7/site-packages (from typing-inspect>=0.4.0->libcst>=0.2.5->google-cloud-bigquery-storage<3.0.0dev,>=2.0.0->google-cloud-bigquery[bqstorage,pandas]) (0.4.3)\n",
      "Note: you may need to restart the kernel to use updated packages.\n"
     ]
    }
   ],
   "source": [
    "pip install --upgrade \"google-cloud-bigquery[bqstorage,pandas]\""
   ]
  },
  {
   "cell_type": "markdown",
   "id": "a8558141-40cc-4942-b7eb-d120ca4e0eb0",
   "metadata": {
    "jp-MarkdownHeadingCollapsed": true,
    "tags": []
   },
   "source": [
    "### Load extensions\n",
    "Load the IPython magics for BigQuery using the [%load_ext magic](https://ipython.readthedocs.io/en/stable/config/extensions/index.html?highlight=load_ext#using-extensions) extension."
   ]
  },
  {
   "cell_type": "code",
   "execution_count": 2,
   "id": "2e4300a9-b43a-4eeb-84ab-018fb9e2d18a",
   "metadata": {},
   "outputs": [],
   "source": [
    "%load_ext google.cloud.bigquery"
   ]
  },
  {
   "cell_type": "markdown",
   "id": "fd7a3858-6c3b-44fe-bb89-121bed16a269",
   "metadata": {
    "jp-MarkdownHeadingCollapsed": true,
    "tags": []
   },
   "source": [
    "### Wait for the query to finish and download the results by using the BigQuery Storage API."
   ]
  },
  {
   "cell_type": "code",
   "execution_count": 3,
   "id": "baa52e83-9aae-47e9-8881-45577a81dc91",
   "metadata": {},
   "outputs": [
    {
     "name": "stdout",
     "output_type": "stream",
     "text": [
      "                                            url  view_count\n",
      "0  https://stackoverflow.com/questions/35159967       98375\n",
      "1  https://stackoverflow.com/questions/22879669       93709\n",
      "2  https://stackoverflow.com/questions/10604135       92234\n",
      "3  https://stackoverflow.com/questions/27060396       74756\n",
      "4  https://stackoverflow.com/questions/11057219       68921\n"
     ]
    }
   ],
   "source": [
    "from google.cloud import bigquery\n",
    "\n",
    "bq_client = bigquery.Client()\n",
    "\n",
    "# Download query results.\n",
    "query_string = \"\"\"\n",
    "SELECT\n",
    "CONCAT(\n",
    "    'https://stackoverflow.com/questions/',\n",
    "    CAST(id as STRING)) as url,\n",
    "view_count\n",
    "FROM `bigquery-public-data.stackoverflow.posts_questions`\n",
    "WHERE tags like '%google-bigquery%'\n",
    "ORDER BY view_count DESC\n",
    "\"\"\"\n",
    "\n",
    "df = (\n",
    "    bq_client.query(query_string)\n",
    "        .result()\n",
    "        .to_dataframe(\n",
    "            # Optionally, explicitly request to use the BigQuery Storage API. As of\n",
    "            # google-cloud-bigquery version 1.26.0 and above, the BigQuery Storage\n",
    "            # API is used by default.\n",
    "            create_bqstorage_client=True\n",
    "        )\n",
    ")\n",
    "print(df.head())"
   ]
  }
 ],
 "metadata": {
  "kernelspec": {
   "display_name": "Python 3 (ipykernel)",
   "language": "python",
   "name": "python3"
  },
  "language_info": {
   "codemirror_mode": {
    "name": "ipython",
    "version": 3
   },
   "file_extension": ".py",
   "mimetype": "text/x-python",
   "name": "python",
   "nbconvert_exporter": "python",
   "pygments_lexer": "ipython3",
   "version": "3.9.6"
  }
 },
 "nbformat": 4,
 "nbformat_minor": 5
}
