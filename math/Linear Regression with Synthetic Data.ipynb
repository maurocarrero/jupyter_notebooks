{
 "cells": [
  {
   "cell_type": "markdown",
   "id": "9b6ec477-b59a-43dd-aaff-e3258fa6f47a",
   "metadata": {},
   "source": [
    "# Linear Regression with Synthetic Data\n",
    "[REF](https://colab.research.google.com/github/google/eng-edu/blob/main/ml/cc/exercises/linear_regression_with_synthetic_data.ipynb?utm_source=mlcc&utm_campaign=colab-external&utm_medium=referral&utm_content=linear_regression_synthetic_tf2-colab&hl=en)"
   ]
  },
  {
   "cell_type": "code",
   "execution_count": null,
   "id": "d6a6800c-18b6-4fed-8d0f-4bea493eb184",
   "metadata": {},
   "outputs": [],
   "source": []
  }
 ],
 "metadata": {
  "kernelspec": {
   "display_name": "Python 3",
   "language": "python",
   "name": "python3"
  },
  "language_info": {
   "codemirror_mode": {
    "name": "ipython",
    "version": 3
   },
   "file_extension": ".py",
   "mimetype": "text/x-python",
   "name": "python",
   "nbconvert_exporter": "python",
   "pygments_lexer": "ipython3",
   "version": "3.7.9"
  }
 },
 "nbformat": 4,
 "nbformat_minor": 5
}
