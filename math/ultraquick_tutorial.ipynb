{
 "cells": [
  {
   "cell_type": "markdown",
   "id": "5f11fcd1-6e4d-4200-a2e9-095e3b7e5082",
   "metadata": {
    "tags": []
   },
   "source": [
    "# Ultraquick Tutorial\n",
    "[numpy_ultraquick_tutorial](https://colab.research.google.com/github/google/eng-edu/blob/main/ml/cc/exercises/numpy_ultraquick_tutorial.ipynb?utm_source=mlcc&utm_campaign=colab-external&utm_medium=referral&utm_content=numpy_tf2-colab&hl=en#scrollTo=tYjvXmvFPoPB)"
   ]
  },
  {
   "cell_type": "code",
   "execution_count": 1,
   "id": "d0f71a4d-1c7f-4162-8454-ffc538023d1c",
   "metadata": {},
   "outputs": [],
   "source": [
    "import numpy as np"
   ]
  },
  {
   "cell_type": "code",
   "execution_count": 2,
   "id": "568e6fba-13ac-48de-9926-018d024326f0",
   "metadata": {},
   "outputs": [
    {
     "name": "stdout",
     "output_type": "stream",
     "text": [
      "[1.2 2.4 3.5 4.7 6.1 7.2 8.3 9.5]\n"
     ]
    }
   ],
   "source": [
    "one_dimensional_array = np.array([1.2, 2.4, 3.5, 4.7, 6.1, 7.2, 8.3, 9.5])\n",
    "print(one_dimensional_array)"
   ]
  },
  {
   "cell_type": "code",
   "execution_count": 3,
   "id": "bb7f5815-866c-4034-b415-e402ba4051d7",
   "metadata": {},
   "outputs": [
    {
     "name": "stdout",
     "output_type": "stream",
     "text": [
      "[[ 6  5]\n",
      " [11  7]\n",
      " [ 4  8]]\n"
     ]
    }
   ],
   "source": [
    "two_dimensional_array = np.array([[6, 5], [11, 7], [4, 8]])\n",
    "print(two_dimensional_array)"
   ]
  },
  {
   "cell_type": "code",
   "execution_count": 4,
   "id": "64e3092d-c856-46fb-9f48-442e2f7258bb",
   "metadata": {},
   "outputs": [
    {
     "name": "stdout",
     "output_type": "stream",
     "text": [
      "[ 5  6  7  8  9 10 11]\n"
     ]
    }
   ],
   "source": [
    "sequence_of_integers = np.arange(5, 12)\n",
    "print(sequence_of_integers)"
   ]
  },
  {
   "cell_type": "code",
   "execution_count": 5,
   "id": "f37c192f-388f-4f55-93b2-752d07754fe9",
   "metadata": {},
   "outputs": [
    {
     "name": "stdout",
     "output_type": "stream",
     "text": [
      "[60 52 63 54 63 87 70]\n"
     ]
    }
   ],
   "source": [
    "random_integers_between_50_and_100 = np.random.randint(low=50,high=101,size=7)\n",
    "print(random_integers_between_50_and_100)"
   ]
  },
  {
   "cell_type": "code",
   "execution_count": 6,
   "id": "6191cc66-14dd-40bb-82b8-affb21f0d196",
   "metadata": {},
   "outputs": [
    {
     "name": "stdout",
     "output_type": "stream",
     "text": [
      "[0.69349745 0.23512699 0.40459645 0.71149889 0.70619233 0.60974385]\n"
     ]
    }
   ],
   "source": [
    "random_floats_between_0_and_1 = np.random.random([6])\n",
    "print(random_floats_between_0_and_1)"
   ]
  },
  {
   "cell_type": "code",
   "execution_count": 7,
   "id": "817e7900-fc38-4390-b88d-54849c46c09f",
   "metadata": {},
   "outputs": [
    {
     "name": "stdout",
     "output_type": "stream",
     "text": [
      "[2.69349745 2.23512699 2.40459645 2.71149889 2.70619233 2.60974385]\n"
     ]
    }
   ],
   "source": [
    "random_floats_between_2_and_3 = random_floats_between_0_and_1 + 2.0\n",
    "print(random_floats_between_2_and_3)"
   ]
  },
  {
   "cell_type": "code",
   "execution_count": 8,
   "id": "d17dd5c1-99da-4213-8e79-388c0b701bf0",
   "metadata": {},
   "outputs": [
    {
     "name": "stdout",
     "output_type": "stream",
     "text": [
      "[180 156 189 162 189 261 210]\n"
     ]
    }
   ],
   "source": [
    "random_integers_between_150_and_300 = random_integers_between_50_and_100 * 3\n",
    "print(random_integers_between_150_and_300)"
   ]
  },
  {
   "cell_type": "markdown",
   "id": "a7d1a749-92fd-4f67-a7d4-be1281031979",
   "metadata": {},
   "source": [
    "## Create a linear dataset"
   ]
  },
  {
   "cell_type": "code",
   "execution_count": 9,
   "id": "e38a2efd-bffe-48ed-8f0a-82cb9ad1f082",
   "metadata": {},
   "outputs": [
    {
     "name": "stdout",
     "output_type": "stream",
     "text": [
      "[ 6  7  8  9 10 11 12 13 14 15 16 17 18 19 20]\n"
     ]
    }
   ],
   "source": [
    "feature = np.arange(6, 21)\n",
    "print(feature)"
   ]
  },
  {
   "cell_type": "code",
   "execution_count": 10,
   "id": "b50eea0b-8f94-479c-b25a-461e5e22f8fa",
   "metadata": {},
   "outputs": [
    {
     "name": "stdout",
     "output_type": "stream",
     "text": [
      "[22 25 28 31 34 37 40 43 46 49 52 55 58 61 64]\n"
     ]
    }
   ],
   "source": [
    "label = (3 * feature) + 4\n",
    "print(label)"
   ]
  },
  {
   "cell_type": "code",
   "execution_count": 11,
   "id": "1efb2578-0a00-4183-a4b9-d32b0fff5a48",
   "metadata": {},
   "outputs": [
    {
     "name": "stdout",
     "output_type": "stream",
     "text": [
      "[-1.69255633  0.95278343 -0.48589041  0.25448119 -1.15237641 -1.53515354\n",
      "  0.9282458  -1.37046733 -1.33428868  0.56137359 -1.04634561  0.15139504\n",
      "  1.52572804 -1.77764557  0.28577937]\n"
     ]
    }
   ],
   "source": [
    "noise = (np.random.random([15]) * 4) - 2 # Float between -2 and 2\n",
    "print(noise)"
   ]
  },
  {
   "cell_type": "code",
   "execution_count": 12,
   "id": "91553213-8ea4-4493-ad80-1f7d74d71198",
   "metadata": {},
   "outputs": [
    {
     "name": "stdout",
     "output_type": "stream",
     "text": [
      "[20.30744367 25.95278343 27.51410959 31.25448119 32.84762359 35.46484646\n",
      " 40.9282458  41.62953267 44.66571132 49.56137359 50.95365439 55.15139504\n",
      " 59.52572804 59.22235443 64.28577937]\n"
     ]
    }
   ],
   "source": [
    "label = label + noise # add some noise to the label\n",
    "print(label)"
   ]
  },
  {
   "cell_type": "code",
   "execution_count": null,
   "id": "1acc2077-dbe6-4eed-8805-72183cc5f2ba",
   "metadata": {},
   "outputs": [],
   "source": []
  }
 ],
 "metadata": {
  "kernelspec": {
   "display_name": "Python 3",
   "language": "python",
   "name": "python3"
  },
  "language_info": {
   "codemirror_mode": {
    "name": "ipython",
    "version": 3
   },
   "file_extension": ".py",
   "mimetype": "text/x-python",
   "name": "python",
   "nbconvert_exporter": "python",
   "pygments_lexer": "ipython3",
   "version": "3.7.9"
  }
 },
 "nbformat": 4,
 "nbformat_minor": 5
}
